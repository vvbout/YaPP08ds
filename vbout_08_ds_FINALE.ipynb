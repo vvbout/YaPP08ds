{
 "cells": [
  {
   "cell_type": "markdown",
   "metadata": {},
   "source": [
    "# Определение токсичности правок пользователей"
   ]
  },
  {
   "cell_type": "markdown",
   "metadata": {},
   "source": [
    "Интернет-магазин запускает новый сервис. Теперь пользователи могут редактировать и дополнять описания товаров. То есть клиенты предлагают свои правки и комментируют изменения других. Магазину нужен инструмент, который будет искать токсичные комментарии и отправлять их на модерацию. \n",
    "\n",
    "**Задача пректа:**\n",
    "\n",
    "* на основе набора данных с разметкой о токсичности правок обучить модель классифицировать комментарии на позитивные и негативные.\n",
    "* Построить модель со значением метрики качества *F1* не меньше 0.75. \n",
    "\n",
    "**Инструкция по выполнению проекта**\n",
    "\n",
    "1. Загрузите и подготовьте данные.\n",
    "2. Обучите разные модели. \n",
    "3. Сделайте выводы.\n",
    "\n",
    "**Описание данных**\n",
    "\n",
    "* Данные находятся в файле `toxic_comments.csv`.\n",
    "* Столбец *text* содержит текст комментария.\n",
    "* Столбец *toxic* содержит целевой признак."
   ]
  },
  {
   "cell_type": "markdown",
   "metadata": {},
   "source": [
    "## Подготовка"
   ]
  },
  {
   "cell_type": "markdown",
   "metadata": {},
   "source": [
    "### Загрузка данных"
   ]
  },
  {
   "cell_type": "code",
   "execution_count": 1,
   "metadata": {},
   "outputs": [
    {
     "name": "stdout",
     "output_type": "stream",
     "text": [
      "Requirement already satisfied: wordcloud in c:\\users\\vb\\anaconda3\\lib\\site-packages (1.8.2.2)\n",
      "Requirement already satisfied: numpy>=1.6.1 in c:\\users\\vb\\anaconda3\\lib\\site-packages (from wordcloud) (1.20.3)\n",
      "Requirement already satisfied: matplotlib in c:\\users\\vb\\anaconda3\\lib\\site-packages (from wordcloud) (3.4.3)\n",
      "Requirement already satisfied: pillow in c:\\users\\vb\\anaconda3\\lib\\site-packages (from wordcloud) (8.4.0)\n",
      "Requirement already satisfied: cycler>=0.10 in c:\\users\\vb\\anaconda3\\lib\\site-packages (from matplotlib->wordcloud) (0.10.0)\n",
      "Requirement already satisfied: pyparsing>=2.2.1 in c:\\users\\vb\\anaconda3\\lib\\site-packages (from matplotlib->wordcloud) (3.0.4)\n",
      "Requirement already satisfied: python-dateutil>=2.7 in c:\\users\\vb\\anaconda3\\lib\\site-packages (from matplotlib->wordcloud) (2.8.2)\n",
      "Requirement already satisfied: kiwisolver>=1.0.1 in c:\\users\\vb\\anaconda3\\lib\\site-packages (from matplotlib->wordcloud) (1.3.1)\n",
      "Requirement already satisfied: six in c:\\users\\vb\\anaconda3\\lib\\site-packages (from cycler>=0.10->matplotlib->wordcloud) (1.16.0)\n"
     ]
    },
    {
     "name": "stderr",
     "output_type": "stream",
     "text": [
      "[nltk_data] Downloading package stopwords to\n",
      "[nltk_data]     C:\\Users\\VB\\AppData\\Roaming\\nltk_data...\n",
      "[nltk_data]   Package stopwords is already up-to-date!\n",
      "[nltk_data] Downloading package wordnet to\n",
      "[nltk_data]     C:\\Users\\VB\\AppData\\Roaming\\nltk_data...\n",
      "[nltk_data]   Package wordnet is already up-to-date!\n",
      "[nltk_data] Downloading package punkt to\n",
      "[nltk_data]     C:\\Users\\VB\\AppData\\Roaming\\nltk_data...\n",
      "[nltk_data]   Package punkt is already up-to-date!\n"
     ]
    }
   ],
   "source": [
    "# подготавливаем рабочее пространство,\n",
    "# импортируем библиотеки\n",
    "import numpy as np\n",
    "import pandas as pd\n",
    "import matplotlib.pyplot as plt\n",
    "!pip install wordcloud\n",
    "from wordcloud import WordCloud\n",
    "from sklearn.utils import shuffle\n",
    "\n",
    "import re\n",
    "import nltk\n",
    "from nltk.corpus import stopwords\n",
    "nltk.download('stopwords')\n",
    "nltk.download('wordnet')\n",
    "nltk.download('punkt')\n",
    "\n",
    "from nltk.tokenize import word_tokenize\n",
    "from nltk.stem import WordNetLemmatizer\n",
    "from sklearn.feature_extraction.text import CountVectorizer\n",
    "from sklearn.feature_extraction.text import TfidfVectorizer\n",
    "\n",
    "from tqdm import notebook\n",
    "\n",
    "from sklearn.model_selection import train_test_split\n",
    "from sklearn.model_selection import RandomizedSearchCV\n",
    "from sklearn.linear_model import LogisticRegression\n",
    "from sklearn.ensemble import RandomForestClassifier\n",
    "from catboost import CatBoostClassifier, Pool\n",
    "import lightgbm as lgb\n",
    "from lightgbm import LGBMClassifier\n",
    "\n",
    "from sklearn import metrics\n",
    "from sklearn.metrics import f1_score\n",
    "from sklearn.model_selection import cross_val_score\n",
    "\n",
    "import warnings\n",
    "warnings.filterwarnings('ignore')\n",
    "pd.set_option('display.max_columns', None)"
   ]
  },
  {
   "cell_type": "code",
   "execution_count": 2,
   "metadata": {},
   "outputs": [
    {
     "data": {
      "text/html": [
       "<div>\n",
       "<style scoped>\n",
       "    .dataframe tbody tr th:only-of-type {\n",
       "        vertical-align: middle;\n",
       "    }\n",
       "\n",
       "    .dataframe tbody tr th {\n",
       "        vertical-align: top;\n",
       "    }\n",
       "\n",
       "    .dataframe thead th {\n",
       "        text-align: right;\n",
       "    }\n",
       "</style>\n",
       "<table border=\"1\" class=\"dataframe\">\n",
       "  <thead>\n",
       "    <tr style=\"text-align: right;\">\n",
       "      <th></th>\n",
       "      <th>Unnamed: 0</th>\n",
       "      <th>text</th>\n",
       "      <th>toxic</th>\n",
       "    </tr>\n",
       "  </thead>\n",
       "  <tbody>\n",
       "    <tr>\n",
       "      <th>0</th>\n",
       "      <td>0</td>\n",
       "      <td>Explanation\\nWhy the edits made under my usern...</td>\n",
       "      <td>0</td>\n",
       "    </tr>\n",
       "    <tr>\n",
       "      <th>1</th>\n",
       "      <td>1</td>\n",
       "      <td>D'aww! He matches this background colour I'm s...</td>\n",
       "      <td>0</td>\n",
       "    </tr>\n",
       "    <tr>\n",
       "      <th>2</th>\n",
       "      <td>2</td>\n",
       "      <td>Hey man, I'm really not trying to edit war. It...</td>\n",
       "      <td>0</td>\n",
       "    </tr>\n",
       "    <tr>\n",
       "      <th>3</th>\n",
       "      <td>3</td>\n",
       "      <td>\"\\nMore\\nI can't make any real suggestions on ...</td>\n",
       "      <td>0</td>\n",
       "    </tr>\n",
       "    <tr>\n",
       "      <th>4</th>\n",
       "      <td>4</td>\n",
       "      <td>You, sir, are my hero. Any chance you remember...</td>\n",
       "      <td>0</td>\n",
       "    </tr>\n",
       "  </tbody>\n",
       "</table>\n",
       "</div>"
      ],
      "text/plain": [
       "   Unnamed: 0                                               text  toxic\n",
       "0           0  Explanation\\nWhy the edits made under my usern...      0\n",
       "1           1  D'aww! He matches this background colour I'm s...      0\n",
       "2           2  Hey man, I'm really not trying to edit war. It...      0\n",
       "3           3  \"\\nMore\\nI can't make any real suggestions on ...      0\n",
       "4           4  You, sir, are my hero. Any chance you remember...      0"
      ]
     },
     "metadata": {},
     "output_type": "display_data"
    },
    {
     "name": "stdout",
     "output_type": "stream",
     "text": [
      "<class 'pandas.core.frame.DataFrame'>\n",
      "RangeIndex: 159292 entries, 0 to 159291\n",
      "Data columns (total 3 columns):\n",
      " #   Column      Non-Null Count   Dtype \n",
      "---  ------      --------------   ----- \n",
      " 0   Unnamed: 0  159292 non-null  int64 \n",
      " 1   text        159292 non-null  object\n",
      " 2   toxic       159292 non-null  int64 \n",
      "dtypes: int64(2), object(1)\n",
      "memory usage: 3.6+ MB\n"
     ]
    },
    {
     "data": {
      "text/plain": [
       "None"
      ]
     },
     "metadata": {},
     "output_type": "display_data"
    }
   ],
   "source": [
    "# загружаем и выводим данные\n",
    "data = pd.read_csv(r'C:/Users/VB/toxic_comments.csv')\n",
    "display(data.head(5))\n",
    "display(data.info())"
   ]
  },
  {
   "cell_type": "code",
   "execution_count": 3,
   "metadata": {},
   "outputs": [
    {
     "data": {
      "text/plain": [
       "True"
      ]
     },
     "metadata": {},
     "output_type": "display_data"
    },
    {
     "data": {
      "text/plain": [
       "count    159292.000000\n",
       "mean      79725.697242\n",
       "std       46028.837471\n",
       "min           0.000000\n",
       "25%       39872.750000\n",
       "50%       79721.500000\n",
       "75%      119573.250000\n",
       "max      159450.000000\n",
       "Name: Unnamed: 0, dtype: float64"
      ]
     },
     "metadata": {},
     "output_type": "display_data"
    }
   ],
   "source": [
    "# проверяем распределение данных признака Unnamed: 0 на монотонность,\n",
    "# выводим стат данные\n",
    "display(data['Unnamed: 0'].is_monotonic)\n",
    "display(data['Unnamed: 0'].describe())"
   ]
  },
  {
   "cell_type": "code",
   "execution_count": 4,
   "metadata": {},
   "outputs": [
    {
     "data": {
      "image/png": "[encoded data removed]",
      "text/plain": [
       "<Figure size 432x288 with 1 Axes>"
      ]
     },
     "metadata": {
      "needs_background": "light"
     },
     "output_type": "display_data"
    }
   ],
   "source": [
    "# проверяем баланс целевой переменной\n",
    "data['toxic'].hist()\n",
    "plt.title('Баланс целевого признака');"
   ]
  },
  {
   "cell_type": "code",
   "execution_count": 5,
   "metadata": {},
   "outputs": [
    {
     "name": "stdout",
     "output_type": "stream",
     "text": [
      "Ко-во пропусков:\n",
      " Unnamed: 0    0\n",
      "text          0\n",
      "toxic         0\n",
      "dtype: int64\n"
     ]
    }
   ],
   "source": [
    "# проверяем датасет на пропуски\n",
    "print('Ко-во пропусков:\\n', data.isna().sum())"
   ]
  },
  {
   "cell_type": "code",
   "execution_count": 6,
   "metadata": {},
   "outputs": [
    {
     "name": "stdout",
     "output_type": "stream",
     "text": [
      "Кол-во дубликатов: 0\n"
     ]
    }
   ],
   "source": [
    "# проверяем датасет на дубликаты\n",
    "print('Кол-во дубликатов:', data.duplicated().sum())"
   ]
  },
  {
   "cell_type": "markdown",
   "metadata": {},
   "source": [
    "**Выводы по данным и графику:**\n",
    "* исходный датасет содержит 159 292 записи и 3 колонки\n",
    "* датасет не содержит пропусков\n",
    "* датасет не содержит дубликатов\n",
    "* колонка 'Unnamed: 0' представляет собой монотонный порядок чисел от 0 до 159 450, фактически повторяющих индекс; можно предположить, что эта колонка была индексом до обработки; принято решение ее удалить\n",
    "* тексты приведены на английском языке\n",
    "* в текстах использованы как нижний, так и верхний регистры; принято решение привести тексты к нижнему регистру\n",
    "* в качестве подготовки текстов принято решение провести очистку, токенизацию и лемматизацию\n",
    "* баланс целевого признака соотносится как 9 к 1 (90% записей с позитивной коннотацией, 10% записей с токсичной)\n",
    "* для повышения качества обучения, чтобы модель имела больше шансов корректно определять 1, миноритарный класс, принято решение применить upsampling к обучающей выборке"
   ]
  },
  {
   "cell_type": "code",
   "execution_count": 7,
   "metadata": {},
   "outputs": [
    {
     "data": {
      "text/plain": [
       "(159292, 2)"
      ]
     },
     "execution_count": 7,
     "metadata": {},
     "output_type": "execute_result"
    }
   ],
   "source": [
    "# удаляем колонку 'Unnamed: 0'\n",
    "data = data.drop('Unnamed: 0', axis=1)\n",
    "data.shape"
   ]
  },
  {
   "cell_type": "code",
   "execution_count": 8,
   "metadata": {},
   "outputs": [],
   "source": [
    "# приводим тексты к нижнему регистру\n",
    "data['text'] = data['text'].apply(lambda x: x.lower())"
   ]
  },
  {
   "cell_type": "code",
   "execution_count": 9,
   "metadata": {},
   "outputs": [],
   "source": [
    "# создаем функцию обработки текстов\n",
    "stop_words = stopwords.words('english')\n",
    "stop_words.remove('not')\n",
    "lemmatizer = WordNetLemmatizer()\n",
    " \n",
    "def data_preprocessing(text):\n",
    "    \n",
    "    # очистка\n",
    "    text =  re.sub('[^A-Za-z0-9]+', ' ', text) # оставляем только слова\n",
    "    # токенизация\n",
    "    tokens = nltk.word_tokenize(text) # конвертируем тексты в токены\n",
    "    # очистка от стоп слов\n",
    "    text = [word for word in tokens if word not in stop_words] # убираем стоп слова\n",
    "    # лемматизация\n",
    "    text = [lemmatizer.lemmatize(word) for word in text]\n",
    "    # объединяем слова в обработанных текстах\n",
    "    text = ' '.join(text)\n",
    "    \n",
    "    return text"
   ]
  },
  {
   "cell_type": "code",
   "execution_count": 10,
   "metadata": {},
   "outputs": [],
   "source": [
    "# производим очистку\n",
    "data['text'] = data['text'].apply(lambda text: data_preprocessing(text))"
   ]
  },
  {
   "cell_type": "code",
   "execution_count": 11,
   "metadata": {},
   "outputs": [
    {
     "data": {
      "text/html": [
       "<div>\n",
       "<style scoped>\n",
       "    .dataframe tbody tr th:only-of-type {\n",
       "        vertical-align: middle;\n",
       "    }\n",
       "\n",
       "    .dataframe tbody tr th {\n",
       "        vertical-align: top;\n",
       "    }\n",
       "\n",
       "    .dataframe thead th {\n",
       "        text-align: right;\n",
       "    }\n",
       "</style>\n",
       "<table border=\"1\" class=\"dataframe\">\n",
       "  <thead>\n",
       "    <tr style=\"text-align: right;\">\n",
       "      <th></th>\n",
       "      <th>text</th>\n",
       "      <th>toxic</th>\n",
       "    </tr>\n",
       "  </thead>\n",
       "  <tbody>\n",
       "    <tr>\n",
       "      <th>0</th>\n",
       "      <td>explanation edits made username hardcore metal...</td>\n",
       "      <td>0</td>\n",
       "    </tr>\n",
       "    <tr>\n",
       "      <th>1</th>\n",
       "      <td>aww match background colour seemingly stuck th...</td>\n",
       "      <td>0</td>\n",
       "    </tr>\n",
       "    <tr>\n",
       "      <th>2</th>\n",
       "      <td>hey man really not trying edit war guy constan...</td>\n",
       "      <td>0</td>\n",
       "    </tr>\n",
       "    <tr>\n",
       "      <th>3</th>\n",
       "      <td>make real suggestion improvement wondered sect...</td>\n",
       "      <td>0</td>\n",
       "    </tr>\n",
       "    <tr>\n",
       "      <th>4</th>\n",
       "      <td>sir hero chance remember page</td>\n",
       "      <td>0</td>\n",
       "    </tr>\n",
       "  </tbody>\n",
       "</table>\n",
       "</div>"
      ],
      "text/plain": [
       "                                                text  toxic\n",
       "0  explanation edits made username hardcore metal...      0\n",
       "1  aww match background colour seemingly stuck th...      0\n",
       "2  hey man really not trying edit war guy constan...      0\n",
       "3  make real suggestion improvement wondered sect...      0\n",
       "4                      sir hero chance remember page      0"
      ]
     },
     "metadata": {},
     "output_type": "display_data"
    },
    {
     "data": {
      "text/plain": [
       "(159292, 2)"
      ]
     },
     "metadata": {},
     "output_type": "display_data"
    }
   ],
   "source": [
    "# выводим данные и информацию\n",
    "display(data.head())\n",
    "display(data.shape)"
   ]
  },
  {
   "cell_type": "code",
   "execution_count": 12,
   "metadata": {},
   "outputs": [
    {
     "data": {
      "text/plain": [
       "count    159292.000000\n",
       "mean         36.409857\n",
       "std          56.341444\n",
       "min           0.000000\n",
       "25%           9.000000\n",
       "50%          19.000000\n",
       "75%          40.000000\n",
       "max        1250.000000\n",
       "Name: text, dtype: float64"
      ]
     },
     "execution_count": 12,
     "metadata": {},
     "output_type": "execute_result"
    }
   ],
   "source": [
    "# подсчитываем кол-во слов в текстах\n",
    "word_counts = data['text'].apply(lambda x: len(x.split()))\n",
    "word_counts.describe()"
   ]
  },
  {
   "cell_type": "code",
   "execution_count": 13,
   "metadata": {},
   "outputs": [
    {
     "data": {
      "image/png": "[encoded data removed]",
      "text/plain": [
       "<Figure size 432x288 with 1 Axes>"
      ]
     },
     "metadata": {
      "needs_background": "light"
     },
     "output_type": "display_data"
    }
   ],
   "source": [
    "# строим диаграмму размаха,\n",
    "# визуализируем распределение данных\n",
    "plt.boxplot(word_counts.values)\n",
    "plt.grid(True)\n",
    "plt.title('Кол-во слов (лемм) в текстах');"
   ]
  },
  {
   "cell_type": "markdown",
   "metadata": {},
   "source": [
    "**Выводы по данным и графику:**\n",
    "* в среднем один текст содержит 36 слов (лемм)\n",
    "* 25% текстов очень короткие и содержат до 9 слов (лемм)\n",
    "* половина текстов содержат до 19 слов\n",
    "* 75% текстов содержат до 40 слов\n",
    "* имеются выбросы, максимальное кол-во слов в тексте = 1 250"
   ]
  },
  {
   "cell_type": "code",
   "execution_count": 14,
   "metadata": {},
   "outputs": [
    {
     "data": {
      "image/png": "[encoded data removed]",
      "text/plain": [
       "<Figure size 576x576 with 1 Axes>"
      ]
     },
     "metadata": {
      "needs_background": "light"
     },
     "output_type": "display_data"
    }
   ],
   "source": [
    "# визуализируем облако слов в текстах с токсичной коннотацией \n",
    "words_list = data[data['toxic']==1]['text'].unique().tolist()\n",
    "pos_words = \" \".join(words_list)\n",
    " \n",
    "pos_wordcloud =  WordCloud(\n",
    "                  width=800, height = 500,            \n",
    "                  stopwords=stop_words).generate(pos_words)\n",
    " \n",
    "plt.figure(figsize=(8, 8), facecolor = None)\n",
    "plt.imshow(pos_wordcloud)\n",
    "plt.axis(\"off\")\n",
    "plt.tight_layout(pad=0)\n",
    "plt.title('Облако слов токсичных сообщений', fontsize=20);"
   ]
  },
  {
   "cell_type": "code",
   "execution_count": 15,
   "metadata": {},
   "outputs": [
    {
     "data": {
      "image/png": "[encoded data removed]",
      "text/plain": [
       "<Figure size 576x576 with 1 Axes>"
      ]
     },
     "metadata": {
      "needs_background": "light"
     },
     "output_type": "display_data"
    }
   ],
   "source": [
    "# визуализируем облако слов в текстах с не токсичной коннотацией \n",
    "words_list = data[data['toxic']==0]['text'].unique().tolist()\n",
    "pos_words = \" \".join(words_list)\n",
    " \n",
    "pos_wordcloud =  WordCloud(\n",
    "                  width=800, height = 500,            \n",
    "                  stopwords=stop_words).generate(pos_words)\n",
    " \n",
    "plt.figure(figsize=(8, 8), facecolor = None)\n",
    "plt.imshow(pos_wordcloud)\n",
    "plt.axis(\"off\")\n",
    "plt.tight_layout(pad=0)\n",
    "plt.title('Облако слов НЕ токсичных сообщений', fontsize=20);"
   ]
  },
  {
   "cell_type": "markdown",
   "metadata": {},
   "source": [
    "### Разделение на выборки и upsampling"
   ]
  },
  {
   "cell_type": "code",
   "execution_count": 16,
   "metadata": {},
   "outputs": [],
   "source": [
    "# делим данные на признаки (матрица X) и целевую переменную (y)\n",
    "X = data.drop(['toxic'], axis=1)\n",
    "y = data['toxic']"
   ]
  },
  {
   "cell_type": "code",
   "execution_count": 17,
   "metadata": {},
   "outputs": [],
   "source": [
    "# создаем обучающую и тестовую выборки\n",
    "# разделяем модель на обучающую и валидационную выборку\n",
    "X_train, X_test, y_train, y_test = train_test_split(\n",
    "    X, y, test_size=0.25, stratify = y, random_state=0\n",
    ")"
   ]
  },
  {
   "cell_type": "code",
   "execution_count": 18,
   "metadata": {},
   "outputs": [
    {
     "name": "stdout",
     "output_type": "stream",
     "text": [
      "(119469, 1)\n",
      "(39823, 1)\n",
      "(119469,)\n",
      "(39823,)\n"
     ]
    }
   ],
   "source": [
    "print(X_train.shape)\n",
    "print(X_test.shape)\n",
    "print(y_train.shape)\n",
    "print(y_test.shape)"
   ]
  },
  {
   "cell_type": "code",
   "execution_count": 19,
   "metadata": {},
   "outputs": [],
   "source": [
    "# создаем функцию upsampling чтобы сбалансировать классы путём увеличения числа\n",
    "def upsample(features, target, repeat):\n",
    "    features_zeros = features[target == 0]\n",
    "    features_ones = features[target == 1]\n",
    "    target_zeros = target[target == 0]\n",
    "    target_ones = target[target == 1]\n",
    "    features_upsampled = pd.concat([features_zeros] + [features_ones] * repeat)\n",
    "    target_upsampled = pd.concat([target_zeros] + [target_ones] * repeat)\n",
    "    features_upsampled, target_upsampled = shuffle(features_upsampled, target_upsampled)\n",
    "    return features_upsampled, target_upsampled"
   ]
  },
  {
   "cell_type": "code",
   "execution_count": 20,
   "metadata": {},
   "outputs": [
    {
     "name": "stdout",
     "output_type": "stream",
     "text": [
      "(180169, 1)\n",
      "(180169,)\n"
     ]
    }
   ],
   "source": [
    "# применяем функцию к обучающей выборке\n",
    "X_train, y_train = upsample(X_train, y_train, repeat=6)\n",
    "print(X_train.shape)\n",
    "print(y_train.shape)"
   ]
  },
  {
   "cell_type": "code",
   "execution_count": 21,
   "metadata": {},
   "outputs": [
    {
     "data": {
      "image/png": "[encoded data removed]",
      "text/plain": [
       "<Figure size 432x288 with 1 Axes>"
      ]
     },
     "metadata": {
      "needs_background": "light"
     },
     "output_type": "display_data"
    }
   ],
   "source": [
    "# проверяем баланс целевых переменных\n",
    "y_train.hist(label='train')\n",
    "y_test.hist(label='test')\n",
    "plt.legend()\n",
    "plt.title('Баланс целевого признака в обучающей и тестовой выборках');"
   ]
  },
  {
   "cell_type": "code",
   "execution_count": 22,
   "metadata": {},
   "outputs": [
    {
     "data": {
      "text/plain": [
       "0.4042870860136871"
      ]
     },
     "execution_count": 22,
     "metadata": {},
     "output_type": "execute_result"
    }
   ],
   "source": [
    "# проверяем долю 1, миноритарного класса в обучающей выбоке\n",
    "y_train.mean()"
   ]
  },
  {
   "cell_type": "markdown",
   "metadata": {},
   "source": [
    "**Выводы по данным и графику:**\n",
    "* применение метода увеличения обучающей выборки позволило изменить баланс целевого признака с 9х1 на 6х4"
   ]
  },
  {
   "cell_type": "markdown",
   "metadata": {},
   "source": [
    "### Выбор метода векторизации"
   ]
  },
  {
   "cell_type": "code",
   "execution_count": 23,
   "metadata": {},
   "outputs": [],
   "source": [
    "# создаем переменные корпусов\n",
    "corpus_train = X_train['text'].values\n",
    "corpus_test = X_test['text'].values"
   ]
  },
  {
   "cell_type": "markdown",
   "metadata": {},
   "source": [
    "**мешок слов**"
   ]
  },
  {
   "cell_type": "code",
   "execution_count": 46,
   "metadata": {},
   "outputs": [
    {
     "name": "stdout",
     "output_type": "stream",
     "text": [
      "Размер мешка слов обучающая выборка: (180169, 143655)\n",
      "Wall time: 21.8 s\n"
     ]
    }
   ],
   "source": [
    "%%time\n",
    "# создаем мешок слов\n",
    "count_vect_bow = CountVectorizer(dtype='float64') \n",
    "bow_train = count_vect_bow.fit_transform(corpus_train)\n",
    "print(\"Размер мешка слов обучающая выборка:\", bow_train.shape)"
   ]
  },
  {
   "cell_type": "code",
   "execution_count": 25,
   "metadata": {},
   "outputs": [],
   "source": [
    "# инициируем модель\n",
    "model = LogisticRegression(random_state=0) "
   ]
  },
  {
   "cell_type": "code",
   "execution_count": 26,
   "metadata": {},
   "outputs": [],
   "source": [
    "# выводим метрику f1 по результатам кросс валидации\n",
    "#scores = cross_val_score(model, bow_train, y_train, cv=5, scoring='f1_weighted')\n",
    "#print('Взвешенная метрика F1 по результатам кросс-валидации, мешок слов:', scores.mean().round(4))"
   ]
  },
  {
   "cell_type": "markdown",
   "metadata": {},
   "source": [
    "* Взвешенная метрика F1 по результатам кросс-валидации, мешок слов: 0.9676"
   ]
  },
  {
   "cell_type": "markdown",
   "metadata": {},
   "source": [
    "**триграммы**"
   ]
  },
  {
   "cell_type": "code",
   "execution_count": 27,
   "metadata": {},
   "outputs": [
    {
     "name": "stdout",
     "output_type": "stream",
     "text": [
      "Размер триграммы train: (180169, 3314110)\n",
      "Wall time: 1min 9s\n"
     ]
    }
   ],
   "source": [
    "%%time\n",
    "# создаем триграммы\n",
    "count_vect = CountVectorizer(ngram_range=(3, 3))\n",
    "n_gramm_train = count_vect.fit_transform(corpus_train)\n",
    "print(\"Размер триграммы train:\", n_gramm_train.shape)"
   ]
  },
  {
   "cell_type": "code",
   "execution_count": 28,
   "metadata": {},
   "outputs": [],
   "source": [
    "# инициируем модель\n",
    "model = LogisticRegression(random_state=0)"
   ]
  },
  {
   "cell_type": "code",
   "execution_count": 29,
   "metadata": {},
   "outputs": [],
   "source": [
    "# выводим метрику f1 по результатам кросс валидации\n",
    "#scores = cross_val_score(model, n_gramm_train, y_train, cv=5, scoring='f1_weighted') \n",
    "#print('Взвешенная метрика F1 по результатам кросс-валидации, триграммы:', scores.mean().round(4))"
   ]
  },
  {
   "cell_type": "markdown",
   "metadata": {},
   "source": [
    "* Взвешенная метрика F1 по результатам кросс-валидации, триграммы: 0.9821"
   ]
  },
  {
   "cell_type": "markdown",
   "metadata": {},
   "source": [
    "**матрица tf_idf**"
   ]
  },
  {
   "cell_type": "code",
   "execution_count": 30,
   "metadata": {},
   "outputs": [
    {
     "data": {
      "text/plain": [
       "(180169, 143655)"
      ]
     },
     "metadata": {},
     "output_type": "display_data"
    },
    {
     "name": "stdout",
     "output_type": "stream",
     "text": [
      "Wall time: 24.9 s\n"
     ]
    }
   ],
   "source": [
    "%%time\n",
    "# считаем величину TF-IDF\n",
    "count_tf_idf = TfidfVectorizer()\n",
    "tf_idf_train = count_tf_idf.fit_transform(X_train.text)\n",
    "display(tf_idf_train.shape)"
   ]
  },
  {
   "cell_type": "code",
   "execution_count": 31,
   "metadata": {},
   "outputs": [],
   "source": [
    "# инициируем модель\n",
    "model = LogisticRegression(random_state=0)"
   ]
  },
  {
   "cell_type": "code",
   "execution_count": 32,
   "metadata": {},
   "outputs": [],
   "source": [
    "# выводим метрику f1 по результатам кросс валидации\n",
    "#scores = cross_val_score(model, tf_idf_train, y_train, cv=5, scoring='f1_weighted')\n",
    "#print('Взвешенная метрика F1 по результатам кросс-валидации, tfidf:', scores.mean().round(4))"
   ]
  },
  {
   "cell_type": "markdown",
   "metadata": {},
   "source": [
    "* Взвешенная метрика F1 по результатам кросс-валидации, tfidf: 0.951"
   ]
  },
  {
   "cell_type": "markdown",
   "metadata": {},
   "source": [
    "#### Выводы:"
   ]
  },
  {
   "cell_type": "code",
   "execution_count": 33,
   "metadata": {},
   "outputs": [
    {
     "data": {
      "text/html": [
       "<div>\n",
       "<style scoped>\n",
       "    .dataframe tbody tr th:only-of-type {\n",
       "        vertical-align: middle;\n",
       "    }\n",
       "\n",
       "    .dataframe tbody tr th {\n",
       "        vertical-align: top;\n",
       "    }\n",
       "\n",
       "    .dataframe thead th {\n",
       "        text-align: right;\n",
       "    }\n",
       "</style>\n",
       "<table border=\"1\" class=\"dataframe\">\n",
       "  <thead>\n",
       "    <tr style=\"text-align: right;\">\n",
       "      <th></th>\n",
       "      <th>vectorizer</th>\n",
       "      <th>time_to_vectorize</th>\n",
       "      <th>shape_train</th>\n",
       "      <th>model</th>\n",
       "      <th>f1_weighted_cross_val_score</th>\n",
       "    </tr>\n",
       "  </thead>\n",
       "  <tbody>\n",
       "    <tr>\n",
       "      <th>1</th>\n",
       "      <td>three gramm</td>\n",
       "      <td>1 min 15 s</td>\n",
       "      <td>180 169 x 3 314 110</td>\n",
       "      <td>LogisticRegression</td>\n",
       "      <td>0.9821</td>\n",
       "    </tr>\n",
       "    <tr>\n",
       "      <th>0</th>\n",
       "      <td>bag of words</td>\n",
       "      <td>20.2 s</td>\n",
       "      <td>180 169 x 143 655</td>\n",
       "      <td>LogisticRegression</td>\n",
       "      <td>0.9676</td>\n",
       "    </tr>\n",
       "    <tr>\n",
       "      <th>2</th>\n",
       "      <td>tf_idf</td>\n",
       "      <td>2 min 32 s</td>\n",
       "      <td>180 169 x 143 655</td>\n",
       "      <td>LogisticRegression</td>\n",
       "      <td>0.9510</td>\n",
       "    </tr>\n",
       "  </tbody>\n",
       "</table>\n",
       "</div>"
      ],
      "text/plain": [
       "     vectorizer time_to_vectorize          shape_train               model  \\\n",
       "1   three gramm        1 min 15 s  180 169 x 3 314 110  LogisticRegression   \n",
       "0  bag of words            20.2 s    180 169 x 143 655  LogisticRegression   \n",
       "2        tf_idf        2 min 32 s    180 169 x 143 655  LogisticRegression   \n",
       "\n",
       "   f1_weighted_cross_val_score  \n",
       "1                       0.9821  \n",
       "0                       0.9676  \n",
       "2                       0.9510  "
      ]
     },
     "metadata": {},
     "output_type": "display_data"
    }
   ],
   "source": [
    "# строим сводную таблицу результатов векторизации разными методами\n",
    "vectorizer_best = pd.DataFrame(columns=(['vectorizer', 'time_to_vectorize', 'shape_train', 'model', 'f1_weighted_cross_val_score']))\n",
    "vectorizer_best.vectorizer = ['bag of words', 'three gramm', 'tf_idf']\n",
    "vectorizer_best.time_to_vectorize = ['20.2 s', '1 min 15 s', '2 min 32 s']\n",
    "vectorizer_best.shape_train = ['180 169 x 143 655', '180 169 x 3 314 110', '180 169 x 143 655']\n",
    "vectorizer_best.model = ['LogisticRegression', 'LogisticRegression', 'LogisticRegression']\n",
    "vectorizer_best.f1_weighted_cross_val_score = [0.9676, 0.9821, 0.951]\n",
    "\n",
    "display(vectorizer_best.sort_values(by='f1_weighted_cross_val_score', ascending=False))"
   ]
  },
  {
   "cell_type": "markdown",
   "metadata": {},
   "source": [
    "* для выбора метода векторизации была применена кросс валидация по модели логистической регрессии с параметрами по умолчанию к обучающим выборкам, векторизированным с помощью:\n",
    ">\n",
    "> мешка слов\n",
    ">\n",
    "> триграммы\n",
    ">\n",
    "> TF-IDF\n",
    ">\n",
    "* самый **высокий скор** средней взвешенной метрики F1 модель показала на **триграммах = 0.9821**, при этом метод порождает самую большую матрицу и требует самое длительное время векторизации\n",
    "* **на втором месте** по показателю средней взвешенной метрики F1 оказалась модель, оцененная на **мешке слов = 0.9676**\n",
    "* **на третьем месте** оказалась модель, векторизированная методом **TF-IDF = 0.951**\n",
    "* не смотря на существенный отрыв по метрике метода триграмм, принято решение выбирать модель на основе выборки, векторизированной методом мешка слов, т.к. матрица, рожденная методом триграмм потребует больших ресурсов для обучения моделей"
   ]
  },
  {
   "cell_type": "markdown",
   "metadata": {},
   "source": [
    "## Выбор модели"
   ]
  },
  {
   "cell_type": "markdown",
   "metadata": {},
   "source": [
    "**LogisticRegression**"
   ]
  },
  {
   "cell_type": "code",
   "execution_count": 34,
   "metadata": {},
   "outputs": [],
   "source": [
    "# инициируем модель LogisticRegression c гиперпараметром solver = 'liblinear'\n",
    "lr_model = LogisticRegression(random_state = 0, solver = 'liblinear')"
   ]
  },
  {
   "cell_type": "code",
   "execution_count": 35,
   "metadata": {},
   "outputs": [],
   "source": [
    "# выводим взвешенную метрику f1 по результатам кросс-валидации\n",
    "#scores = cross_val_score(lr_model, bow_train, y_train, cv=5, scoring='f1_weighted')\n",
    "#print('Взвешенная метрика F1 по результатам кросс-валидации, логистическая регрессия:', scores.mean().round(4))"
   ]
  },
  {
   "cell_type": "markdown",
   "metadata": {},
   "source": [
    "* Взвешенная метрика F1 по результатам кросс-валидации, логистическая регрессия: 0.9447"
   ]
  },
  {
   "cell_type": "markdown",
   "metadata": {},
   "source": [
    "**RandomForestClassifier**"
   ]
  },
  {
   "cell_type": "code",
   "execution_count": 36,
   "metadata": {},
   "outputs": [],
   "source": [
    "# подбираем лучшие гиперпараметры  n_estimators, max_depth, min_samples_leaf с RandomizedSearchCV,\n",
    "# выбираем метрику настройки F1\n",
    "#n_estimators = range(1, 100)\n",
    "#max_depth = range(1,50)\n",
    "#min_samples_leaf = range(1,13)   \n",
    "\n",
    "#hyperparameters = dict( max_depth=max_depth, min_samples_leaf = min_samples_leaf, n_estimators = n_estimators)\n",
    "#RandomForest = RandomForestClassifier(random_state = 0)\n",
    "\n",
    "#randomizedsearch = RandomizedSearchCV(RandomForest, hyperparameters, random_state = 0, scoring='f1', cv=3, n_iter=5) \n",
    "#randomforest = randomizedsearch.fit(bow_train, y_train)\n",
    "#print(randomforest.best_estimator_)"
   ]
  },
  {
   "cell_type": "markdown",
   "metadata": {},
   "source": [
    "* RandomForestClassifier(max_depth=45, min_samples_leaf=2, n_estimators=46, random_state=0)"
   ]
  },
  {
   "cell_type": "code",
   "execution_count": 37,
   "metadata": {},
   "outputs": [],
   "source": [
    "# инициируем модель RandomForestClassifier c лучшими гиперпараметрами\n",
    "rf_model = RandomForestClassifier(max_depth=45, min_samples_leaf=2, n_estimators=46, random_state=0)"
   ]
  },
  {
   "cell_type": "code",
   "execution_count": 38,
   "metadata": {},
   "outputs": [],
   "source": [
    "# выводим метрику f1 по результатам кросс-валидации\n",
    "#scores = cross_val_score(rf_model, bow_train, y_train, cv=5, scoring='f1_weighted')\n",
    "#print('Взвешенная метрика F1 по результатам кросс-валидации, случайный лес:', scores.mean().round(4))"
   ]
  },
  {
   "cell_type": "markdown",
   "metadata": {},
   "source": [
    "* Взвешенная метрика F1 по результатам кросс-валидации, случайный лес: 0.7896"
   ]
  },
  {
   "cell_type": "markdown",
   "metadata": {},
   "source": [
    "**LGBM**"
   ]
  },
  {
   "cell_type": "code",
   "execution_count": 39,
   "metadata": {},
   "outputs": [],
   "source": [
    "# инициируем модель LGBMClassifier со скоростью обучения 0.4, максимальной глубиной = 4 и кол-вом листьев = 15\n",
    "lgbm_model = LGBMClassifier(random_state = 0, learning_rate = 0.4, max_depth = 4, num_leaves = 15)"
   ]
  },
  {
   "cell_type": "code",
   "execution_count": 40,
   "metadata": {},
   "outputs": [],
   "source": [
    "# выводим метрику f1 по результатам кросс-валидации\n",
    "#scores = cross_val_score(lgbm_model, bow_train, y_train, cv=5, scoring='f1_weighted')\n",
    "#print('Взвешенная метрика F1 по результатам кросс-валидации, LGBM:', scores.mean().round(4))"
   ]
  },
  {
   "cell_type": "markdown",
   "metadata": {},
   "source": [
    "* Взвешенная метрика F1 по результатам кросс-валидации, LGBM: 0.8948"
   ]
  },
  {
   "cell_type": "markdown",
   "metadata": {},
   "source": [
    "**CatBoostClassifier**"
   ]
  },
  {
   "cell_type": "code",
   "execution_count": 41,
   "metadata": {},
   "outputs": [],
   "source": [
    "# инициируем модель CatBoostClassifier, настроенную на метрику F1, с кол-вом итераций = 100\n",
    "catboost_model = CatBoostClassifier(eval_metric = 'F1', random_state=0, iterations=100)"
   ]
  },
  {
   "cell_type": "code",
   "execution_count": 42,
   "metadata": {
    "scrolled": false
   },
   "outputs": [],
   "source": [
    "# выводим метрику f1 по результатам кросс-валидации\n",
    "#scores = cross_val_score(catboost_model, bow_train, y_train, cv=5, scoring='f1_weighted')\n",
    "#print('Взвешенная метрика F1 по результатам кросс-валидации, CatBoost:', scores.mean().round(4))"
   ]
  },
  {
   "cell_type": "markdown",
   "metadata": {},
   "source": [
    "* Взвешенная метрика F1 по результатам кросс-валидации, CatBoost: 0.9093"
   ]
  },
  {
   "cell_type": "markdown",
   "metadata": {},
   "source": [
    "### Выводы\n",
    "* лучший показатель взвешенной метрики F1 по результатам кросс-валидации с 5 фолдами на выборке, векторизированной с помощью мешка слов, удалось достичь модели логистической регрессии:\n",
    "1. LogisticRegression (solver='liblinear') = 0.9447\n",
    "2. CatBoostClassifier (eval_metric = 'F1', iterations=100) = 0.9093\n",
    "3. LGBMClassifier (learning_rate = 0.4, max_depth = 4, num_leaves = 15) = 0.8948\n",
    "4. RandomForestClassifier (max_depth=45, min_samples_leaf=2, n_estimators=46) = 0.7896\n",
    "* принято решение использовать для пердсказаний на тестовой выборке модель Логистической Регрессии"
   ]
  },
  {
   "cell_type": "markdown",
   "metadata": {},
   "source": [
    "## Обучение и предсказание"
   ]
  },
  {
   "cell_type": "code",
   "execution_count": 47,
   "metadata": {},
   "outputs": [
    {
     "name": "stdout",
     "output_type": "stream",
     "text": [
      "Размер мешка слов тестовая выборка: (39823, 143655)\n"
     ]
    }
   ],
   "source": [
    "# векторизируем тестовую выборку мешком слов\n",
    "bow_test = count_vect_bow.transform(corpus_test)\n",
    "print(\"Размер мешка слов тестовая выборка:\", bow_test.shape)"
   ]
  },
  {
   "cell_type": "code",
   "execution_count": 48,
   "metadata": {},
   "outputs": [
    {
     "data": {
      "text/plain": [
       "LogisticRegression(random_state=0, solver='liblinear')"
      ]
     },
     "execution_count": 48,
     "metadata": {},
     "output_type": "execute_result"
    }
   ],
   "source": [
    "# обучаем модель Логистической Регрессии\n",
    "lr_model.fit(bow_train, y_train)"
   ]
  },
  {
   "cell_type": "code",
   "execution_count": 49,
   "metadata": {},
   "outputs": [
    {
     "name": "stdout",
     "output_type": "stream",
     "text": [
      "Метрика F1 на тестовой выборке с моделью Логистической Регрессии: 0.7577\n"
     ]
    }
   ],
   "source": [
    "# делаем предсказание на тестовой выборке,\n",
    "# выводим метрику F1\n",
    "lr_pred = lr_model.predict(bow_test)\n",
    "print('Метрика F1 на тестовой выборке с моделью Логистической Регрессии:', f1_score(y_test, lr_pred).round(4))"
   ]
  },
  {
   "cell_type": "markdown",
   "metadata": {},
   "source": [
    "## Выводы"
   ]
  },
  {
   "cell_type": "markdown",
   "metadata": {},
   "source": [
    "* в проекте были проверены 4 метода векторизации и был выбран подход расчета \"мешок слов\", который на наивной модели Логистической Регрессии показал приближенный к лучшему результат предсказаний по метрике F1 и при этом оказался самым быстрым\n",
    "* для определения лучшей модели были проверены:\n",
    ">\n",
    "> **LogisticRegression** - в модели применен гиперпараметр solver - 'liblinear'\n",
    ">\n",
    "> **RandomForestClassifier** - для определения лучших гиперпараметров, настроенных на метрику F1, применен RandomizedSearchCV, предложивший значения: max_depth=45, min_samples_leaf=2, n_estimators=46\n",
    ">\n",
    "> **LGBMClassifier** - в связи со слабыми вычислетельными мощностями для определения лучших гиперпараметров не применен RandomizedSearchCV и использованы усеченные относительно исходных гиперпараметры, влияющие на скоорость: learning_rate = 0.4, max_depth = 4, num_leaves = 15\n",
    ">\n",
    "> **CatBoostClassifier** - в связи со слабыми вычислетельными мощностями для определения лучших гиперпараметров не применен RandomizedSearchCV и использованы усеченные относительно исходных гиперпараметры, влияющие на скоорость: iterations=100\n",
    ">\n",
    "* по результатам оценки взвешенной метрики F1 на 5 фолдах кросс-валидаций **победила модель Логистической Регрессии**\n",
    "* по результатам обучения и предсказания на тестовой выборке победившая модель логистической Регрессии достигла ожидаемого в данном проекте скора F1 = 0.7577 (выше, чем 0.75)\n",
    "* в зависимости от вычислительных возможностей клиенту рекомендуется:\n",
    ">\n",
    "> в случае ограничейний - использовать для решения задачи модель Логистической регрессии\n",
    ">\n",
    "> в случае отсутствия ограничений - взять за базу результат модели CatBoostClassifier, полученный в данном проекте, и проверить возможность его улучшения за счет более тонкого подбора гиперпараметров"
   ]
  }
 ],
 "metadata": {
  "ExecuteTimeLog": [
   {
    "duration": 3095,
    "start_time": "2022-09-02T11:36:32.843Z"
   },
   {
    "duration": 197,
    "start_time": "2022-09-02T11:46:04.460Z"
   },
   {
    "duration": 53,
    "start_time": "2022-09-02T11:46:52.362Z"
   },
   {
    "duration": 2263,
    "start_time": "2022-09-02T11:48:00.099Z"
   },
   {
    "duration": 62,
    "start_time": "2022-09-02T11:50:30.294Z"
   },
   {
    "duration": 4,
    "start_time": "2022-09-02T11:51:02.334Z"
   },
   {
    "duration": 12,
    "start_time": "2022-09-02T11:52:06.524Z"
   },
   {
    "duration": 145,
    "start_time": "2022-09-02T11:55:06.466Z"
   },
   {
    "duration": 240,
    "start_time": "2022-09-02T12:06:20.633Z"
   },
   {
    "duration": 30,
    "start_time": "2022-09-02T12:07:03.938Z"
   },
   {
    "duration": 842,
    "start_time": "2022-09-02T12:07:05.874Z"
   },
   {
    "duration": 141,
    "start_time": "2022-09-02T12:10:46.794Z"
   },
   {
    "duration": 364,
    "start_time": "2022-09-02T12:15:16.740Z"
   },
   {
    "duration": 305,
    "start_time": "2022-09-02T12:15:30.232Z"
   },
   {
    "duration": 255,
    "start_time": "2022-09-02T12:17:12.691Z"
   },
   {
    "duration": 315,
    "start_time": "2022-09-02T12:17:32.970Z"
   },
   {
    "duration": 8,
    "start_time": "2022-09-02T12:18:40.861Z"
   },
   {
    "duration": 31,
    "start_time": "2022-09-02T12:22:08.431Z"
   },
   {
    "duration": 27,
    "start_time": "2022-09-02T12:22:19.817Z"
   },
   {
    "duration": 252,
    "start_time": "2022-09-02T12:23:12.494Z"
   },
   {
    "duration": 11,
    "start_time": "2022-09-02T12:29:38.679Z"
   },
   {
    "duration": 29,
    "start_time": "2022-09-02T13:02:48.543Z"
   },
   {
    "duration": 3,
    "start_time": "2022-09-02T13:04:37.730Z"
   },
   {
    "duration": 3,
    "start_time": "2022-09-02T13:06:04.523Z"
   },
   {
    "duration": 753,
    "start_time": "2022-09-02T13:06:58.065Z"
   },
   {
    "duration": 730,
    "start_time": "2022-09-02T13:07:20.604Z"
   },
   {
    "duration": 1005,
    "start_time": "2022-09-02T13:15:30.328Z"
   },
   {
    "duration": 749,
    "start_time": "2022-09-02T13:18:31.271Z"
   },
   {
    "duration": 55,
    "start_time": "2022-09-02T13:18:52.591Z"
   },
   {
    "duration": 129,
    "start_time": "2022-09-02T13:19:21.131Z"
   },
   {
    "duration": 18,
    "start_time": "2022-09-02T13:21:11.481Z"
   },
   {
    "duration": 3144,
    "start_time": "2022-09-02T13:21:39.871Z"
   },
   {
    "duration": 843,
    "start_time": "2022-09-02T13:21:43.017Z"
   },
   {
    "duration": 18,
    "start_time": "2022-09-02T13:21:43.862Z"
   },
   {
    "duration": 439,
    "start_time": "2022-09-02T13:21:43.883Z"
   },
   {
    "duration": 28,
    "start_time": "2022-09-02T13:21:44.324Z"
   },
   {
    "duration": 270,
    "start_time": "2022-09-02T13:21:44.354Z"
   },
   {
    "duration": 16,
    "start_time": "2022-09-02T13:21:44.626Z"
   },
   {
    "duration": 60,
    "start_time": "2022-09-02T13:21:44.644Z"
   },
   {
    "duration": 7,
    "start_time": "2022-09-02T13:21:44.706Z"
   },
   {
    "duration": 8,
    "start_time": "2022-09-02T13:21:44.715Z"
   },
   {
    "duration": 765,
    "start_time": "2022-09-02T13:21:44.725Z"
   },
   {
    "duration": 62,
    "start_time": "2022-09-02T13:21:45.492Z"
   },
   {
    "duration": 144,
    "start_time": "2022-09-02T13:21:45.556Z"
   },
   {
    "duration": 184,
    "start_time": "2022-09-02T13:21:45.703Z"
   },
   {
    "duration": 3196,
    "start_time": "2022-09-02T13:24:23.902Z"
   },
   {
    "duration": 803,
    "start_time": "2022-09-02T13:24:27.102Z"
   },
   {
    "duration": 12,
    "start_time": "2022-09-02T13:24:27.907Z"
   },
   {
    "duration": 402,
    "start_time": "2022-09-02T13:24:27.921Z"
   },
   {
    "duration": 27,
    "start_time": "2022-09-02T13:24:28.325Z"
   },
   {
    "duration": 249,
    "start_time": "2022-09-02T13:24:28.353Z"
   },
   {
    "duration": 15,
    "start_time": "2022-09-02T13:24:28.604Z"
   },
   {
    "duration": 36,
    "start_time": "2022-09-02T13:24:28.621Z"
   },
   {
    "duration": 6,
    "start_time": "2022-09-02T13:24:28.660Z"
   },
   {
    "duration": 5,
    "start_time": "2022-09-02T13:24:28.669Z"
   },
   {
    "duration": 781,
    "start_time": "2022-09-02T13:24:28.676Z"
   },
   {
    "duration": 66,
    "start_time": "2022-09-02T13:24:29.460Z"
   },
   {
    "duration": 131,
    "start_time": "2022-09-02T13:24:29.527Z"
   },
   {
    "duration": 186,
    "start_time": "2022-09-02T13:24:29.660Z"
   },
   {
    "duration": 3063,
    "start_time": "2022-09-02T13:25:26.562Z"
   },
   {
    "duration": 811,
    "start_time": "2022-09-02T13:25:29.627Z"
   },
   {
    "duration": 13,
    "start_time": "2022-09-02T13:25:30.440Z"
   },
   {
    "duration": 449,
    "start_time": "2022-09-02T13:25:30.456Z"
   },
   {
    "duration": 26,
    "start_time": "2022-09-02T13:25:30.907Z"
   },
   {
    "duration": 259,
    "start_time": "2022-09-02T13:25:30.935Z"
   },
   {
    "duration": 20,
    "start_time": "2022-09-02T13:25:31.196Z"
   },
   {
    "duration": 73,
    "start_time": "2022-09-02T13:25:31.218Z"
   },
   {
    "duration": 18,
    "start_time": "2022-09-02T13:25:31.293Z"
   },
   {
    "duration": 18,
    "start_time": "2022-09-02T13:25:31.313Z"
   },
   {
    "duration": 746,
    "start_time": "2022-09-02T13:25:31.333Z"
   },
   {
    "duration": 66,
    "start_time": "2022-09-02T13:25:32.081Z"
   },
   {
    "duration": 133,
    "start_time": "2022-09-02T13:25:32.149Z"
   },
   {
    "duration": 261,
    "start_time": "2022-09-02T13:25:32.284Z"
   },
   {
    "duration": 2984,
    "start_time": "2022-09-02T13:27:15.129Z"
   },
   {
    "duration": 817,
    "start_time": "2022-09-02T13:27:18.115Z"
   },
   {
    "duration": 14,
    "start_time": "2022-09-02T13:27:18.935Z"
   },
   {
    "duration": 463,
    "start_time": "2022-09-02T13:27:18.952Z"
   },
   {
    "duration": 26,
    "start_time": "2022-09-02T13:27:19.417Z"
   },
   {
    "duration": 261,
    "start_time": "2022-09-02T13:27:19.445Z"
   },
   {
    "duration": 16,
    "start_time": "2022-09-02T13:27:19.708Z"
   },
   {
    "duration": 40,
    "start_time": "2022-09-02T13:27:19.726Z"
   },
   {
    "duration": 7,
    "start_time": "2022-09-02T13:27:19.768Z"
   },
   {
    "duration": 6,
    "start_time": "2022-09-02T13:27:19.777Z"
   },
   {
    "duration": 765,
    "start_time": "2022-09-02T13:27:19.785Z"
   },
   {
    "duration": 68,
    "start_time": "2022-09-02T13:27:20.552Z"
   },
   {
    "duration": 126,
    "start_time": "2022-09-02T13:27:20.622Z"
   },
   {
    "duration": 3606,
    "start_time": "2022-09-02T13:27:20.750Z"
   },
   {
    "duration": 4099,
    "start_time": "2022-09-02T13:28:01.627Z"
   },
   {
    "duration": 5430,
    "start_time": "2022-09-02T13:30:03.788Z"
   },
   {
    "duration": 5662,
    "start_time": "2022-09-02T13:31:52.343Z"
   },
   {
    "duration": 5520,
    "start_time": "2022-09-02T13:32:28.429Z"
   },
   {
    "duration": 4,
    "start_time": "2022-09-02T13:34:21.408Z"
   },
   {
    "duration": 211,
    "start_time": "2022-09-02T13:34:38.707Z"
   },
   {
    "duration": 14,
    "start_time": "2022-09-02T13:35:52.286Z"
   },
   {
    "duration": 3716,
    "start_time": "2022-09-02T13:35:59.872Z"
   },
   {
    "duration": 19,
    "start_time": "2022-09-02T13:36:03.591Z"
   },
   {
    "duration": 18,
    "start_time": "2022-09-02T13:38:15.175Z"
   },
   {
    "duration": 2961,
    "start_time": "2022-09-02T13:39:42.623Z"
   },
   {
    "duration": 829,
    "start_time": "2022-09-02T13:39:45.586Z"
   },
   {
    "duration": 13,
    "start_time": "2022-09-02T13:39:46.417Z"
   },
   {
    "duration": 472,
    "start_time": "2022-09-02T13:39:46.432Z"
   },
   {
    "duration": 27,
    "start_time": "2022-09-02T13:39:46.906Z"
   },
   {
    "duration": 269,
    "start_time": "2022-09-02T13:39:46.935Z"
   },
   {
    "duration": 15,
    "start_time": "2022-09-02T13:39:47.206Z"
   },
   {
    "duration": 34,
    "start_time": "2022-09-02T13:39:47.222Z"
   },
   {
    "duration": 8,
    "start_time": "2022-09-02T13:39:47.258Z"
   },
   {
    "duration": 5,
    "start_time": "2022-09-02T13:39:47.268Z"
   },
   {
    "duration": 733,
    "start_time": "2022-09-02T13:39:47.275Z"
   },
   {
    "duration": 59,
    "start_time": "2022-09-02T13:39:48.010Z"
   },
   {
    "duration": 141,
    "start_time": "2022-09-02T13:39:48.071Z"
   },
   {
    "duration": 4091,
    "start_time": "2022-09-02T13:39:48.215Z"
   },
   {
    "duration": 3693,
    "start_time": "2022-09-02T13:39:52.308Z"
   },
   {
    "duration": 5404,
    "start_time": "2022-09-02T13:39:56.003Z"
   },
   {
    "duration": 205,
    "start_time": "2022-09-02T13:40:01.409Z"
   },
   {
    "duration": 166,
    "start_time": "2022-09-02T13:43:27.789Z"
   },
   {
    "duration": 158,
    "start_time": "2022-09-02T13:45:15.646Z"
   },
   {
    "duration": 174,
    "start_time": "2022-09-02T13:46:53.504Z"
   },
   {
    "duration": 29,
    "start_time": "2022-09-02T13:51:11.214Z"
   },
   {
    "duration": 25,
    "start_time": "2022-09-02T13:51:20.605Z"
   },
   {
    "duration": 18,
    "start_time": "2022-09-02T13:54:33.600Z"
   },
   {
    "duration": 16,
    "start_time": "2022-09-02T13:56:02.549Z"
   },
   {
    "duration": 2960,
    "start_time": "2022-09-02T13:58:34.566Z"
   },
   {
    "duration": 830,
    "start_time": "2022-09-02T13:58:37.528Z"
   },
   {
    "duration": 12,
    "start_time": "2022-09-02T13:58:38.360Z"
   },
   {
    "duration": 439,
    "start_time": "2022-09-02T13:58:38.373Z"
   },
   {
    "duration": 28,
    "start_time": "2022-09-02T13:58:38.814Z"
   },
   {
    "duration": 306,
    "start_time": "2022-09-02T13:58:38.843Z"
   },
   {
    "duration": 16,
    "start_time": "2022-09-02T13:58:39.151Z"
   },
   {
    "duration": 48,
    "start_time": "2022-09-02T13:58:39.168Z"
   },
   {
    "duration": 34,
    "start_time": "2022-09-02T13:58:39.218Z"
   },
   {
    "duration": 10,
    "start_time": "2022-09-02T13:58:39.254Z"
   },
   {
    "duration": 759,
    "start_time": "2022-09-02T13:58:39.266Z"
   },
   {
    "duration": 59,
    "start_time": "2022-09-02T13:58:40.027Z"
   },
   {
    "duration": 148,
    "start_time": "2022-09-02T13:58:40.088Z"
   },
   {
    "duration": 4114,
    "start_time": "2022-09-02T13:58:40.238Z"
   },
   {
    "duration": 3717,
    "start_time": "2022-09-02T13:58:44.354Z"
   },
   {
    "duration": 5504,
    "start_time": "2022-09-02T13:58:48.073Z"
   },
   {
    "duration": 197,
    "start_time": "2022-09-02T13:58:53.579Z"
   },
   {
    "duration": 4110,
    "start_time": "2022-09-02T14:05:53.437Z"
   },
   {
    "duration": 5447,
    "start_time": "2022-09-02T14:06:14.767Z"
   },
   {
    "duration": 5124,
    "start_time": "2022-09-02T14:06:29.889Z"
   },
   {
    "duration": 5366,
    "start_time": "2022-09-02T14:06:54.111Z"
   },
   {
    "duration": 3054,
    "start_time": "2022-09-02T14:16:05.196Z"
   },
   {
    "duration": 887,
    "start_time": "2022-09-02T14:16:08.252Z"
   },
   {
    "duration": 13,
    "start_time": "2022-09-02T14:16:09.140Z"
   },
   {
    "duration": 449,
    "start_time": "2022-09-02T14:16:09.154Z"
   },
   {
    "duration": 27,
    "start_time": "2022-09-02T14:16:09.606Z"
   },
   {
    "duration": 264,
    "start_time": "2022-09-02T14:16:09.634Z"
   },
   {
    "duration": 15,
    "start_time": "2022-09-02T14:16:09.900Z"
   },
   {
    "duration": 37,
    "start_time": "2022-09-02T14:16:09.916Z"
   },
   {
    "duration": 7,
    "start_time": "2022-09-02T14:16:09.954Z"
   },
   {
    "duration": 6,
    "start_time": "2022-09-02T14:16:09.963Z"
   },
   {
    "duration": 761,
    "start_time": "2022-09-02T14:16:09.970Z"
   },
   {
    "duration": 75,
    "start_time": "2022-09-02T14:16:10.734Z"
   },
   {
    "duration": 137,
    "start_time": "2022-09-02T14:16:10.810Z"
   },
   {
    "duration": 4071,
    "start_time": "2022-09-02T14:16:10.950Z"
   },
   {
    "duration": 3,
    "start_time": "2022-09-02T14:16:15.023Z"
   },
   {
    "duration": 107,
    "start_time": "2022-09-02T14:16:15.028Z"
   },
   {
    "duration": 251,
    "start_time": "2022-09-02T14:16:15.137Z"
   },
   {
    "duration": 3831,
    "start_time": "2022-09-02T14:16:15.390Z"
   },
   {
    "duration": 5334,
    "start_time": "2022-09-02T14:16:19.222Z"
   },
   {
    "duration": 3992,
    "start_time": "2022-09-02T14:16:24.558Z"
   },
   {
    "duration": 203,
    "start_time": "2022-09-02T14:17:11.389Z"
   },
   {
    "duration": 19,
    "start_time": "2022-09-02T14:17:14.417Z"
   },
   {
    "duration": 3107,
    "start_time": "2022-09-02T14:20:09.225Z"
   },
   {
    "duration": 840,
    "start_time": "2022-09-02T14:20:12.334Z"
   },
   {
    "duration": 27,
    "start_time": "2022-09-02T14:20:13.176Z"
   },
   {
    "duration": 424,
    "start_time": "2022-09-02T14:20:13.206Z"
   },
   {
    "duration": 27,
    "start_time": "2022-09-02T14:20:13.632Z"
   },
   {
    "duration": 253,
    "start_time": "2022-09-02T14:20:13.660Z"
   },
   {
    "duration": 15,
    "start_time": "2022-09-02T14:20:13.914Z"
   },
   {
    "duration": 49,
    "start_time": "2022-09-02T14:20:13.931Z"
   },
   {
    "duration": 23,
    "start_time": "2022-09-02T14:20:13.981Z"
   },
   {
    "duration": 33,
    "start_time": "2022-09-02T14:20:14.007Z"
   },
   {
    "duration": 793,
    "start_time": "2022-09-02T14:20:14.042Z"
   },
   {
    "duration": 72,
    "start_time": "2022-09-02T14:20:14.837Z"
   },
   {
    "duration": 140,
    "start_time": "2022-09-02T14:20:14.911Z"
   },
   {
    "duration": 4219,
    "start_time": "2022-09-02T14:20:15.053Z"
   },
   {
    "duration": 4,
    "start_time": "2022-09-02T14:20:19.274Z"
   },
   {
    "duration": 118,
    "start_time": "2022-09-02T14:20:19.280Z"
   },
   {
    "duration": 232,
    "start_time": "2022-09-02T14:20:19.400Z"
   },
   {
    "duration": 25,
    "start_time": "2022-09-02T14:20:19.634Z"
   },
   {
    "duration": 3632,
    "start_time": "2022-09-02T14:20:19.661Z"
   },
   {
    "duration": 5327,
    "start_time": "2022-09-02T14:20:23.295Z"
   },
   {
    "duration": 4104,
    "start_time": "2022-09-02T14:20:28.623Z"
   },
   {
    "duration": 2988,
    "start_time": "2022-09-02T14:23:33.095Z"
   },
   {
    "duration": 835,
    "start_time": "2022-09-02T14:23:36.085Z"
   },
   {
    "duration": 13,
    "start_time": "2022-09-02T14:23:36.922Z"
   },
   {
    "duration": 482,
    "start_time": "2022-09-02T14:23:36.937Z"
   },
   {
    "duration": 28,
    "start_time": "2022-09-02T14:23:37.421Z"
   },
   {
    "duration": 257,
    "start_time": "2022-09-02T14:23:37.451Z"
   },
   {
    "duration": 16,
    "start_time": "2022-09-02T14:23:37.709Z"
   },
   {
    "duration": 35,
    "start_time": "2022-09-02T14:23:37.726Z"
   },
   {
    "duration": 6,
    "start_time": "2022-09-02T14:23:37.762Z"
   },
   {
    "duration": 9,
    "start_time": "2022-09-02T14:23:37.771Z"
   },
   {
    "duration": 769,
    "start_time": "2022-09-02T14:23:37.782Z"
   },
   {
    "duration": 71,
    "start_time": "2022-09-02T14:23:38.552Z"
   },
   {
    "duration": 136,
    "start_time": "2022-09-02T14:23:38.625Z"
   },
   {
    "duration": 4048,
    "start_time": "2022-09-02T14:23:38.762Z"
   },
   {
    "duration": 3,
    "start_time": "2022-09-02T14:23:42.811Z"
   },
   {
    "duration": 95,
    "start_time": "2022-09-02T14:23:42.815Z"
   },
   {
    "duration": 231,
    "start_time": "2022-09-02T14:23:42.912Z"
   },
   {
    "duration": 24,
    "start_time": "2022-09-02T14:23:43.144Z"
   },
   {
    "duration": 3609,
    "start_time": "2022-09-02T14:23:43.170Z"
   },
   {
    "duration": 6,
    "start_time": "2022-09-02T14:23:46.781Z"
   },
   {
    "duration": 79,
    "start_time": "2022-09-02T14:23:46.788Z"
   },
   {
    "duration": 192,
    "start_time": "2022-09-02T14:23:46.869Z"
   },
   {
    "duration": 19,
    "start_time": "2022-09-02T14:23:47.062Z"
   },
   {
    "duration": 5323,
    "start_time": "2022-09-02T14:23:47.082Z"
   },
   {
    "duration": 4030,
    "start_time": "2022-09-02T14:23:52.407Z"
   },
   {
    "duration": 3013,
    "start_time": "2022-09-02T14:27:34.028Z"
   },
   {
    "duration": 837,
    "start_time": "2022-09-02T14:27:37.043Z"
   },
   {
    "duration": 28,
    "start_time": "2022-09-02T14:27:37.882Z"
   },
   {
    "duration": 405,
    "start_time": "2022-09-02T14:27:37.912Z"
   },
   {
    "duration": 30,
    "start_time": "2022-09-02T14:27:38.319Z"
   },
   {
    "duration": 254,
    "start_time": "2022-09-02T14:27:38.350Z"
   },
   {
    "duration": 15,
    "start_time": "2022-09-02T14:27:38.606Z"
   },
   {
    "duration": 37,
    "start_time": "2022-09-02T14:27:38.623Z"
   },
   {
    "duration": 5,
    "start_time": "2022-09-02T14:27:38.662Z"
   },
   {
    "duration": 12,
    "start_time": "2022-09-02T14:27:38.669Z"
   },
   {
    "duration": 800,
    "start_time": "2022-09-02T14:27:38.683Z"
   },
   {
    "duration": 66,
    "start_time": "2022-09-02T14:27:39.485Z"
   },
   {
    "duration": 137,
    "start_time": "2022-09-02T14:27:39.553Z"
   },
   {
    "duration": 4061,
    "start_time": "2022-09-02T14:27:39.693Z"
   },
   {
    "duration": 3,
    "start_time": "2022-09-02T14:27:43.755Z"
   },
   {
    "duration": 102,
    "start_time": "2022-09-02T14:27:43.759Z"
   },
   {
    "duration": 234,
    "start_time": "2022-09-02T14:27:43.863Z"
   },
   {
    "duration": 24,
    "start_time": "2022-09-02T14:27:44.098Z"
   },
   {
    "duration": 3653,
    "start_time": "2022-09-02T14:27:44.124Z"
   },
   {
    "duration": 6,
    "start_time": "2022-09-02T14:27:47.779Z"
   },
   {
    "duration": 79,
    "start_time": "2022-09-02T14:27:47.787Z"
   },
   {
    "duration": 191,
    "start_time": "2022-09-02T14:27:47.868Z"
   },
   {
    "duration": 22,
    "start_time": "2022-09-02T14:27:48.060Z"
   },
   {
    "duration": 5467,
    "start_time": "2022-09-02T14:27:48.084Z"
   },
   {
    "duration": 3,
    "start_time": "2022-09-02T14:27:53.553Z"
   },
   {
    "duration": 109,
    "start_time": "2022-09-02T14:27:53.557Z"
   },
   {
    "duration": 294,
    "start_time": "2022-09-02T14:27:53.668Z"
   },
   {
    "duration": 20,
    "start_time": "2022-09-02T14:27:53.964Z"
   },
   {
    "duration": 4127,
    "start_time": "2022-09-02T14:27:53.986Z"
   },
   {
    "duration": 2986,
    "start_time": "2022-09-02T14:29:44.570Z"
   },
   {
    "duration": 838,
    "start_time": "2022-09-02T14:29:47.558Z"
   },
   {
    "duration": 15,
    "start_time": "2022-09-02T14:29:48.398Z"
   },
   {
    "duration": 410,
    "start_time": "2022-09-02T14:29:48.415Z"
   },
   {
    "duration": 30,
    "start_time": "2022-09-02T14:29:48.826Z"
   },
   {
    "duration": 294,
    "start_time": "2022-09-02T14:29:48.858Z"
   },
   {
    "duration": 16,
    "start_time": "2022-09-02T14:29:49.153Z"
   },
   {
    "duration": 48,
    "start_time": "2022-09-02T14:29:49.171Z"
   },
   {
    "duration": 8,
    "start_time": "2022-09-02T14:29:49.221Z"
   },
   {
    "duration": 8,
    "start_time": "2022-09-02T14:29:49.232Z"
   },
   {
    "duration": 747,
    "start_time": "2022-09-02T14:29:49.242Z"
   },
   {
    "duration": 69,
    "start_time": "2022-09-02T14:29:49.991Z"
   },
   {
    "duration": 143,
    "start_time": "2022-09-02T14:29:50.062Z"
   },
   {
    "duration": 3935,
    "start_time": "2022-09-02T14:29:50.207Z"
   },
   {
    "duration": 2,
    "start_time": "2022-09-02T14:29:54.145Z"
   },
   {
    "duration": 115,
    "start_time": "2022-09-02T14:29:54.149Z"
   },
   {
    "duration": 248,
    "start_time": "2022-09-02T14:29:54.266Z"
   },
   {
    "duration": 23,
    "start_time": "2022-09-02T14:29:54.516Z"
   },
   {
    "duration": 3662,
    "start_time": "2022-09-02T14:29:54.541Z"
   },
   {
    "duration": 6,
    "start_time": "2022-09-02T14:29:58.204Z"
   },
   {
    "duration": 95,
    "start_time": "2022-09-02T14:29:58.211Z"
   },
   {
    "duration": 191,
    "start_time": "2022-09-02T14:29:58.308Z"
   },
   {
    "duration": 20,
    "start_time": "2022-09-02T14:29:58.503Z"
   },
   {
    "duration": 5435,
    "start_time": "2022-09-02T14:29:58.524Z"
   },
   {
    "duration": 2,
    "start_time": "2022-09-02T14:30:03.962Z"
   },
   {
    "duration": 97,
    "start_time": "2022-09-02T14:30:03.966Z"
   },
   {
    "duration": 291,
    "start_time": "2022-09-02T14:30:04.065Z"
   },
   {
    "duration": 20,
    "start_time": "2022-09-02T14:30:04.360Z"
   },
   {
    "duration": 4245,
    "start_time": "2022-09-02T14:30:04.382Z"
   },
   {
    "duration": 3,
    "start_time": "2022-09-02T14:30:08.630Z"
   },
   {
    "duration": 108,
    "start_time": "2022-09-02T14:30:08.634Z"
   },
   {
    "duration": 444,
    "start_time": "2022-09-02T14:30:08.743Z"
   },
   {
    "duration": 30,
    "start_time": "2022-09-02T14:30:09.189Z"
   },
   {
    "duration": 3203,
    "start_time": "2022-09-02T14:31:07.329Z"
   },
   {
    "duration": 838,
    "start_time": "2022-09-02T14:31:10.534Z"
   },
   {
    "duration": 12,
    "start_time": "2022-09-02T14:31:11.374Z"
   },
   {
    "duration": 415,
    "start_time": "2022-09-02T14:31:11.403Z"
   },
   {
    "duration": 28,
    "start_time": "2022-09-02T14:31:11.819Z"
   },
   {
    "duration": 256,
    "start_time": "2022-09-02T14:31:11.849Z"
   },
   {
    "duration": 15,
    "start_time": "2022-09-02T14:31:12.107Z"
   },
   {
    "duration": 41,
    "start_time": "2022-09-02T14:31:12.124Z"
   },
   {
    "duration": 5,
    "start_time": "2022-09-02T14:31:12.167Z"
   },
   {
    "duration": 3,
    "start_time": "2022-09-02T14:31:12.175Z"
   },
   {
    "duration": 781,
    "start_time": "2022-09-02T14:31:12.180Z"
   },
   {
    "duration": 76,
    "start_time": "2022-09-02T14:31:12.963Z"
   },
   {
    "duration": 144,
    "start_time": "2022-09-02T14:31:13.041Z"
   },
   {
    "duration": 4129,
    "start_time": "2022-09-02T14:31:13.187Z"
   },
   {
    "duration": 3,
    "start_time": "2022-09-02T14:31:17.318Z"
   },
   {
    "duration": 108,
    "start_time": "2022-09-02T14:31:17.323Z"
   },
   {
    "duration": 263,
    "start_time": "2022-09-02T14:31:17.433Z"
   },
   {
    "duration": 25,
    "start_time": "2022-09-02T14:31:17.697Z"
   },
   {
    "duration": 3673,
    "start_time": "2022-09-02T14:31:17.724Z"
   },
   {
    "duration": 10,
    "start_time": "2022-09-02T14:31:21.398Z"
   },
   {
    "duration": 78,
    "start_time": "2022-09-02T14:31:21.410Z"
   },
   {
    "duration": 189,
    "start_time": "2022-09-02T14:31:21.489Z"
   },
   {
    "duration": 26,
    "start_time": "2022-09-02T14:31:21.680Z"
   },
   {
    "duration": 5150,
    "start_time": "2022-09-02T14:31:21.708Z"
   },
   {
    "duration": 2,
    "start_time": "2022-09-02T14:31:26.860Z"
   },
   {
    "duration": 103,
    "start_time": "2022-09-02T14:31:26.864Z"
   },
   {
    "duration": 297,
    "start_time": "2022-09-02T14:31:26.968Z"
   },
   {
    "duration": 20,
    "start_time": "2022-09-02T14:31:27.268Z"
   },
   {
    "duration": 4245,
    "start_time": "2022-09-02T14:31:27.290Z"
   },
   {
    "duration": 3,
    "start_time": "2022-09-02T14:31:31.536Z"
   },
   {
    "duration": 150,
    "start_time": "2022-09-02T14:31:31.541Z"
   },
   {
    "duration": 415,
    "start_time": "2022-09-02T14:31:31.693Z"
   },
   {
    "duration": 19,
    "start_time": "2022-09-02T14:31:32.110Z"
   },
   {
    "duration": 192,
    "start_time": "2022-09-02T14:33:47.613Z"
   },
   {
    "duration": 21,
    "start_time": "2022-09-02T14:34:03.831Z"
   },
   {
    "duration": 30,
    "start_time": "2022-09-02T14:34:28.668Z"
   },
   {
    "duration": 20,
    "start_time": "2022-09-02T14:35:06.321Z"
   },
   {
    "duration": 43,
    "start_time": "2022-09-02T14:35:31.370Z"
   },
   {
    "duration": 59,
    "start_time": "2022-09-02T14:36:35.369Z"
   },
   {
    "duration": 15,
    "start_time": "2022-09-02T14:41:48.266Z"
   },
   {
    "duration": 3061,
    "start_time": "2022-09-02T14:42:49.718Z"
   },
   {
    "duration": 833,
    "start_time": "2022-09-02T14:42:52.782Z"
   },
   {
    "duration": 12,
    "start_time": "2022-09-02T14:42:53.617Z"
   },
   {
    "duration": 500,
    "start_time": "2022-09-02T14:42:53.631Z"
   },
   {
    "duration": 29,
    "start_time": "2022-09-02T14:42:54.133Z"
   },
   {
    "duration": 266,
    "start_time": "2022-09-02T14:42:54.164Z"
   },
   {
    "duration": 19,
    "start_time": "2022-09-02T14:42:54.432Z"
   },
   {
    "duration": 48,
    "start_time": "2022-09-02T14:42:54.454Z"
   },
   {
    "duration": 13,
    "start_time": "2022-09-02T14:42:54.505Z"
   },
   {
    "duration": 5,
    "start_time": "2022-09-02T14:42:54.522Z"
   },
   {
    "duration": 778,
    "start_time": "2022-09-02T14:42:54.529Z"
   },
   {
    "duration": 72,
    "start_time": "2022-09-02T14:42:55.310Z"
   },
   {
    "duration": 143,
    "start_time": "2022-09-02T14:42:55.384Z"
   },
   {
    "duration": 4051,
    "start_time": "2022-09-02T14:42:55.529Z"
   },
   {
    "duration": 3,
    "start_time": "2022-09-02T14:42:59.581Z"
   },
   {
    "duration": 104,
    "start_time": "2022-09-02T14:42:59.586Z"
   },
   {
    "duration": 232,
    "start_time": "2022-09-02T14:42:59.692Z"
   },
   {
    "duration": 20,
    "start_time": "2022-09-02T14:42:59.926Z"
   },
   {
    "duration": 3618,
    "start_time": "2022-09-02T14:42:59.948Z"
   },
   {
    "duration": 7,
    "start_time": "2022-09-02T14:43:03.568Z"
   },
   {
    "duration": 83,
    "start_time": "2022-09-02T14:43:03.577Z"
   },
   {
    "duration": 187,
    "start_time": "2022-09-02T14:43:03.663Z"
   },
   {
    "duration": 19,
    "start_time": "2022-09-02T14:43:03.853Z"
   },
   {
    "duration": 5321,
    "start_time": "2022-09-02T14:43:03.874Z"
   },
   {
    "duration": 6,
    "start_time": "2022-09-02T14:43:09.197Z"
   },
   {
    "duration": 93,
    "start_time": "2022-09-02T14:43:09.205Z"
   },
   {
    "duration": 286,
    "start_time": "2022-09-02T14:43:09.303Z"
   },
   {
    "duration": 23,
    "start_time": "2022-09-02T14:43:09.592Z"
   },
   {
    "duration": 4276,
    "start_time": "2022-09-02T14:43:09.616Z"
   },
   {
    "duration": 3,
    "start_time": "2022-09-02T14:43:13.893Z"
   },
   {
    "duration": 106,
    "start_time": "2022-09-02T14:43:13.897Z"
   },
   {
    "duration": 399,
    "start_time": "2022-09-02T14:43:14.005Z"
   },
   {
    "duration": 62,
    "start_time": "2022-09-02T14:43:14.406Z"
   },
   {
    "duration": 363,
    "start_time": "2022-09-02T14:43:14.470Z"
   },
   {
    "duration": 5,
    "start_time": "2022-09-02T14:45:04.465Z"
   },
   {
    "duration": 3,
    "start_time": "2022-09-02T14:46:16.330Z"
   },
   {
    "duration": 4132,
    "start_time": "2022-09-02T14:48:06.488Z"
   },
   {
    "duration": 4313,
    "start_time": "2022-09-02T14:48:27.365Z"
   },
   {
    "duration": 4,
    "start_time": "2022-09-02T14:49:15.805Z"
   },
   {
    "duration": 4244,
    "start_time": "2022-09-02T14:51:27.237Z"
   },
   {
    "duration": 3,
    "start_time": "2022-09-02T14:51:31.484Z"
   },
   {
    "duration": 93,
    "start_time": "2022-09-02T14:51:31.488Z"
   },
   {
    "duration": 4,
    "start_time": "2022-09-02T14:51:31.583Z"
   },
   {
    "duration": 369,
    "start_time": "2022-09-02T14:51:38.890Z"
   },
   {
    "duration": 82,
    "start_time": "2022-09-02T14:51:40.774Z"
   },
   {
    "duration": 314,
    "start_time": "2022-09-02T14:51:43.828Z"
   },
   {
    "duration": 4,
    "start_time": "2022-09-02T14:55:01.474Z"
   },
   {
    "duration": 4,
    "start_time": "2022-09-02T14:55:28.137Z"
   },
   {
    "duration": 3078,
    "start_time": "2022-09-02T15:01:31.492Z"
   },
   {
    "duration": 850,
    "start_time": "2022-09-02T15:01:34.573Z"
   },
   {
    "duration": 14,
    "start_time": "2022-09-02T15:01:35.425Z"
   },
   {
    "duration": 465,
    "start_time": "2022-09-02T15:01:35.442Z"
   },
   {
    "duration": 28,
    "start_time": "2022-09-02T15:01:35.909Z"
   },
   {
    "duration": 262,
    "start_time": "2022-09-02T15:01:35.939Z"
   },
   {
    "duration": 17,
    "start_time": "2022-09-02T15:01:36.203Z"
   },
   {
    "duration": 35,
    "start_time": "2022-09-02T15:01:36.222Z"
   },
   {
    "duration": 5,
    "start_time": "2022-09-02T15:01:36.259Z"
   },
   {
    "duration": 7,
    "start_time": "2022-09-02T15:01:36.267Z"
   },
   {
    "duration": 796,
    "start_time": "2022-09-02T15:01:36.276Z"
   },
   {
    "duration": 77,
    "start_time": "2022-09-02T15:01:37.074Z"
   },
   {
    "duration": 144,
    "start_time": "2022-09-02T15:01:37.153Z"
   },
   {
    "duration": 4284,
    "start_time": "2022-09-02T15:01:37.303Z"
   },
   {
    "duration": 3,
    "start_time": "2022-09-02T15:01:41.589Z"
   },
   {
    "duration": 101,
    "start_time": "2022-09-02T15:01:41.594Z"
   },
   {
    "duration": 249,
    "start_time": "2022-09-02T15:01:41.697Z"
   },
   {
    "duration": 23,
    "start_time": "2022-09-02T15:01:41.948Z"
   },
   {
    "duration": 3682,
    "start_time": "2022-09-02T15:01:41.973Z"
   },
   {
    "duration": 6,
    "start_time": "2022-09-02T15:01:45.657Z"
   },
   {
    "duration": 82,
    "start_time": "2022-09-02T15:01:45.665Z"
   },
   {
    "duration": 198,
    "start_time": "2022-09-02T15:01:45.749Z"
   },
   {
    "duration": 21,
    "start_time": "2022-09-02T15:01:45.949Z"
   },
   {
    "duration": 5598,
    "start_time": "2022-09-02T15:01:45.973Z"
   },
   {
    "duration": 3,
    "start_time": "2022-09-02T15:01:51.573Z"
   },
   {
    "duration": 108,
    "start_time": "2022-09-02T15:01:51.577Z"
   },
   {
    "duration": 292,
    "start_time": "2022-09-02T15:01:51.687Z"
   },
   {
    "duration": 29,
    "start_time": "2022-09-02T15:01:51.982Z"
   },
   {
    "duration": 4159,
    "start_time": "2022-09-02T15:01:52.012Z"
   },
   {
    "duration": 4,
    "start_time": "2022-09-02T15:01:56.173Z"
   },
   {
    "duration": 123,
    "start_time": "2022-09-02T15:01:56.178Z"
   },
   {
    "duration": 5,
    "start_time": "2022-09-02T15:01:56.303Z"
   },
   {
    "duration": 392,
    "start_time": "2022-09-02T15:01:56.309Z"
   },
   {
    "duration": 66,
    "start_time": "2022-09-02T15:01:56.703Z"
   },
   {
    "duration": 5,
    "start_time": "2022-09-02T15:01:56.771Z"
   },
   {
    "duration": 386,
    "start_time": "2022-09-02T15:01:56.778Z"
   },
   {
    "duration": 60450,
    "start_time": "2022-09-02T15:01:57.165Z"
   },
   {
    "duration": 2549,
    "start_time": "2022-09-02T15:05:05.881Z"
   },
   {
    "duration": 191,
    "start_time": "2022-09-02T15:06:24.054Z"
   },
   {
    "duration": 19,
    "start_time": "2022-09-02T15:06:52.081Z"
   },
   {
    "duration": 308,
    "start_time": "2022-09-02T15:07:42.617Z"
   },
   {
    "duration": 2666,
    "start_time": "2022-09-02T15:16:04.631Z"
   },
   {
    "duration": 24,
    "start_time": "2022-09-02T15:16:07.299Z"
   },
   {
    "duration": 28,
    "start_time": "2022-09-02T15:16:42.858Z"
   },
   {
    "duration": 346,
    "start_time": "2022-09-02T15:16:54.850Z"
   },
   {
    "duration": 3653,
    "start_time": "2022-09-03T13:46:31.026Z"
   },
   {
    "duration": 2719,
    "start_time": "2022-09-03T13:46:34.682Z"
   },
   {
    "duration": 14,
    "start_time": "2022-09-03T13:46:37.403Z"
   },
   {
    "duration": 558,
    "start_time": "2022-09-03T13:46:37.419Z"
   },
   {
    "duration": 35,
    "start_time": "2022-09-03T13:46:37.980Z"
   },
   {
    "duration": 254,
    "start_time": "2022-09-03T13:46:38.017Z"
   },
   {
    "duration": 41,
    "start_time": "2022-09-03T13:46:38.273Z"
   },
   {
    "duration": 37,
    "start_time": "2022-09-03T13:46:38.318Z"
   },
   {
    "duration": 7,
    "start_time": "2022-09-03T13:46:38.357Z"
   },
   {
    "duration": 8,
    "start_time": "2022-09-03T13:46:38.366Z"
   },
   {
    "duration": 734,
    "start_time": "2022-09-03T13:46:38.376Z"
   },
   {
    "duration": 61,
    "start_time": "2022-09-03T13:46:39.113Z"
   },
   {
    "duration": 171,
    "start_time": "2022-09-03T13:46:39.176Z"
   },
   {
    "duration": 4579,
    "start_time": "2022-09-03T13:46:39.351Z"
   },
   {
    "duration": 3,
    "start_time": "2022-09-03T13:46:43.932Z"
   },
   {
    "duration": 153,
    "start_time": "2022-09-03T13:46:43.936Z"
   },
   {
    "duration": 238,
    "start_time": "2022-09-03T13:46:44.092Z"
   },
   {
    "duration": 35,
    "start_time": "2022-09-03T13:46:44.332Z"
   },
   {
    "duration": 3985,
    "start_time": "2022-09-03T13:46:44.369Z"
   },
   {
    "duration": 6,
    "start_time": "2022-09-03T13:46:48.355Z"
   },
   {
    "duration": 88,
    "start_time": "2022-09-03T13:46:48.363Z"
   },
   {
    "duration": 196,
    "start_time": "2022-09-03T13:46:48.453Z"
   },
   {
    "duration": 17,
    "start_time": "2022-09-03T13:46:48.651Z"
   },
   {
    "duration": 5669,
    "start_time": "2022-09-03T13:46:48.670Z"
   },
   {
    "duration": 2,
    "start_time": "2022-09-03T13:46:54.341Z"
   },
   {
    "duration": 114,
    "start_time": "2022-09-03T13:46:54.345Z"
   },
   {
    "duration": 353,
    "start_time": "2022-09-03T13:46:54.461Z"
   },
   {
    "duration": 27,
    "start_time": "2022-09-03T13:46:54.817Z"
   },
   {
    "duration": 4436,
    "start_time": "2022-09-03T13:46:54.846Z"
   },
   {
    "duration": 5,
    "start_time": "2022-09-03T13:46:59.285Z"
   },
   {
    "duration": 102,
    "start_time": "2022-09-03T13:46:59.297Z"
   },
   {
    "duration": 4,
    "start_time": "2022-09-03T13:46:59.401Z"
   },
   {
    "duration": 344,
    "start_time": "2022-09-03T13:46:59.407Z"
   },
   {
    "duration": 74,
    "start_time": "2022-09-03T13:46:59.753Z"
   },
   {
    "duration": 5,
    "start_time": "2022-09-03T13:46:59.828Z"
   },
   {
    "duration": 363,
    "start_time": "2022-09-03T13:46:59.834Z"
   },
   {
    "duration": 58930,
    "start_time": "2022-09-03T13:47:00.199Z"
   },
   {
    "duration": 2657,
    "start_time": "2022-09-03T13:47:59.131Z"
   },
   {
    "duration": 27,
    "start_time": "2022-09-03T13:48:01.791Z"
   },
   {
    "duration": 361,
    "start_time": "2022-09-03T13:48:01.820Z"
   },
   {
    "duration": 28,
    "start_time": "2022-09-03T13:50:54.710Z"
   },
   {
    "duration": 11,
    "start_time": "2022-09-03T13:53:10.850Z"
   },
   {
    "duration": 118,
    "start_time": "2022-09-03T13:53:12.072Z"
   },
   {
    "duration": 4,
    "start_time": "2022-09-03T13:53:12.932Z"
   },
   {
    "duration": 142,
    "start_time": "2022-09-03T13:55:25.070Z"
   },
   {
    "duration": 213,
    "start_time": "2022-09-03T13:55:52.012Z"
   },
   {
    "duration": 216,
    "start_time": "2022-09-03T13:57:20.816Z"
   },
   {
    "duration": 194,
    "start_time": "2022-09-03T13:58:01.734Z"
   },
   {
    "duration": 217,
    "start_time": "2022-09-03T13:58:43.816Z"
   },
   {
    "duration": 157,
    "start_time": "2022-09-03T14:00:27.458Z"
   },
   {
    "duration": 137,
    "start_time": "2022-09-03T14:02:59.586Z"
   },
   {
    "duration": 201,
    "start_time": "2022-09-03T14:03:01.854Z"
   },
   {
    "duration": 114,
    "start_time": "2022-09-03T14:03:17.240Z"
   },
   {
    "duration": 3809,
    "start_time": "2022-09-03T14:03:18.883Z"
   },
   {
    "duration": 223,
    "start_time": "2022-09-03T14:04:04.130Z"
   },
   {
    "duration": 20,
    "start_time": "2022-09-03T14:04:22.028Z"
   },
   {
    "duration": 187,
    "start_time": "2022-09-03T14:04:25.814Z"
   },
   {
    "duration": 29,
    "start_time": "2022-09-03T14:04:26.809Z"
   },
   {
    "duration": 3873,
    "start_time": "2022-09-03T14:04:39.885Z"
   },
   {
    "duration": 218,
    "start_time": "2022-09-03T14:04:45.290Z"
   },
   {
    "duration": 24,
    "start_time": "2022-09-03T14:04:46.657Z"
   },
   {
    "duration": 95,
    "start_time": "2022-09-03T14:10:10.713Z"
   },
   {
    "duration": 22,
    "start_time": "2022-09-03T14:10:13.100Z"
   },
   {
    "duration": 3886,
    "start_time": "2022-09-03T14:11:14.362Z"
   },
   {
    "duration": 123,
    "start_time": "2022-09-03T14:11:18.250Z"
   },
   {
    "duration": 23,
    "start_time": "2022-09-03T14:11:18.376Z"
   },
   {
    "duration": 12,
    "start_time": "2022-09-03T14:16:06.401Z"
   },
   {
    "duration": 223,
    "start_time": "2022-09-03T14:16:54.335Z"
   },
   {
    "duration": 23,
    "start_time": "2022-09-03T14:16:55.606Z"
   },
   {
    "duration": 9,
    "start_time": "2022-09-03T14:16:56.832Z"
   },
   {
    "duration": 13,
    "start_time": "2022-09-03T14:28:49.025Z"
   },
   {
    "duration": 7,
    "start_time": "2022-09-03T14:28:57.933Z"
   },
   {
    "duration": 40,
    "start_time": "2022-09-03T14:28:58.855Z"
   },
   {
    "duration": 3325,
    "start_time": "2022-09-03T14:30:32.019Z"
   },
   {
    "duration": 887,
    "start_time": "2022-09-03T14:30:35.346Z"
   },
   {
    "duration": 14,
    "start_time": "2022-09-03T14:30:36.234Z"
   },
   {
    "duration": 471,
    "start_time": "2022-09-03T14:30:36.251Z"
   },
   {
    "duration": 34,
    "start_time": "2022-09-03T14:30:36.723Z"
   },
   {
    "duration": 286,
    "start_time": "2022-09-03T14:30:36.760Z"
   },
   {
    "duration": 17,
    "start_time": "2022-09-03T14:30:37.048Z"
   },
   {
    "duration": 50,
    "start_time": "2022-09-03T14:30:37.067Z"
   },
   {
    "duration": 6,
    "start_time": "2022-09-03T14:30:37.119Z"
   },
   {
    "duration": 7,
    "start_time": "2022-09-03T14:30:37.129Z"
   },
   {
    "duration": 806,
    "start_time": "2022-09-03T14:30:37.138Z"
   },
   {
    "duration": 83,
    "start_time": "2022-09-03T14:30:37.947Z"
   },
   {
    "duration": 24,
    "start_time": "2022-09-03T14:30:38.032Z"
   },
   {
    "duration": 88,
    "start_time": "2022-09-03T14:30:38.058Z"
   },
   {
    "duration": 4,
    "start_time": "2022-09-03T14:30:38.148Z"
   },
   {
    "duration": 11,
    "start_time": "2022-09-03T14:30:38.154Z"
   },
   {
    "duration": 237,
    "start_time": "2022-09-03T14:30:38.184Z"
   },
   {
    "duration": 0,
    "start_time": "2022-09-03T14:30:38.423Z"
   },
   {
    "duration": 0,
    "start_time": "2022-09-03T14:30:38.425Z"
   },
   {
    "duration": 0,
    "start_time": "2022-09-03T14:30:38.427Z"
   },
   {
    "duration": 0,
    "start_time": "2022-09-03T14:30:38.428Z"
   },
   {
    "duration": 0,
    "start_time": "2022-09-03T14:30:38.429Z"
   },
   {
    "duration": 0,
    "start_time": "2022-09-03T14:30:38.431Z"
   },
   {
    "duration": 0,
    "start_time": "2022-09-03T14:30:38.432Z"
   },
   {
    "duration": 0,
    "start_time": "2022-09-03T14:30:38.432Z"
   },
   {
    "duration": 0,
    "start_time": "2022-09-03T14:30:38.433Z"
   },
   {
    "duration": 0,
    "start_time": "2022-09-03T14:30:38.435Z"
   },
   {
    "duration": 0,
    "start_time": "2022-09-03T14:30:38.436Z"
   },
   {
    "duration": 0,
    "start_time": "2022-09-03T14:30:38.437Z"
   },
   {
    "duration": 0,
    "start_time": "2022-09-03T14:30:38.438Z"
   },
   {
    "duration": 0,
    "start_time": "2022-09-03T14:30:38.439Z"
   },
   {
    "duration": 0,
    "start_time": "2022-09-03T14:30:38.440Z"
   },
   {
    "duration": 0,
    "start_time": "2022-09-03T14:30:38.441Z"
   },
   {
    "duration": 0,
    "start_time": "2022-09-03T14:30:38.443Z"
   },
   {
    "duration": 0,
    "start_time": "2022-09-03T14:30:38.443Z"
   },
   {
    "duration": 0,
    "start_time": "2022-09-03T14:30:38.444Z"
   },
   {
    "duration": 0,
    "start_time": "2022-09-03T14:30:38.445Z"
   },
   {
    "duration": 0,
    "start_time": "2022-09-03T14:30:38.485Z"
   },
   {
    "duration": 0,
    "start_time": "2022-09-03T14:30:38.486Z"
   },
   {
    "duration": 4,
    "start_time": "2022-09-03T14:32:03.048Z"
   },
   {
    "duration": 48,
    "start_time": "2022-09-03T14:32:04.731Z"
   },
   {
    "duration": 3,
    "start_time": "2022-09-03T14:32:17.369Z"
   },
   {
    "duration": 57,
    "start_time": "2022-09-03T14:32:18.666Z"
   },
   {
    "duration": 8,
    "start_time": "2022-09-03T14:39:18.592Z"
   },
   {
    "duration": 49,
    "start_time": "2022-09-03T14:39:21.758Z"
   },
   {
    "duration": 4,
    "start_time": "2022-09-03T14:39:23.686Z"
   },
   {
    "duration": 4,
    "start_time": "2022-09-03T14:39:25.893Z"
   },
   {
    "duration": 38,
    "start_time": "2022-09-03T14:39:27.805Z"
   },
   {
    "duration": 41,
    "start_time": "2022-09-03T14:44:35.910Z"
   },
   {
    "duration": 5,
    "start_time": "2022-09-03T14:49:19.348Z"
   },
   {
    "duration": 4,
    "start_time": "2022-09-03T14:49:41.787Z"
   },
   {
    "duration": 17,
    "start_time": "2022-09-03T14:52:44.985Z"
   },
   {
    "duration": 9,
    "start_time": "2022-09-03T14:54:00.456Z"
   },
   {
    "duration": 4,
    "start_time": "2022-09-03T14:54:30.065Z"
   },
   {
    "duration": 26,
    "start_time": "2022-09-03T14:55:12.818Z"
   },
   {
    "duration": 5,
    "start_time": "2022-09-03T14:56:04.100Z"
   },
   {
    "duration": 3032,
    "start_time": "2022-09-03T14:58:52.513Z"
   },
   {
    "duration": 817,
    "start_time": "2022-09-03T14:58:55.547Z"
   },
   {
    "duration": 35,
    "start_time": "2022-09-03T14:58:56.365Z"
   },
   {
    "duration": 412,
    "start_time": "2022-09-03T14:58:56.402Z"
   },
   {
    "duration": 26,
    "start_time": "2022-09-03T14:58:56.816Z"
   },
   {
    "duration": 260,
    "start_time": "2022-09-03T14:58:56.844Z"
   },
   {
    "duration": 16,
    "start_time": "2022-09-03T14:58:57.107Z"
   },
   {
    "duration": 33,
    "start_time": "2022-09-03T14:58:57.125Z"
   },
   {
    "duration": 26,
    "start_time": "2022-09-03T14:58:57.160Z"
   },
   {
    "duration": 3,
    "start_time": "2022-09-03T14:58:57.199Z"
   },
   {
    "duration": 737,
    "start_time": "2022-09-03T14:58:57.204Z"
   },
   {
    "duration": 74,
    "start_time": "2022-09-03T14:58:57.943Z"
   },
   {
    "duration": 20,
    "start_time": "2022-09-03T14:58:58.019Z"
   },
   {
    "duration": 75,
    "start_time": "2022-09-03T14:58:58.041Z"
   },
   {
    "duration": 4,
    "start_time": "2022-09-03T14:58:58.118Z"
   },
   {
    "duration": 10,
    "start_time": "2022-09-03T14:58:58.124Z"
   },
   {
    "duration": 58,
    "start_time": "2022-09-03T14:58:58.136Z"
   },
   {
    "duration": 222,
    "start_time": "2022-09-03T14:58:58.199Z"
   },
   {
    "duration": 177,
    "start_time": "2022-09-03T14:58:58.422Z"
   },
   {
    "duration": 5566,
    "start_time": "2022-09-03T14:58:58.601Z"
   },
   {
    "duration": 322,
    "start_time": "2022-09-03T14:59:04.169Z"
   },
   {
    "duration": 27,
    "start_time": "2022-09-03T14:59:04.501Z"
   },
   {
    "duration": 13,
    "start_time": "2022-09-03T14:59:04.530Z"
   },
   {
    "duration": 7664,
    "start_time": "2022-09-03T14:59:04.545Z"
   },
   {
    "duration": 213,
    "start_time": "2022-09-03T14:59:12.211Z"
   },
   {
    "duration": 0,
    "start_time": "2022-09-03T14:59:12.427Z"
   },
   {
    "duration": 0,
    "start_time": "2022-09-03T14:59:12.429Z"
   },
   {
    "duration": 0,
    "start_time": "2022-09-03T14:59:12.431Z"
   },
   {
    "duration": 0,
    "start_time": "2022-09-03T14:59:12.433Z"
   },
   {
    "duration": 0,
    "start_time": "2022-09-03T14:59:12.434Z"
   },
   {
    "duration": 1,
    "start_time": "2022-09-03T14:59:12.435Z"
   },
   {
    "duration": 0,
    "start_time": "2022-09-03T14:59:12.437Z"
   },
   {
    "duration": 0,
    "start_time": "2022-09-03T14:59:12.439Z"
   },
   {
    "duration": 0,
    "start_time": "2022-09-03T14:59:12.440Z"
   },
   {
    "duration": 0,
    "start_time": "2022-09-03T14:59:12.442Z"
   },
   {
    "duration": 0,
    "start_time": "2022-09-03T14:59:12.443Z"
   },
   {
    "duration": 0,
    "start_time": "2022-09-03T14:59:12.445Z"
   },
   {
    "duration": 0,
    "start_time": "2022-09-03T14:59:12.446Z"
   },
   {
    "duration": 4786,
    "start_time": "2022-09-03T15:13:49.921Z"
   },
   {
    "duration": 29,
    "start_time": "2022-09-03T15:13:54.710Z"
   },
   {
    "duration": 178,
    "start_time": "2022-09-03T15:14:14.961Z"
   },
   {
    "duration": 19,
    "start_time": "2022-09-03T15:14:17.276Z"
   },
   {
    "duration": 14,
    "start_time": "2022-09-03T15:14:51.722Z"
   },
   {
    "duration": 18,
    "start_time": "2022-09-03T15:15:06.003Z"
   },
   {
    "duration": 5168,
    "start_time": "2022-09-03T15:16:29.752Z"
   },
   {
    "duration": 3060,
    "start_time": "2022-09-03T15:18:34.136Z"
   },
   {
    "duration": 797,
    "start_time": "2022-09-03T15:18:37.198Z"
   },
   {
    "duration": 14,
    "start_time": "2022-09-03T15:18:37.997Z"
   },
   {
    "duration": 404,
    "start_time": "2022-09-03T15:18:38.013Z"
   },
   {
    "duration": 27,
    "start_time": "2022-09-03T15:18:38.419Z"
   },
   {
    "duration": 254,
    "start_time": "2022-09-03T15:18:38.448Z"
   },
   {
    "duration": 16,
    "start_time": "2022-09-03T15:18:38.704Z"
   },
   {
    "duration": 34,
    "start_time": "2022-09-03T15:18:38.722Z"
   },
   {
    "duration": 5,
    "start_time": "2022-09-03T15:18:38.758Z"
   },
   {
    "duration": 10,
    "start_time": "2022-09-03T15:18:38.787Z"
   },
   {
    "duration": 743,
    "start_time": "2022-09-03T15:18:38.799Z"
   },
   {
    "duration": 72,
    "start_time": "2022-09-03T15:18:39.544Z"
   },
   {
    "duration": 21,
    "start_time": "2022-09-03T15:18:39.618Z"
   },
   {
    "duration": 70,
    "start_time": "2022-09-03T15:18:39.641Z"
   },
   {
    "duration": 4,
    "start_time": "2022-09-03T15:18:39.713Z"
   },
   {
    "duration": 5,
    "start_time": "2022-09-03T15:18:39.719Z"
   },
   {
    "duration": 38,
    "start_time": "2022-09-03T15:18:39.726Z"
   },
   {
    "duration": 225,
    "start_time": "2022-09-03T15:18:39.766Z"
   },
   {
    "duration": 169,
    "start_time": "2022-09-03T15:18:39.993Z"
   },
   {
    "duration": 5257,
    "start_time": "2022-09-03T15:18:40.164Z"
   },
   {
    "duration": 286,
    "start_time": "2022-09-03T15:18:45.423Z"
   },
   {
    "duration": 21,
    "start_time": "2022-09-03T15:18:45.711Z"
   },
   {
    "duration": 12,
    "start_time": "2022-09-03T15:18:45.734Z"
   },
   {
    "duration": 4717,
    "start_time": "2022-09-03T15:18:45.748Z"
   },
   {
    "duration": 180,
    "start_time": "2022-09-03T15:18:50.467Z"
   },
   {
    "duration": 20,
    "start_time": "2022-09-03T15:18:50.649Z"
   },
   {
    "duration": 53188,
    "start_time": "2022-09-03T15:18:50.670Z"
   },
   {
    "duration": 203,
    "start_time": "2022-09-03T15:19:43.861Z"
   },
   {
    "duration": 0,
    "start_time": "2022-09-03T15:19:44.066Z"
   },
   {
    "duration": 0,
    "start_time": "2022-09-03T15:19:44.067Z"
   },
   {
    "duration": 0,
    "start_time": "2022-09-03T15:19:44.068Z"
   },
   {
    "duration": 0,
    "start_time": "2022-09-03T15:19:44.070Z"
   },
   {
    "duration": 0,
    "start_time": "2022-09-03T15:19:44.084Z"
   },
   {
    "duration": 0,
    "start_time": "2022-09-03T15:19:44.086Z"
   },
   {
    "duration": 0,
    "start_time": "2022-09-03T15:19:44.088Z"
   },
   {
    "duration": 0,
    "start_time": "2022-09-03T15:19:44.089Z"
   },
   {
    "duration": 0,
    "start_time": "2022-09-03T15:19:44.090Z"
   },
   {
    "duration": 0,
    "start_time": "2022-09-03T15:19:44.092Z"
   },
   {
    "duration": 8017,
    "start_time": "2022-09-03T15:20:59.356Z"
   },
   {
    "duration": 7334,
    "start_time": "2022-09-03T15:21:29.553Z"
   },
   {
    "duration": 6777,
    "start_time": "2022-09-03T15:21:55.847Z"
   },
   {
    "duration": 278,
    "start_time": "2022-09-03T15:22:24.047Z"
   },
   {
    "duration": 21,
    "start_time": "2022-09-03T15:22:46.277Z"
   },
   {
    "duration": 15,
    "start_time": "2022-09-03T15:26:42.690Z"
   },
   {
    "duration": 3357,
    "start_time": "2022-09-03T15:27:44.495Z"
   },
   {
    "duration": 857,
    "start_time": "2022-09-03T15:27:47.854Z"
   },
   {
    "duration": 17,
    "start_time": "2022-09-03T15:27:48.713Z"
   },
   {
    "duration": 470,
    "start_time": "2022-09-03T15:27:48.732Z"
   },
   {
    "duration": 28,
    "start_time": "2022-09-03T15:27:49.205Z"
   },
   {
    "duration": 258,
    "start_time": "2022-09-03T15:27:49.234Z"
   },
   {
    "duration": 21,
    "start_time": "2022-09-03T15:27:49.494Z"
   },
   {
    "duration": 35,
    "start_time": "2022-09-03T15:27:49.517Z"
   },
   {
    "duration": 7,
    "start_time": "2022-09-03T15:27:49.554Z"
   },
   {
    "duration": 27,
    "start_time": "2022-09-03T15:27:49.563Z"
   },
   {
    "duration": 820,
    "start_time": "2022-09-03T15:27:49.597Z"
   },
   {
    "duration": 84,
    "start_time": "2022-09-03T15:27:50.420Z"
   },
   {
    "duration": 28,
    "start_time": "2022-09-03T15:27:50.507Z"
   },
   {
    "duration": 69,
    "start_time": "2022-09-03T15:27:50.538Z"
   },
   {
    "duration": 5,
    "start_time": "2022-09-03T15:27:50.608Z"
   },
   {
    "duration": 5,
    "start_time": "2022-09-03T15:27:50.615Z"
   },
   {
    "duration": 69,
    "start_time": "2022-09-03T15:27:50.623Z"
   },
   {
    "duration": 228,
    "start_time": "2022-09-03T15:27:50.694Z"
   },
   {
    "duration": 216,
    "start_time": "2022-09-03T15:27:50.924Z"
   },
   {
    "duration": 6412,
    "start_time": "2022-09-03T15:27:51.142Z"
   },
   {
    "duration": 297,
    "start_time": "2022-09-03T15:27:57.556Z"
   },
   {
    "duration": 20,
    "start_time": "2022-09-03T15:27:57.854Z"
   },
   {
    "duration": 15,
    "start_time": "2022-09-03T15:27:57.888Z"
   },
   {
    "duration": 5062,
    "start_time": "2022-09-03T15:27:57.905Z"
   },
   {
    "duration": 195,
    "start_time": "2022-09-03T15:28:02.969Z"
   },
   {
    "duration": 26,
    "start_time": "2022-09-03T15:28:03.166Z"
   },
   {
    "duration": 7700,
    "start_time": "2022-09-03T15:28:03.202Z"
   },
   {
    "duration": 335,
    "start_time": "2022-09-03T15:28:10.907Z"
   },
   {
    "duration": 20,
    "start_time": "2022-09-03T15:28:11.244Z"
   },
   {
    "duration": 31,
    "start_time": "2022-09-03T15:28:11.266Z"
   },
   {
    "duration": 180,
    "start_time": "2022-09-03T15:28:11.299Z"
   },
   {
    "duration": 0,
    "start_time": "2022-09-03T15:28:11.481Z"
   },
   {
    "duration": 0,
    "start_time": "2022-09-03T15:28:11.482Z"
   },
   {
    "duration": 0,
    "start_time": "2022-09-03T15:28:11.487Z"
   },
   {
    "duration": 0,
    "start_time": "2022-09-03T15:28:11.496Z"
   },
   {
    "duration": 0,
    "start_time": "2022-09-03T15:28:11.500Z"
   },
   {
    "duration": 0,
    "start_time": "2022-09-03T15:28:11.501Z"
   },
   {
    "duration": 10,
    "start_time": "2022-09-03T15:28:59.127Z"
   },
   {
    "duration": 19,
    "start_time": "2022-09-03T15:32:46.400Z"
   },
   {
    "duration": 12,
    "start_time": "2022-09-03T15:33:04.594Z"
   },
   {
    "duration": 8,
    "start_time": "2022-09-03T15:33:21.469Z"
   },
   {
    "duration": 8,
    "start_time": "2022-09-03T15:34:13.521Z"
   },
   {
    "duration": 9,
    "start_time": "2022-09-03T15:34:24.888Z"
   },
   {
    "duration": 80,
    "start_time": "2022-09-03T15:35:40.858Z"
   },
   {
    "duration": 5719,
    "start_time": "2022-09-03T15:38:07.641Z"
   },
   {
    "duration": 22,
    "start_time": "2022-09-03T15:38:21.159Z"
   },
   {
    "duration": 5,
    "start_time": "2022-09-03T15:41:39.649Z"
   },
   {
    "duration": 4073,
    "start_time": "2022-09-03T15:44:30.248Z"
   },
   {
    "duration": 1095,
    "start_time": "2022-09-03T15:44:34.324Z"
   },
   {
    "duration": 17,
    "start_time": "2022-09-03T15:44:35.423Z"
   },
   {
    "duration": 567,
    "start_time": "2022-09-03T15:44:35.443Z"
   },
   {
    "duration": 34,
    "start_time": "2022-09-03T15:44:36.012Z"
   },
   {
    "duration": 355,
    "start_time": "2022-09-03T15:44:36.049Z"
   },
   {
    "duration": 25,
    "start_time": "2022-09-03T15:44:36.406Z"
   },
   {
    "duration": 65,
    "start_time": "2022-09-03T15:44:36.434Z"
   },
   {
    "duration": 22,
    "start_time": "2022-09-03T15:44:36.501Z"
   },
   {
    "duration": 32,
    "start_time": "2022-09-03T15:44:36.528Z"
   },
   {
    "duration": 1067,
    "start_time": "2022-09-03T15:44:36.563Z"
   },
   {
    "duration": 77,
    "start_time": "2022-09-03T15:44:37.633Z"
   },
   {
    "duration": 24,
    "start_time": "2022-09-03T15:44:37.713Z"
   },
   {
    "duration": 103,
    "start_time": "2022-09-03T15:44:37.739Z"
   },
   {
    "duration": 5,
    "start_time": "2022-09-03T15:44:37.845Z"
   },
   {
    "duration": 14,
    "start_time": "2022-09-03T15:44:37.852Z"
   },
   {
    "duration": 89,
    "start_time": "2022-09-03T15:44:37.869Z"
   },
   {
    "duration": 297,
    "start_time": "2022-09-03T15:44:37.960Z"
   },
   {
    "duration": 240,
    "start_time": "2022-09-03T15:44:38.259Z"
   },
   {
    "duration": 5,
    "start_time": "2022-09-03T15:44:38.502Z"
   },
   {
    "duration": 5851,
    "start_time": "2022-09-03T15:44:38.509Z"
   },
   {
    "duration": 395,
    "start_time": "2022-09-03T15:44:44.362Z"
   },
   {
    "duration": 34,
    "start_time": "2022-09-03T15:44:44.759Z"
   },
   {
    "duration": 11,
    "start_time": "2022-09-03T15:44:44.795Z"
   },
   {
    "duration": 5456,
    "start_time": "2022-09-03T15:44:44.808Z"
   },
   {
    "duration": 259,
    "start_time": "2022-09-03T15:44:50.266Z"
   },
   {
    "duration": 29,
    "start_time": "2022-09-03T15:44:50.529Z"
   },
   {
    "duration": 10529,
    "start_time": "2022-09-03T15:44:50.564Z"
   },
   {
    "duration": 306,
    "start_time": "2022-09-03T15:45:01.095Z"
   },
   {
    "duration": 23,
    "start_time": "2022-09-03T15:45:01.404Z"
   },
   {
    "duration": 8318,
    "start_time": "2022-09-03T15:45:01.429Z"
   },
   {
    "duration": 411,
    "start_time": "2022-09-03T15:45:09.749Z"
   },
   {
    "duration": 78,
    "start_time": "2022-09-03T15:45:10.163Z"
   },
   {
    "duration": 448,
    "start_time": "2022-09-03T15:45:10.244Z"
   },
   {
    "duration": 844,
    "start_time": "2022-09-03T15:45:10.702Z"
   },
   {
    "duration": 0,
    "start_time": "2022-09-03T15:45:11.548Z"
   },
   {
    "duration": 0,
    "start_time": "2022-09-03T15:45:11.549Z"
   },
   {
    "duration": 0,
    "start_time": "2022-09-03T15:45:11.551Z"
   },
   {
    "duration": 21,
    "start_time": "2022-09-03T15:46:01.938Z"
   },
   {
    "duration": 5554,
    "start_time": "2022-09-03T15:46:18.488Z"
   },
   {
    "duration": 7410,
    "start_time": "2022-09-03T15:49:01.840Z"
   },
   {
    "duration": 3037,
    "start_time": "2022-09-03T15:50:10.939Z"
   },
   {
    "duration": 858,
    "start_time": "2022-09-03T15:50:13.978Z"
   },
   {
    "duration": 14,
    "start_time": "2022-09-03T15:50:14.837Z"
   },
   {
    "duration": 459,
    "start_time": "2022-09-03T15:50:14.853Z"
   },
   {
    "duration": 28,
    "start_time": "2022-09-03T15:50:15.314Z"
   },
   {
    "duration": 256,
    "start_time": "2022-09-03T15:50:15.344Z"
   },
   {
    "duration": 17,
    "start_time": "2022-09-03T15:50:15.601Z"
   },
   {
    "duration": 35,
    "start_time": "2022-09-03T15:50:15.620Z"
   },
   {
    "duration": 9,
    "start_time": "2022-09-03T15:50:15.657Z"
   },
   {
    "duration": 4,
    "start_time": "2022-09-03T15:50:15.684Z"
   },
   {
    "duration": 755,
    "start_time": "2022-09-03T15:50:15.689Z"
   },
   {
    "duration": 79,
    "start_time": "2022-09-03T15:50:16.447Z"
   },
   {
    "duration": 26,
    "start_time": "2022-09-03T15:50:16.528Z"
   },
   {
    "duration": 85,
    "start_time": "2022-09-03T15:50:16.556Z"
   },
   {
    "duration": 4,
    "start_time": "2022-09-03T15:50:16.643Z"
   },
   {
    "duration": 7,
    "start_time": "2022-09-03T15:50:16.649Z"
   },
   {
    "duration": 56,
    "start_time": "2022-09-03T15:50:16.658Z"
   },
   {
    "duration": 246,
    "start_time": "2022-09-03T15:50:16.716Z"
   },
   {
    "duration": 191,
    "start_time": "2022-09-03T15:50:16.964Z"
   },
   {
    "duration": 5223,
    "start_time": "2022-09-03T15:50:17.157Z"
   },
   {
    "duration": 287,
    "start_time": "2022-09-03T15:50:22.384Z"
   },
   {
    "duration": 26,
    "start_time": "2022-09-03T15:50:22.673Z"
   },
   {
    "duration": 10,
    "start_time": "2022-09-03T15:50:22.701Z"
   },
   {
    "duration": 5044,
    "start_time": "2022-09-03T15:50:22.712Z"
   },
   {
    "duration": 183,
    "start_time": "2022-09-03T15:50:27.757Z"
   },
   {
    "duration": 19,
    "start_time": "2022-09-03T15:50:27.942Z"
   },
   {
    "duration": 7096,
    "start_time": "2022-09-03T15:50:27.963Z"
   },
   {
    "duration": 296,
    "start_time": "2022-09-03T15:50:35.063Z"
   },
   {
    "duration": 33,
    "start_time": "2022-09-03T15:50:35.360Z"
   },
   {
    "duration": 5678,
    "start_time": "2022-09-03T15:50:35.395Z"
   },
   {
    "duration": 286,
    "start_time": "2022-09-03T15:50:41.075Z"
   },
   {
    "duration": 57,
    "start_time": "2022-09-03T15:50:41.363Z"
   },
   {
    "duration": 379,
    "start_time": "2022-09-03T15:50:41.421Z"
   },
   {
    "duration": 5997,
    "start_time": "2022-09-03T15:50:41.802Z"
   },
   {
    "duration": 0,
    "start_time": "2022-09-03T15:50:47.801Z"
   },
   {
    "duration": 0,
    "start_time": "2022-09-03T15:50:47.803Z"
   },
   {
    "duration": 0,
    "start_time": "2022-09-03T15:50:47.804Z"
   },
   {
    "duration": 109927,
    "start_time": "2022-09-03T15:52:49.917Z"
   },
   {
    "duration": 4508,
    "start_time": "2022-09-03T15:55:18.406Z"
   },
   {
    "duration": 24,
    "start_time": "2022-09-03T15:55:56.066Z"
   },
   {
    "duration": 13,
    "start_time": "2022-09-03T15:56:21.968Z"
   },
   {
    "duration": 17,
    "start_time": "2022-09-03T15:56:31.709Z"
   },
   {
    "duration": 305,
    "start_time": "2022-09-03T15:56:57.417Z"
   },
   {
    "duration": 5034,
    "start_time": "2022-09-03T16:06:39.707Z"
   },
   {
    "duration": 5316,
    "start_time": "2022-09-03T16:10:54.683Z"
   },
   {
    "duration": 266,
    "start_time": "2022-09-03T16:11:05.830Z"
   },
   {
    "duration": 43,
    "start_time": "2022-09-03T16:11:07.660Z"
   },
   {
    "duration": 309,
    "start_time": "2022-09-03T16:11:09.342Z"
   },
   {
    "duration": 107774,
    "start_time": "2022-09-03T16:11:11.128Z"
   },
   {
    "duration": 1788,
    "start_time": "2022-09-03T17:56:25.880Z"
   },
   {
    "duration": 0,
    "start_time": "2022-09-03T17:56:27.671Z"
   },
   {
    "duration": 0,
    "start_time": "2022-09-03T17:56:27.672Z"
   },
   {
    "duration": 0,
    "start_time": "2022-09-03T17:56:27.673Z"
   },
   {
    "duration": 0,
    "start_time": "2022-09-03T17:56:27.675Z"
   },
   {
    "duration": 0,
    "start_time": "2022-09-03T17:56:27.676Z"
   },
   {
    "duration": 0,
    "start_time": "2022-09-03T17:56:27.677Z"
   },
   {
    "duration": 0,
    "start_time": "2022-09-03T17:56:27.678Z"
   },
   {
    "duration": 0,
    "start_time": "2022-09-03T17:56:27.679Z"
   },
   {
    "duration": 0,
    "start_time": "2022-09-03T17:56:27.681Z"
   },
   {
    "duration": 0,
    "start_time": "2022-09-03T17:56:27.682Z"
   },
   {
    "duration": 0,
    "start_time": "2022-09-03T17:56:27.683Z"
   },
   {
    "duration": 0,
    "start_time": "2022-09-03T17:56:27.684Z"
   },
   {
    "duration": 0,
    "start_time": "2022-09-03T17:56:27.685Z"
   },
   {
    "duration": 0,
    "start_time": "2022-09-03T17:56:27.688Z"
   },
   {
    "duration": 0,
    "start_time": "2022-09-03T17:56:27.689Z"
   },
   {
    "duration": 0,
    "start_time": "2022-09-03T17:56:27.690Z"
   },
   {
    "duration": 0,
    "start_time": "2022-09-03T17:56:27.692Z"
   },
   {
    "duration": 0,
    "start_time": "2022-09-03T17:56:27.692Z"
   },
   {
    "duration": 0,
    "start_time": "2022-09-03T17:56:27.693Z"
   },
   {
    "duration": 0,
    "start_time": "2022-09-03T17:56:27.694Z"
   },
   {
    "duration": 0,
    "start_time": "2022-09-03T17:56:27.697Z"
   },
   {
    "duration": 0,
    "start_time": "2022-09-03T17:56:27.697Z"
   },
   {
    "duration": 0,
    "start_time": "2022-09-03T17:56:27.698Z"
   },
   {
    "duration": 0,
    "start_time": "2022-09-03T17:56:27.699Z"
   },
   {
    "duration": 0,
    "start_time": "2022-09-03T17:56:27.700Z"
   },
   {
    "duration": 0,
    "start_time": "2022-09-03T17:56:27.702Z"
   },
   {
    "duration": 0,
    "start_time": "2022-09-03T17:56:27.703Z"
   },
   {
    "duration": 0,
    "start_time": "2022-09-03T17:56:27.704Z"
   },
   {
    "duration": 0,
    "start_time": "2022-09-03T17:56:27.705Z"
   },
   {
    "duration": 0,
    "start_time": "2022-09-03T17:56:27.706Z"
   },
   {
    "duration": 0,
    "start_time": "2022-09-03T17:56:27.708Z"
   },
   {
    "duration": 0,
    "start_time": "2022-09-03T17:56:27.709Z"
   },
   {
    "duration": 0,
    "start_time": "2022-09-03T17:56:27.710Z"
   },
   {
    "duration": 0,
    "start_time": "2022-09-03T17:56:27.711Z"
   },
   {
    "duration": 0,
    "start_time": "2022-09-03T17:56:27.711Z"
   },
   {
    "duration": 0,
    "start_time": "2022-09-03T17:56:27.713Z"
   },
   {
    "duration": 3143,
    "start_time": "2022-09-03T18:03:08.694Z"
   },
   {
    "duration": 2571,
    "start_time": "2022-09-03T18:03:11.839Z"
   },
   {
    "duration": 15,
    "start_time": "2022-09-03T18:03:14.412Z"
   },
   {
    "duration": 472,
    "start_time": "2022-09-03T18:03:14.429Z"
   },
   {
    "duration": 26,
    "start_time": "2022-09-03T18:03:14.903Z"
   },
   {
    "duration": 241,
    "start_time": "2022-09-03T18:03:14.931Z"
   },
   {
    "duration": 27,
    "start_time": "2022-09-03T18:03:15.174Z"
   },
   {
    "duration": 43,
    "start_time": "2022-09-03T18:03:15.203Z"
   },
   {
    "duration": 16,
    "start_time": "2022-09-03T18:03:15.248Z"
   },
   {
    "duration": 15,
    "start_time": "2022-09-03T18:03:15.266Z"
   },
   {
    "duration": 765,
    "start_time": "2022-09-03T18:03:15.283Z"
   },
   {
    "duration": 66,
    "start_time": "2022-09-03T18:03:16.050Z"
   },
   {
    "duration": 20,
    "start_time": "2022-09-03T18:03:16.118Z"
   },
   {
    "duration": 69,
    "start_time": "2022-09-03T18:03:16.147Z"
   },
   {
    "duration": 4,
    "start_time": "2022-09-03T18:03:16.217Z"
   },
   {
    "duration": 5,
    "start_time": "2022-09-03T18:03:16.223Z"
   },
   {
    "duration": 34,
    "start_time": "2022-09-03T18:03:16.230Z"
   },
   {
    "duration": 236,
    "start_time": "2022-09-03T18:03:16.266Z"
   },
   {
    "duration": 184,
    "start_time": "2022-09-03T18:03:16.503Z"
   },
   {
    "duration": 5592,
    "start_time": "2022-09-03T18:03:16.689Z"
   },
   {
    "duration": 293,
    "start_time": "2022-09-03T18:03:22.283Z"
   },
   {
    "duration": 32,
    "start_time": "2022-09-03T18:03:22.577Z"
   },
   {
    "duration": 11,
    "start_time": "2022-09-03T18:03:22.611Z"
   },
   {
    "duration": 5312,
    "start_time": "2022-09-03T18:03:22.624Z"
   },
   {
    "duration": 181,
    "start_time": "2022-09-03T18:03:27.938Z"
   },
   {
    "duration": 19,
    "start_time": "2022-09-03T18:03:28.121Z"
   },
   {
    "duration": 7579,
    "start_time": "2022-09-03T18:03:28.142Z"
   },
   {
    "duration": 307,
    "start_time": "2022-09-03T18:03:35.723Z"
   },
   {
    "duration": 22,
    "start_time": "2022-09-03T18:03:36.032Z"
   },
   {
    "duration": 5861,
    "start_time": "2022-09-03T18:03:36.057Z"
   },
   {
    "duration": 321,
    "start_time": "2022-09-03T18:03:41.920Z"
   },
   {
    "duration": 54,
    "start_time": "2022-09-03T18:03:42.242Z"
   },
   {
    "duration": 370,
    "start_time": "2022-09-03T18:03:42.300Z"
   },
   {
    "duration": 111722,
    "start_time": "2022-09-03T18:03:42.672Z"
   },
   {
    "duration": 4482,
    "start_time": "2022-09-03T18:05:34.396Z"
   },
   {
    "duration": 17,
    "start_time": "2022-09-03T18:05:38.880Z"
   },
   {
    "duration": 356,
    "start_time": "2022-09-03T18:05:38.900Z"
   },
   {
    "duration": 10,
    "start_time": "2022-09-03T18:06:43.264Z"
   },
   {
    "duration": 24,
    "start_time": "2022-09-03T18:07:18.980Z"
   },
   {
    "duration": 191,
    "start_time": "2022-09-03T18:16:24.855Z"
   },
   {
    "duration": 5443,
    "start_time": "2022-09-03T18:17:32.665Z"
   },
   {
    "duration": 194,
    "start_time": "2022-09-03T18:18:38.825Z"
   },
   {
    "duration": 37,
    "start_time": "2022-09-03T18:18:45.026Z"
   },
   {
    "duration": 320,
    "start_time": "2022-09-03T18:18:50.860Z"
   },
   {
    "duration": 5260,
    "start_time": "2022-09-03T18:19:44.155Z"
   },
   {
    "duration": 80259,
    "start_time": "2022-09-03T18:22:10.918Z"
   },
   {
    "duration": 3008,
    "start_time": "2022-09-03T18:23:48.072Z"
   },
   {
    "duration": 16,
    "start_time": "2022-09-03T18:23:51.084Z"
   },
   {
    "duration": 337,
    "start_time": "2022-09-03T18:23:51.426Z"
   },
   {
    "duration": 10,
    "start_time": "2022-09-03T18:30:02.286Z"
   },
   {
    "duration": 3,
    "start_time": "2022-09-03T18:30:36.626Z"
   },
   {
    "duration": 5,
    "start_time": "2022-09-03T18:30:54.781Z"
   },
   {
    "duration": 55,
    "start_time": "2022-09-06T12:10:04.819Z"
   },
   {
    "duration": 3774,
    "start_time": "2022-09-06T12:10:14.900Z"
   },
   {
    "duration": 2398,
    "start_time": "2022-09-06T12:10:18.676Z"
   },
   {
    "duration": 17,
    "start_time": "2022-09-06T12:10:21.075Z"
   },
   {
    "duration": 481,
    "start_time": "2022-09-06T12:10:21.094Z"
   },
   {
    "duration": 0,
    "start_time": "2022-09-06T12:10:21.577Z"
   },
   {
    "duration": 0,
    "start_time": "2022-09-06T12:10:21.579Z"
   },
   {
    "duration": 0,
    "start_time": "2022-09-06T12:10:21.580Z"
   },
   {
    "duration": 0,
    "start_time": "2022-09-06T12:10:21.587Z"
   },
   {
    "duration": 0,
    "start_time": "2022-09-06T12:10:21.588Z"
   },
   {
    "duration": 0,
    "start_time": "2022-09-06T12:10:21.589Z"
   },
   {
    "duration": 0,
    "start_time": "2022-09-06T12:10:21.589Z"
   },
   {
    "duration": 0,
    "start_time": "2022-09-06T12:10:21.591Z"
   },
   {
    "duration": 0,
    "start_time": "2022-09-06T12:10:21.592Z"
   },
   {
    "duration": 0,
    "start_time": "2022-09-06T12:10:21.593Z"
   },
   {
    "duration": 0,
    "start_time": "2022-09-06T12:10:21.594Z"
   },
   {
    "duration": 0,
    "start_time": "2022-09-06T12:10:21.595Z"
   },
   {
    "duration": 0,
    "start_time": "2022-09-06T12:10:21.597Z"
   },
   {
    "duration": 0,
    "start_time": "2022-09-06T12:10:21.598Z"
   },
   {
    "duration": 0,
    "start_time": "2022-09-06T12:10:21.599Z"
   },
   {
    "duration": 0,
    "start_time": "2022-09-06T12:10:21.600Z"
   },
   {
    "duration": 0,
    "start_time": "2022-09-06T12:10:21.601Z"
   },
   {
    "duration": 0,
    "start_time": "2022-09-06T12:10:21.602Z"
   },
   {
    "duration": 0,
    "start_time": "2022-09-06T12:10:21.603Z"
   },
   {
    "duration": 0,
    "start_time": "2022-09-06T12:10:21.604Z"
   },
   {
    "duration": 0,
    "start_time": "2022-09-06T12:10:21.605Z"
   },
   {
    "duration": 0,
    "start_time": "2022-09-06T12:10:21.606Z"
   },
   {
    "duration": 0,
    "start_time": "2022-09-06T12:10:21.607Z"
   },
   {
    "duration": 0,
    "start_time": "2022-09-06T12:10:21.608Z"
   },
   {
    "duration": 0,
    "start_time": "2022-09-06T12:10:21.610Z"
   },
   {
    "duration": 0,
    "start_time": "2022-09-06T12:10:21.611Z"
   },
   {
    "duration": 0,
    "start_time": "2022-09-06T12:10:21.612Z"
   },
   {
    "duration": 0,
    "start_time": "2022-09-06T12:10:21.613Z"
   },
   {
    "duration": 0,
    "start_time": "2022-09-06T12:10:21.615Z"
   },
   {
    "duration": 0,
    "start_time": "2022-09-06T12:10:21.616Z"
   },
   {
    "duration": 0,
    "start_time": "2022-09-06T12:10:21.617Z"
   },
   {
    "duration": 0,
    "start_time": "2022-09-06T12:10:21.618Z"
   },
   {
    "duration": 0,
    "start_time": "2022-09-06T12:10:21.619Z"
   },
   {
    "duration": 0,
    "start_time": "2022-09-06T12:10:21.621Z"
   },
   {
    "duration": 302,
    "start_time": "2022-09-06T12:11:15.387Z"
   },
   {
    "duration": 27,
    "start_time": "2022-09-06T12:11:32.114Z"
   },
   {
    "duration": 223,
    "start_time": "2022-09-06T12:11:33.595Z"
   },
   {
    "duration": 16,
    "start_time": "2022-09-06T12:12:07.558Z"
   },
   {
    "duration": 32,
    "start_time": "2022-09-06T12:12:20.492Z"
   },
   {
    "duration": 3,
    "start_time": "2022-09-06T12:12:27.847Z"
   },
   {
    "duration": 3,
    "start_time": "2022-09-06T12:12:28.591Z"
   },
   {
    "duration": 997,
    "start_time": "2022-09-06T12:12:30.603Z"
   },
   {
    "duration": 60,
    "start_time": "2022-09-06T12:13:34.282Z"
   },
   {
    "duration": 19,
    "start_time": "2022-09-06T12:13:44.191Z"
   },
   {
    "duration": 10,
    "start_time": "2022-09-06T12:14:10.262Z"
   },
   {
    "duration": 58,
    "start_time": "2022-09-06T12:14:30.219Z"
   },
   {
    "duration": 4,
    "start_time": "2022-09-06T12:14:31.587Z"
   },
   {
    "duration": 4,
    "start_time": "2022-09-06T12:15:18.620Z"
   },
   {
    "duration": 67,
    "start_time": "2022-09-06T12:15:19.623Z"
   },
   {
    "duration": 263,
    "start_time": "2022-09-06T12:15:38.384Z"
   },
   {
    "duration": 214,
    "start_time": "2022-09-06T12:15:49.383Z"
   },
   {
    "duration": 2818,
    "start_time": "2022-09-06T12:16:40.181Z"
   },
   {
    "duration": 315,
    "start_time": "2022-09-06T12:16:43.000Z"
   },
   {
    "duration": 21043,
    "start_time": "2022-09-06T12:16:56.387Z"
   },
   {
    "duration": 988,
    "start_time": "2022-09-06T12:17:17.432Z"
   },
   {
    "duration": 3095,
    "start_time": "2022-09-06T12:26:19.042Z"
   },
   {
    "duration": 831,
    "start_time": "2022-09-06T12:26:22.139Z"
   },
   {
    "duration": 22,
    "start_time": "2022-09-06T12:26:22.971Z"
   },
   {
    "duration": 392,
    "start_time": "2022-09-06T12:26:22.995Z"
   },
   {
    "duration": 26,
    "start_time": "2022-09-06T12:26:23.389Z"
   },
   {
    "duration": 230,
    "start_time": "2022-09-06T12:26:23.416Z"
   },
   {
    "duration": 14,
    "start_time": "2022-09-06T12:26:23.647Z"
   },
   {
    "duration": 39,
    "start_time": "2022-09-06T12:26:23.663Z"
   },
   {
    "duration": 7,
    "start_time": "2022-09-06T12:26:23.703Z"
   },
   {
    "duration": 6,
    "start_time": "2022-09-06T12:26:23.713Z"
   },
   {
    "duration": 709,
    "start_time": "2022-09-06T12:26:23.721Z"
   },
   {
    "duration": 78,
    "start_time": "2022-09-06T12:26:24.432Z"
   },
   {
    "duration": 22,
    "start_time": "2022-09-06T12:26:24.512Z"
   },
   {
    "duration": 73,
    "start_time": "2022-09-06T12:26:24.535Z"
   },
   {
    "duration": 4,
    "start_time": "2022-09-06T12:26:24.610Z"
   },
   {
    "duration": 9,
    "start_time": "2022-09-06T12:26:24.616Z"
   },
   {
    "duration": 84,
    "start_time": "2022-09-06T12:26:24.627Z"
   },
   {
    "duration": 199,
    "start_time": "2022-09-06T12:26:24.712Z"
   },
   {
    "duration": 175,
    "start_time": "2022-09-06T12:26:24.912Z"
   },
   {
    "duration": 5344,
    "start_time": "2022-09-06T12:26:25.089Z"
   },
   {
    "duration": 274,
    "start_time": "2022-09-06T12:26:30.434Z"
   },
   {
    "duration": 23,
    "start_time": "2022-09-06T12:26:30.710Z"
   },
   {
    "duration": 22,
    "start_time": "2022-09-06T12:26:30.734Z"
   },
   {
    "duration": 4641,
    "start_time": "2022-09-06T12:26:30.758Z"
   },
   {
    "duration": 164,
    "start_time": "2022-09-06T12:26:35.401Z"
   },
   {
    "duration": 26,
    "start_time": "2022-09-06T12:26:35.567Z"
   },
   {
    "duration": 7084,
    "start_time": "2022-09-06T12:26:35.594Z"
   },
   {
    "duration": 258,
    "start_time": "2022-09-06T12:26:42.681Z"
   },
   {
    "duration": 19,
    "start_time": "2022-09-06T12:26:42.941Z"
   },
   {
    "duration": 4667,
    "start_time": "2022-09-06T12:26:42.962Z"
   },
   {
    "duration": 175,
    "start_time": "2022-09-06T12:26:47.631Z"
   },
   {
    "duration": 31,
    "start_time": "2022-09-06T12:26:47.808Z"
   },
   {
    "duration": 370,
    "start_time": "2022-09-06T12:26:47.841Z"
   },
   {
    "duration": 75233,
    "start_time": "2022-09-06T12:26:48.212Z"
   },
   {
    "duration": 3098,
    "start_time": "2022-09-06T12:28:03.447Z"
   },
   {
    "duration": 4,
    "start_time": "2022-09-06T12:28:06.547Z"
   },
   {
    "duration": 22,
    "start_time": "2022-09-06T12:28:06.552Z"
   },
   {
    "duration": 316,
    "start_time": "2022-09-06T12:28:06.577Z"
   },
   {
    "duration": 5,
    "start_time": "2022-09-06T12:41:57.737Z"
   },
   {
    "duration": 164,
    "start_time": "2022-09-06T12:46:00.905Z"
   },
   {
    "duration": 5081,
    "start_time": "2022-09-06T12:47:48.036Z"
   },
   {
    "duration": 4,
    "start_time": "2022-09-06T12:48:17.302Z"
   },
   {
    "duration": 273,
    "start_time": "2022-09-06T12:48:36.024Z"
   },
   {
    "duration": 23,
    "start_time": "2022-09-06T12:48:37.599Z"
   },
   {
    "duration": 896,
    "start_time": "2022-09-06T13:07:59.473Z"
   },
   {
    "duration": 1045,
    "start_time": "2022-09-06T13:08:45.338Z"
   },
   {
    "duration": 7,
    "start_time": "2022-09-06T13:10:06.016Z"
   },
   {
    "duration": 9,
    "start_time": "2022-09-06T13:11:30.505Z"
   },
   {
    "duration": 3101,
    "start_time": "2022-09-06T13:11:59.705Z"
   },
   {
    "duration": 823,
    "start_time": "2022-09-06T13:12:02.808Z"
   },
   {
    "duration": 13,
    "start_time": "2022-09-06T13:12:03.632Z"
   },
   {
    "duration": 442,
    "start_time": "2022-09-06T13:12:03.646Z"
   },
   {
    "duration": 26,
    "start_time": "2022-09-06T13:12:04.090Z"
   },
   {
    "duration": 239,
    "start_time": "2022-09-06T13:12:04.118Z"
   },
   {
    "duration": 14,
    "start_time": "2022-09-06T13:12:04.359Z"
   },
   {
    "duration": 18,
    "start_time": "2022-09-06T13:12:04.374Z"
   },
   {
    "duration": 48,
    "start_time": "2022-09-06T13:12:04.394Z"
   },
   {
    "duration": 25,
    "start_time": "2022-09-06T13:12:04.444Z"
   },
   {
    "duration": 28,
    "start_time": "2022-09-06T13:12:04.470Z"
   },
   {
    "duration": 720,
    "start_time": "2022-09-06T13:12:04.499Z"
   },
   {
    "duration": 73,
    "start_time": "2022-09-06T13:12:05.221Z"
   },
   {
    "duration": 21,
    "start_time": "2022-09-06T13:12:05.297Z"
   },
   {
    "duration": 70,
    "start_time": "2022-09-06T13:12:05.320Z"
   },
   {
    "duration": 3,
    "start_time": "2022-09-06T13:12:05.392Z"
   },
   {
    "duration": 7,
    "start_time": "2022-09-06T13:12:05.397Z"
   },
   {
    "duration": 75,
    "start_time": "2022-09-06T13:12:05.406Z"
   },
   {
    "duration": 194,
    "start_time": "2022-09-06T13:12:05.486Z"
   },
   {
    "duration": 185,
    "start_time": "2022-09-06T13:12:05.686Z"
   },
   {
    "duration": 19,
    "start_time": "2022-09-06T13:12:05.873Z"
   },
   {
    "duration": 1115,
    "start_time": "2022-09-06T13:12:05.894Z"
   },
   {
    "duration": 4,
    "start_time": "2022-09-06T13:12:07.011Z"
   },
   {
    "duration": 204,
    "start_time": "2022-09-06T13:12:07.016Z"
   },
   {
    "duration": 0,
    "start_time": "2022-09-06T13:12:07.223Z"
   },
   {
    "duration": 0,
    "start_time": "2022-09-06T13:12:07.224Z"
   },
   {
    "duration": 0,
    "start_time": "2022-09-06T13:12:07.226Z"
   },
   {
    "duration": 0,
    "start_time": "2022-09-06T13:12:07.227Z"
   },
   {
    "duration": 0,
    "start_time": "2022-09-06T13:12:07.228Z"
   },
   {
    "duration": 0,
    "start_time": "2022-09-06T13:12:07.229Z"
   },
   {
    "duration": 0,
    "start_time": "2022-09-06T13:12:07.230Z"
   },
   {
    "duration": 0,
    "start_time": "2022-09-06T13:12:07.232Z"
   },
   {
    "duration": 0,
    "start_time": "2022-09-06T13:12:07.234Z"
   },
   {
    "duration": 0,
    "start_time": "2022-09-06T13:12:07.234Z"
   },
   {
    "duration": 0,
    "start_time": "2022-09-06T13:12:07.235Z"
   },
   {
    "duration": 0,
    "start_time": "2022-09-06T13:12:07.236Z"
   },
   {
    "duration": 0,
    "start_time": "2022-09-06T13:12:07.238Z"
   },
   {
    "duration": 0,
    "start_time": "2022-09-06T13:12:07.239Z"
   },
   {
    "duration": 0,
    "start_time": "2022-09-06T13:12:07.240Z"
   },
   {
    "duration": 0,
    "start_time": "2022-09-06T13:12:07.241Z"
   },
   {
    "duration": 0,
    "start_time": "2022-09-06T13:12:07.243Z"
   },
   {
    "duration": 4,
    "start_time": "2022-09-06T13:13:55.124Z"
   },
   {
    "duration": 2873,
    "start_time": "2022-09-06T13:15:50.604Z"
   },
   {
    "duration": 811,
    "start_time": "2022-09-06T13:15:53.479Z"
   },
   {
    "duration": 12,
    "start_time": "2022-09-06T13:15:54.291Z"
   },
   {
    "duration": 441,
    "start_time": "2022-09-06T13:15:54.305Z"
   },
   {
    "duration": 26,
    "start_time": "2022-09-06T13:15:54.748Z"
   },
   {
    "duration": 244,
    "start_time": "2022-09-06T13:15:54.775Z"
   },
   {
    "duration": 15,
    "start_time": "2022-09-06T13:15:55.021Z"
   },
   {
    "duration": 13,
    "start_time": "2022-09-06T13:15:55.038Z"
   },
   {
    "duration": 38,
    "start_time": "2022-09-06T13:15:55.053Z"
   },
   {
    "duration": 70,
    "start_time": "2022-09-06T13:15:55.093Z"
   },
   {
    "duration": 4,
    "start_time": "2022-09-06T13:15:55.164Z"
   },
   {
    "duration": 9,
    "start_time": "2022-09-06T13:15:55.170Z"
   },
   {
    "duration": 60,
    "start_time": "2022-09-06T13:15:55.181Z"
   },
   {
    "duration": 171,
    "start_time": "2022-09-06T13:15:55.244Z"
   },
   {
    "duration": 1209,
    "start_time": "2022-09-06T13:15:55.417Z"
   },
   {
    "duration": 0,
    "start_time": "2022-09-06T13:15:56.628Z"
   },
   {
    "duration": 0,
    "start_time": "2022-09-06T13:15:56.629Z"
   },
   {
    "duration": 0,
    "start_time": "2022-09-06T13:15:56.631Z"
   },
   {
    "duration": 0,
    "start_time": "2022-09-06T13:15:56.633Z"
   },
   {
    "duration": 0,
    "start_time": "2022-09-06T13:15:56.634Z"
   },
   {
    "duration": 0,
    "start_time": "2022-09-06T13:15:56.635Z"
   },
   {
    "duration": 0,
    "start_time": "2022-09-06T13:15:56.636Z"
   },
   {
    "duration": 0,
    "start_time": "2022-09-06T13:15:56.637Z"
   },
   {
    "duration": 0,
    "start_time": "2022-09-06T13:15:56.638Z"
   },
   {
    "duration": 0,
    "start_time": "2022-09-06T13:15:56.639Z"
   },
   {
    "duration": 0,
    "start_time": "2022-09-06T13:15:56.640Z"
   },
   {
    "duration": 0,
    "start_time": "2022-09-06T13:15:56.645Z"
   },
   {
    "duration": 0,
    "start_time": "2022-09-06T13:15:56.646Z"
   },
   {
    "duration": 0,
    "start_time": "2022-09-06T13:15:56.647Z"
   },
   {
    "duration": 0,
    "start_time": "2022-09-06T13:15:56.649Z"
   },
   {
    "duration": 0,
    "start_time": "2022-09-06T13:15:56.651Z"
   },
   {
    "duration": 0,
    "start_time": "2022-09-06T13:15:56.655Z"
   },
   {
    "duration": 1,
    "start_time": "2022-09-06T13:15:56.655Z"
   },
   {
    "duration": 0,
    "start_time": "2022-09-06T13:15:56.657Z"
   },
   {
    "duration": 0,
    "start_time": "2022-09-06T13:15:56.659Z"
   },
   {
    "duration": 0,
    "start_time": "2022-09-06T13:15:56.661Z"
   },
   {
    "duration": 2924,
    "start_time": "2022-09-06T13:16:49.958Z"
   },
   {
    "duration": 864,
    "start_time": "2022-09-06T13:16:52.884Z"
   },
   {
    "duration": 11,
    "start_time": "2022-09-06T13:16:53.750Z"
   },
   {
    "duration": 443,
    "start_time": "2022-09-06T13:16:53.764Z"
   },
   {
    "duration": 27,
    "start_time": "2022-09-06T13:16:54.209Z"
   },
   {
    "duration": 236,
    "start_time": "2022-09-06T13:16:54.238Z"
   },
   {
    "duration": 16,
    "start_time": "2022-09-06T13:16:54.475Z"
   },
   {
    "duration": 21,
    "start_time": "2022-09-06T13:16:54.493Z"
   },
   {
    "duration": 32,
    "start_time": "2022-09-06T13:16:54.516Z"
   },
   {
    "duration": 81,
    "start_time": "2022-09-06T13:16:54.551Z"
   },
   {
    "duration": 5,
    "start_time": "2022-09-06T13:16:54.633Z"
   },
   {
    "duration": 12,
    "start_time": "2022-09-06T13:16:54.639Z"
   },
   {
    "duration": 96,
    "start_time": "2022-09-06T13:16:54.652Z"
   },
   {
    "duration": 179,
    "start_time": "2022-09-06T13:16:54.750Z"
   },
   {
    "duration": 1097,
    "start_time": "2022-09-06T13:16:54.931Z"
   },
   {
    "duration": 0,
    "start_time": "2022-09-06T13:16:56.030Z"
   },
   {
    "duration": 0,
    "start_time": "2022-09-06T13:16:56.032Z"
   },
   {
    "duration": 0,
    "start_time": "2022-09-06T13:16:56.033Z"
   },
   {
    "duration": 0,
    "start_time": "2022-09-06T13:16:56.035Z"
   },
   {
    "duration": 0,
    "start_time": "2022-09-06T13:16:56.036Z"
   },
   {
    "duration": 0,
    "start_time": "2022-09-06T13:16:56.037Z"
   },
   {
    "duration": 0,
    "start_time": "2022-09-06T13:16:56.038Z"
   },
   {
    "duration": 0,
    "start_time": "2022-09-06T13:16:56.039Z"
   },
   {
    "duration": 0,
    "start_time": "2022-09-06T13:16:56.040Z"
   },
   {
    "duration": 0,
    "start_time": "2022-09-06T13:16:56.041Z"
   },
   {
    "duration": 0,
    "start_time": "2022-09-06T13:16:56.042Z"
   },
   {
    "duration": 0,
    "start_time": "2022-09-06T13:16:56.043Z"
   },
   {
    "duration": 0,
    "start_time": "2022-09-06T13:16:56.044Z"
   },
   {
    "duration": 0,
    "start_time": "2022-09-06T13:16:56.045Z"
   },
   {
    "duration": 0,
    "start_time": "2022-09-06T13:16:56.046Z"
   },
   {
    "duration": 0,
    "start_time": "2022-09-06T13:16:56.047Z"
   },
   {
    "duration": 0,
    "start_time": "2022-09-06T13:16:56.049Z"
   },
   {
    "duration": 0,
    "start_time": "2022-09-06T13:16:56.050Z"
   },
   {
    "duration": 0,
    "start_time": "2022-09-06T13:16:56.052Z"
   },
   {
    "duration": 0,
    "start_time": "2022-09-06T13:16:56.053Z"
   },
   {
    "duration": 0,
    "start_time": "2022-09-06T13:16:56.055Z"
   },
   {
    "duration": 55,
    "start_time": "2022-09-06T13:59:40.659Z"
   },
   {
    "duration": 3906,
    "start_time": "2022-09-06T13:59:51.375Z"
   },
   {
    "duration": 2778,
    "start_time": "2022-09-06T13:59:55.282Z"
   },
   {
    "duration": 10,
    "start_time": "2022-09-06T13:59:58.062Z"
   },
   {
    "duration": 433,
    "start_time": "2022-09-06T13:59:58.074Z"
   },
   {
    "duration": 27,
    "start_time": "2022-09-06T13:59:58.509Z"
   },
   {
    "duration": 240,
    "start_time": "2022-09-06T13:59:58.538Z"
   },
   {
    "duration": 26,
    "start_time": "2022-09-06T13:59:58.780Z"
   },
   {
    "duration": 11,
    "start_time": "2022-09-06T13:59:58.808Z"
   },
   {
    "duration": 20,
    "start_time": "2022-09-06T13:59:58.820Z"
   },
   {
    "duration": 65,
    "start_time": "2022-09-06T13:59:58.843Z"
   },
   {
    "duration": 4,
    "start_time": "2022-09-06T13:59:58.910Z"
   },
   {
    "duration": 10,
    "start_time": "2022-09-06T13:59:58.915Z"
   },
   {
    "duration": 65,
    "start_time": "2022-09-06T13:59:58.927Z"
   },
   {
    "duration": 186,
    "start_time": "2022-09-06T13:59:58.995Z"
   },
   {
    "duration": 3670,
    "start_time": "2022-09-06T14:00:13.739Z"
   },
   {
    "duration": 2707,
    "start_time": "2022-09-06T14:00:17.411Z"
   },
   {
    "duration": 11,
    "start_time": "2022-09-06T14:00:20.120Z"
   },
   {
    "duration": 434,
    "start_time": "2022-09-06T14:00:20.132Z"
   },
   {
    "duration": 28,
    "start_time": "2022-09-06T14:00:20.568Z"
   },
   {
    "duration": 248,
    "start_time": "2022-09-06T14:00:20.597Z"
   },
   {
    "duration": 14,
    "start_time": "2022-09-06T14:00:20.847Z"
   },
   {
    "duration": 13,
    "start_time": "2022-09-06T14:00:20.863Z"
   },
   {
    "duration": 18,
    "start_time": "2022-09-06T14:00:20.877Z"
   },
   {
    "duration": 58,
    "start_time": "2022-09-06T14:00:20.897Z"
   },
   {
    "duration": 4,
    "start_time": "2022-09-06T14:00:20.956Z"
   },
   {
    "duration": 6,
    "start_time": "2022-09-06T14:00:20.961Z"
   },
   {
    "duration": 59,
    "start_time": "2022-09-06T14:00:20.986Z"
   },
   {
    "duration": 202,
    "start_time": "2022-09-06T14:00:21.049Z"
   },
   {
    "duration": 3291,
    "start_time": "2022-09-06T14:00:48.214Z"
   },
   {
    "duration": 2310,
    "start_time": "2022-09-06T14:00:51.506Z"
   },
   {
    "duration": 12,
    "start_time": "2022-09-06T14:00:53.818Z"
   },
   {
    "duration": 438,
    "start_time": "2022-09-06T14:00:53.832Z"
   },
   {
    "duration": 27,
    "start_time": "2022-09-06T14:00:54.272Z"
   },
   {
    "duration": 233,
    "start_time": "2022-09-06T14:00:54.301Z"
   },
   {
    "duration": 14,
    "start_time": "2022-09-06T14:00:54.535Z"
   },
   {
    "duration": 15,
    "start_time": "2022-09-06T14:00:54.550Z"
   },
   {
    "duration": 15,
    "start_time": "2022-09-06T14:00:54.566Z"
   },
   {
    "duration": 58,
    "start_time": "2022-09-06T14:00:54.583Z"
   },
   {
    "duration": 4,
    "start_time": "2022-09-06T14:00:54.643Z"
   },
   {
    "duration": 13,
    "start_time": "2022-09-06T14:00:54.648Z"
   },
   {
    "duration": 67,
    "start_time": "2022-09-06T14:00:54.662Z"
   },
   {
    "duration": 182,
    "start_time": "2022-09-06T14:00:54.730Z"
   },
   {
    "duration": 3759,
    "start_time": "2022-09-06T14:01:22.364Z"
   },
   {
    "duration": 2340,
    "start_time": "2022-09-06T14:01:26.125Z"
   },
   {
    "duration": 11,
    "start_time": "2022-09-06T14:01:28.467Z"
   },
   {
    "duration": 400,
    "start_time": "2022-09-06T14:01:28.479Z"
   },
   {
    "duration": 29,
    "start_time": "2022-09-06T14:01:28.881Z"
   },
   {
    "duration": 232,
    "start_time": "2022-09-06T14:01:28.912Z"
   },
   {
    "duration": 13,
    "start_time": "2022-09-06T14:01:29.146Z"
   },
   {
    "duration": 10,
    "start_time": "2022-09-06T14:01:29.160Z"
   },
   {
    "duration": 21,
    "start_time": "2022-09-06T14:01:29.171Z"
   },
   {
    "duration": 68,
    "start_time": "2022-09-06T14:01:29.193Z"
   },
   {
    "duration": 3,
    "start_time": "2022-09-06T14:01:29.263Z"
   },
   {
    "duration": 6,
    "start_time": "2022-09-06T14:01:29.268Z"
   },
   {
    "duration": 61,
    "start_time": "2022-09-06T14:01:29.276Z"
   },
   {
    "duration": 182,
    "start_time": "2022-09-06T14:01:29.340Z"
   },
   {
    "duration": 3624,
    "start_time": "2022-09-06T14:02:00.115Z"
   },
   {
    "duration": 2331,
    "start_time": "2022-09-06T14:02:03.741Z"
   },
   {
    "duration": 13,
    "start_time": "2022-09-06T14:02:06.073Z"
   },
   {
    "duration": 446,
    "start_time": "2022-09-06T14:02:06.089Z"
   },
   {
    "duration": 27,
    "start_time": "2022-09-06T14:02:06.537Z"
   },
   {
    "duration": 253,
    "start_time": "2022-09-06T14:02:06.566Z"
   },
   {
    "duration": 15,
    "start_time": "2022-09-06T14:02:06.820Z"
   },
   {
    "duration": 14,
    "start_time": "2022-09-06T14:02:06.837Z"
   },
   {
    "duration": 18,
    "start_time": "2022-09-06T14:02:06.853Z"
   },
   {
    "duration": 72,
    "start_time": "2022-09-06T14:02:06.874Z"
   },
   {
    "duration": 4,
    "start_time": "2022-09-06T14:02:06.947Z"
   },
   {
    "duration": 21,
    "start_time": "2022-09-06T14:02:06.952Z"
   },
   {
    "duration": 69,
    "start_time": "2022-09-06T14:02:06.974Z"
   },
   {
    "duration": 200,
    "start_time": "2022-09-06T14:02:07.045Z"
   },
   {
    "duration": 3319,
    "start_time": "2022-09-06T14:02:21.812Z"
   },
   {
    "duration": 2358,
    "start_time": "2022-09-06T14:02:25.133Z"
   },
   {
    "duration": 11,
    "start_time": "2022-09-06T14:02:27.492Z"
   },
   {
    "duration": 400,
    "start_time": "2022-09-06T14:02:27.505Z"
   },
   {
    "duration": 26,
    "start_time": "2022-09-06T14:02:27.907Z"
   },
   {
    "duration": 242,
    "start_time": "2022-09-06T14:02:27.935Z"
   },
   {
    "duration": 20,
    "start_time": "2022-09-06T14:02:28.178Z"
   },
   {
    "duration": 9,
    "start_time": "2022-09-06T14:02:28.200Z"
   },
   {
    "duration": 12,
    "start_time": "2022-09-06T14:02:28.211Z"
   },
   {
    "duration": 68,
    "start_time": "2022-09-06T14:02:28.226Z"
   },
   {
    "duration": 4,
    "start_time": "2022-09-06T14:02:28.296Z"
   },
   {
    "duration": 7,
    "start_time": "2022-09-06T14:02:28.301Z"
   },
   {
    "duration": 61,
    "start_time": "2022-09-06T14:02:28.310Z"
   },
   {
    "duration": 182,
    "start_time": "2022-09-06T14:02:28.373Z"
   },
   {
    "duration": 3387,
    "start_time": "2022-09-06T14:02:47.161Z"
   },
   {
    "duration": 2334,
    "start_time": "2022-09-06T14:02:50.550Z"
   },
   {
    "duration": 11,
    "start_time": "2022-09-06T14:02:52.887Z"
   },
   {
    "duration": 396,
    "start_time": "2022-09-06T14:02:52.900Z"
   },
   {
    "duration": 27,
    "start_time": "2022-09-06T14:02:53.297Z"
   },
   {
    "duration": 266,
    "start_time": "2022-09-06T14:02:53.325Z"
   },
   {
    "duration": 14,
    "start_time": "2022-09-06T14:02:53.593Z"
   },
   {
    "duration": 9,
    "start_time": "2022-09-06T14:02:53.609Z"
   },
   {
    "duration": 17,
    "start_time": "2022-09-06T14:02:53.619Z"
   },
   {
    "duration": 77,
    "start_time": "2022-09-06T14:02:53.639Z"
   },
   {
    "duration": 3,
    "start_time": "2022-09-06T14:02:53.718Z"
   },
   {
    "duration": 10,
    "start_time": "2022-09-06T14:02:53.722Z"
   },
   {
    "duration": 68,
    "start_time": "2022-09-06T14:02:53.733Z"
   },
   {
    "duration": 181,
    "start_time": "2022-09-06T14:02:53.803Z"
   },
   {
    "duration": 3634,
    "start_time": "2022-09-06T14:03:09.116Z"
   },
   {
    "duration": 2322,
    "start_time": "2022-09-06T14:03:12.752Z"
   },
   {
    "duration": 11,
    "start_time": "2022-09-06T14:03:15.076Z"
   },
   {
    "duration": 409,
    "start_time": "2022-09-06T14:03:15.089Z"
   },
   {
    "duration": 26,
    "start_time": "2022-09-06T14:03:15.500Z"
   },
   {
    "duration": 238,
    "start_time": "2022-09-06T14:03:15.528Z"
   },
   {
    "duration": 21,
    "start_time": "2022-09-06T14:03:15.768Z"
   },
   {
    "duration": 9,
    "start_time": "2022-09-06T14:03:15.790Z"
   },
   {
    "duration": 13,
    "start_time": "2022-09-06T14:03:15.801Z"
   },
   {
    "duration": 71,
    "start_time": "2022-09-06T14:03:15.817Z"
   },
   {
    "duration": 4,
    "start_time": "2022-09-06T14:03:15.890Z"
   },
   {
    "duration": 7,
    "start_time": "2022-09-06T14:03:15.896Z"
   },
   {
    "duration": 64,
    "start_time": "2022-09-06T14:03:15.905Z"
   },
   {
    "duration": 216,
    "start_time": "2022-09-06T14:03:15.971Z"
   },
   {
    "duration": 3534,
    "start_time": "2022-09-06T14:03:48.658Z"
   },
   {
    "duration": 2374,
    "start_time": "2022-09-06T14:03:52.195Z"
   },
   {
    "duration": 12,
    "start_time": "2022-09-06T14:03:54.571Z"
   },
   {
    "duration": 444,
    "start_time": "2022-09-06T14:03:54.584Z"
   },
   {
    "duration": 26,
    "start_time": "2022-09-06T14:03:55.030Z"
   },
   {
    "duration": 241,
    "start_time": "2022-09-06T14:03:55.058Z"
   },
   {
    "duration": 14,
    "start_time": "2022-09-06T14:03:55.301Z"
   },
   {
    "duration": 30,
    "start_time": "2022-09-06T14:03:55.317Z"
   },
   {
    "duration": 47,
    "start_time": "2022-09-06T14:03:55.349Z"
   },
   {
    "duration": 81,
    "start_time": "2022-09-06T14:03:55.397Z"
   },
   {
    "duration": 4,
    "start_time": "2022-09-06T14:03:55.479Z"
   },
   {
    "duration": 29,
    "start_time": "2022-09-06T14:03:55.484Z"
   },
   {
    "duration": 78,
    "start_time": "2022-09-06T14:03:55.515Z"
   },
   {
    "duration": 186,
    "start_time": "2022-09-06T14:03:55.597Z"
   },
   {
    "duration": 3706,
    "start_time": "2022-09-06T14:04:10.736Z"
   },
   {
    "duration": 2667,
    "start_time": "2022-09-06T14:04:14.444Z"
   },
   {
    "duration": 12,
    "start_time": "2022-09-06T14:04:17.113Z"
   },
   {
    "duration": 457,
    "start_time": "2022-09-06T14:04:17.126Z"
   },
   {
    "duration": 29,
    "start_time": "2022-09-06T14:04:17.586Z"
   },
   {
    "duration": 239,
    "start_time": "2022-09-06T14:04:17.617Z"
   },
   {
    "duration": 14,
    "start_time": "2022-09-06T14:04:17.857Z"
   },
   {
    "duration": 17,
    "start_time": "2022-09-06T14:04:17.873Z"
   },
   {
    "duration": 14,
    "start_time": "2022-09-06T14:04:17.891Z"
   },
   {
    "duration": 55,
    "start_time": "2022-09-06T14:04:17.907Z"
   },
   {
    "duration": 4,
    "start_time": "2022-09-06T14:04:17.964Z"
   },
   {
    "duration": 19,
    "start_time": "2022-09-06T14:04:17.969Z"
   },
   {
    "duration": 68,
    "start_time": "2022-09-06T14:04:17.990Z"
   },
   {
    "duration": 185,
    "start_time": "2022-09-06T14:04:18.060Z"
   },
   {
    "duration": 3352,
    "start_time": "2022-09-06T14:04:56.654Z"
   },
   {
    "duration": 2459,
    "start_time": "2022-09-06T14:05:00.008Z"
   },
   {
    "duration": 12,
    "start_time": "2022-09-06T14:05:02.468Z"
   },
   {
    "duration": 402,
    "start_time": "2022-09-06T14:05:02.488Z"
   },
   {
    "duration": 27,
    "start_time": "2022-09-06T14:05:02.891Z"
   },
   {
    "duration": 237,
    "start_time": "2022-09-06T14:05:02.920Z"
   },
   {
    "duration": 14,
    "start_time": "2022-09-06T14:05:03.159Z"
   },
   {
    "duration": 12,
    "start_time": "2022-09-06T14:05:03.175Z"
   },
   {
    "duration": 15,
    "start_time": "2022-09-06T14:05:03.189Z"
   },
   {
    "duration": 60,
    "start_time": "2022-09-06T14:05:03.207Z"
   },
   {
    "duration": 5,
    "start_time": "2022-09-06T14:05:03.268Z"
   },
   {
    "duration": 4,
    "start_time": "2022-09-06T14:05:03.287Z"
   },
   {
    "duration": 68,
    "start_time": "2022-09-06T14:05:03.292Z"
   },
   {
    "duration": 184,
    "start_time": "2022-09-06T14:05:03.362Z"
   },
   {
    "duration": 3442,
    "start_time": "2022-09-06T14:05:21.865Z"
   },
   {
    "duration": 2508,
    "start_time": "2022-09-06T14:05:25.309Z"
   },
   {
    "duration": 11,
    "start_time": "2022-09-06T14:05:27.819Z"
   },
   {
    "duration": 433,
    "start_time": "2022-09-06T14:05:27.831Z"
   },
   {
    "duration": 35,
    "start_time": "2022-09-06T14:05:28.267Z"
   },
   {
    "duration": 234,
    "start_time": "2022-09-06T14:05:28.304Z"
   },
   {
    "duration": 14,
    "start_time": "2022-09-06T14:05:28.539Z"
   },
   {
    "duration": 11,
    "start_time": "2022-09-06T14:05:28.554Z"
   },
   {
    "duration": 21,
    "start_time": "2022-09-06T14:05:28.567Z"
   },
   {
    "duration": 52,
    "start_time": "2022-09-06T14:05:28.590Z"
   },
   {
    "duration": 3,
    "start_time": "2022-09-06T14:05:28.644Z"
   },
   {
    "duration": 6,
    "start_time": "2022-09-06T14:05:28.649Z"
   },
   {
    "duration": 75,
    "start_time": "2022-09-06T14:05:28.656Z"
   },
   {
    "duration": 178,
    "start_time": "2022-09-06T14:05:28.734Z"
   },
   {
    "duration": 3537,
    "start_time": "2022-09-06T14:06:22.847Z"
   },
   {
    "duration": 2294,
    "start_time": "2022-09-06T14:06:26.386Z"
   },
   {
    "duration": 11,
    "start_time": "2022-09-06T14:06:28.682Z"
   },
   {
    "duration": 407,
    "start_time": "2022-09-06T14:06:28.695Z"
   },
   {
    "duration": 27,
    "start_time": "2022-09-06T14:06:29.104Z"
   },
   {
    "duration": 234,
    "start_time": "2022-09-06T14:06:29.133Z"
   },
   {
    "duration": 19,
    "start_time": "2022-09-06T14:06:29.369Z"
   },
   {
    "duration": 7,
    "start_time": "2022-09-06T14:06:29.389Z"
   },
   {
    "duration": 13,
    "start_time": "2022-09-06T14:06:29.397Z"
   },
   {
    "duration": 58,
    "start_time": "2022-09-06T14:06:29.412Z"
   },
   {
    "duration": 18,
    "start_time": "2022-09-06T14:06:29.472Z"
   },
   {
    "duration": 5,
    "start_time": "2022-09-06T14:06:29.491Z"
   },
   {
    "duration": 62,
    "start_time": "2022-09-06T14:06:29.497Z"
   },
   {
    "duration": 190,
    "start_time": "2022-09-06T14:06:29.561Z"
   },
   {
    "duration": 3470,
    "start_time": "2022-09-06T14:10:47.705Z"
   },
   {
    "duration": 2381,
    "start_time": "2022-09-06T14:10:51.177Z"
   },
   {
    "duration": 12,
    "start_time": "2022-09-06T14:10:53.560Z"
   },
   {
    "duration": 416,
    "start_time": "2022-09-06T14:10:53.574Z"
   },
   {
    "duration": 30,
    "start_time": "2022-09-06T14:10:53.991Z"
   },
   {
    "duration": 240,
    "start_time": "2022-09-06T14:10:54.023Z"
   },
   {
    "duration": 23,
    "start_time": "2022-09-06T14:10:54.265Z"
   },
   {
    "duration": 14,
    "start_time": "2022-09-06T14:10:54.290Z"
   },
   {
    "duration": 29,
    "start_time": "2022-09-06T14:10:54.306Z"
   },
   {
    "duration": 82,
    "start_time": "2022-09-06T14:10:54.337Z"
   },
   {
    "duration": 4,
    "start_time": "2022-09-06T14:10:54.421Z"
   },
   {
    "duration": 24,
    "start_time": "2022-09-06T14:10:54.426Z"
   },
   {
    "duration": 90,
    "start_time": "2022-09-06T14:10:54.452Z"
   },
   {
    "duration": 179,
    "start_time": "2022-09-06T14:10:54.544Z"
   },
   {
    "duration": 3535,
    "start_time": "2022-09-06T14:11:50.104Z"
   },
   {
    "duration": 2623,
    "start_time": "2022-09-06T14:11:53.640Z"
   },
   {
    "duration": 14,
    "start_time": "2022-09-06T14:11:56.265Z"
   },
   {
    "duration": 441,
    "start_time": "2022-09-06T14:11:56.282Z"
   },
   {
    "duration": 27,
    "start_time": "2022-09-06T14:11:56.725Z"
   },
   {
    "duration": 241,
    "start_time": "2022-09-06T14:11:56.753Z"
   },
   {
    "duration": 19,
    "start_time": "2022-09-06T14:11:56.996Z"
   },
   {
    "duration": 11,
    "start_time": "2022-09-06T14:11:57.017Z"
   },
   {
    "duration": 15,
    "start_time": "2022-09-06T14:11:57.031Z"
   },
   {
    "duration": 75,
    "start_time": "2022-09-06T14:11:57.050Z"
   },
   {
    "duration": 4,
    "start_time": "2022-09-06T14:11:57.127Z"
   },
   {
    "duration": 5,
    "start_time": "2022-09-06T14:11:57.133Z"
   },
   {
    "duration": 80,
    "start_time": "2022-09-06T14:11:57.140Z"
   },
   {
    "duration": 184,
    "start_time": "2022-09-06T14:11:57.222Z"
   },
   {
    "duration": 3479,
    "start_time": "2022-09-06T14:14:51.519Z"
   },
   {
    "duration": 2355,
    "start_time": "2022-09-06T14:14:55.000Z"
   },
   {
    "duration": 11,
    "start_time": "2022-09-06T14:14:57.357Z"
   },
   {
    "duration": 413,
    "start_time": "2022-09-06T14:14:57.370Z"
   },
   {
    "duration": 27,
    "start_time": "2022-09-06T14:14:57.788Z"
   },
   {
    "duration": 242,
    "start_time": "2022-09-06T14:14:57.817Z"
   },
   {
    "duration": 15,
    "start_time": "2022-09-06T14:14:58.062Z"
   },
   {
    "duration": 7,
    "start_time": "2022-09-06T14:14:58.087Z"
   },
   {
    "duration": 11,
    "start_time": "2022-09-06T14:14:58.096Z"
   },
   {
    "duration": 78,
    "start_time": "2022-09-06T14:14:58.111Z"
   },
   {
    "duration": 5,
    "start_time": "2022-09-06T14:14:58.190Z"
   },
   {
    "duration": 7,
    "start_time": "2022-09-06T14:14:58.196Z"
   },
   {
    "duration": 61,
    "start_time": "2022-09-06T14:14:58.204Z"
   },
   {
    "duration": 183,
    "start_time": "2022-09-06T14:14:58.267Z"
   },
   {
    "duration": 3591,
    "start_time": "2022-09-06T14:15:51.753Z"
   },
   {
    "duration": 2389,
    "start_time": "2022-09-06T14:15:55.346Z"
   },
   {
    "duration": 12,
    "start_time": "2022-09-06T14:15:57.737Z"
   },
   {
    "duration": 441,
    "start_time": "2022-09-06T14:15:57.752Z"
   },
   {
    "duration": 26,
    "start_time": "2022-09-06T14:15:58.194Z"
   },
   {
    "duration": 250,
    "start_time": "2022-09-06T14:15:58.222Z"
   },
   {
    "duration": 19,
    "start_time": "2022-09-06T14:15:58.474Z"
   },
   {
    "duration": 26,
    "start_time": "2022-09-06T14:15:58.494Z"
   },
   {
    "duration": 28,
    "start_time": "2022-09-06T14:15:58.522Z"
   },
   {
    "duration": 89,
    "start_time": "2022-09-06T14:15:58.553Z"
   },
   {
    "duration": 4,
    "start_time": "2022-09-06T14:15:58.644Z"
   },
   {
    "duration": 21,
    "start_time": "2022-09-06T14:15:58.649Z"
   },
   {
    "duration": 79,
    "start_time": "2022-09-06T14:15:58.672Z"
   },
   {
    "duration": 169,
    "start_time": "2022-09-06T14:15:58.753Z"
   },
   {
    "duration": 3366,
    "start_time": "2022-09-06T14:16:17.285Z"
   },
   {
    "duration": 2370,
    "start_time": "2022-09-06T14:16:20.653Z"
   },
   {
    "duration": 11,
    "start_time": "2022-09-06T14:16:23.024Z"
   },
   {
    "duration": 465,
    "start_time": "2022-09-06T14:16:23.037Z"
   },
   {
    "duration": 27,
    "start_time": "2022-09-06T14:16:23.504Z"
   },
   {
    "duration": 242,
    "start_time": "2022-09-06T14:16:23.533Z"
   },
   {
    "duration": 16,
    "start_time": "2022-09-06T14:16:23.776Z"
   },
   {
    "duration": 17,
    "start_time": "2022-09-06T14:16:23.794Z"
   },
   {
    "duration": 22,
    "start_time": "2022-09-06T14:16:23.813Z"
   },
   {
    "duration": 73,
    "start_time": "2022-09-06T14:16:23.836Z"
   },
   {
    "duration": 5,
    "start_time": "2022-09-06T14:16:23.910Z"
   },
   {
    "duration": 23,
    "start_time": "2022-09-06T14:16:23.917Z"
   },
   {
    "duration": 74,
    "start_time": "2022-09-06T14:16:23.942Z"
   },
   {
    "duration": 177,
    "start_time": "2022-09-06T14:16:24.019Z"
   },
   {
    "duration": 3522,
    "start_time": "2022-09-06T14:17:02.507Z"
   },
   {
    "duration": 2413,
    "start_time": "2022-09-06T14:17:06.031Z"
   },
   {
    "duration": 13,
    "start_time": "2022-09-06T14:17:08.446Z"
   },
   {
    "duration": 437,
    "start_time": "2022-09-06T14:17:08.461Z"
   },
   {
    "duration": 27,
    "start_time": "2022-09-06T14:17:08.900Z"
   },
   {
    "duration": 246,
    "start_time": "2022-09-06T14:17:08.929Z"
   },
   {
    "duration": 15,
    "start_time": "2022-09-06T14:17:09.177Z"
   },
   {
    "duration": 36,
    "start_time": "2022-09-06T14:17:09.193Z"
   },
   {
    "duration": 16,
    "start_time": "2022-09-06T14:17:09.231Z"
   },
   {
    "duration": 60,
    "start_time": "2022-09-06T14:17:09.249Z"
   },
   {
    "duration": 4,
    "start_time": "2022-09-06T14:17:09.311Z"
   },
   {
    "duration": 9,
    "start_time": "2022-09-06T14:17:09.316Z"
   },
   {
    "duration": 73,
    "start_time": "2022-09-06T14:17:09.327Z"
   },
   {
    "duration": 192,
    "start_time": "2022-09-06T14:17:09.402Z"
   },
   {
    "duration": 3521,
    "start_time": "2022-09-06T14:17:27.262Z"
   },
   {
    "duration": 2363,
    "start_time": "2022-09-06T14:17:30.785Z"
   },
   {
    "duration": 12,
    "start_time": "2022-09-06T14:17:33.151Z"
   },
   {
    "duration": 434,
    "start_time": "2022-09-06T14:17:33.165Z"
   },
   {
    "duration": 26,
    "start_time": "2022-09-06T14:17:33.602Z"
   },
   {
    "duration": 239,
    "start_time": "2022-09-06T14:17:33.630Z"
   },
   {
    "duration": 17,
    "start_time": "2022-09-06T14:17:33.870Z"
   },
   {
    "duration": 7,
    "start_time": "2022-09-06T14:17:33.890Z"
   },
   {
    "duration": 12,
    "start_time": "2022-09-06T14:17:33.899Z"
   },
   {
    "duration": 77,
    "start_time": "2022-09-06T14:17:33.913Z"
   },
   {
    "duration": 4,
    "start_time": "2022-09-06T14:17:33.992Z"
   },
   {
    "duration": 8,
    "start_time": "2022-09-06T14:17:33.997Z"
   },
   {
    "duration": 66,
    "start_time": "2022-09-06T14:17:34.006Z"
   },
   {
    "duration": 176,
    "start_time": "2022-09-06T14:17:34.086Z"
   },
   {
    "duration": 3533,
    "start_time": "2022-09-06T14:18:17.557Z"
   },
   {
    "duration": 2328,
    "start_time": "2022-09-06T14:18:21.092Z"
   },
   {
    "duration": 12,
    "start_time": "2022-09-06T14:18:23.421Z"
   },
   {
    "duration": 445,
    "start_time": "2022-09-06T14:18:23.436Z"
   },
   {
    "duration": 28,
    "start_time": "2022-09-06T14:18:23.883Z"
   },
   {
    "duration": 243,
    "start_time": "2022-09-06T14:18:23.913Z"
   },
   {
    "duration": 14,
    "start_time": "2022-09-06T14:18:24.158Z"
   },
   {
    "duration": 8,
    "start_time": "2022-09-06T14:18:24.187Z"
   },
   {
    "duration": 13,
    "start_time": "2022-09-06T14:18:24.196Z"
   },
   {
    "duration": 59,
    "start_time": "2022-09-06T14:18:24.211Z"
   },
   {
    "duration": 17,
    "start_time": "2022-09-06T14:18:24.272Z"
   },
   {
    "duration": 5,
    "start_time": "2022-09-06T14:18:24.291Z"
   },
   {
    "duration": 65,
    "start_time": "2022-09-06T14:18:24.298Z"
   },
   {
    "duration": 191,
    "start_time": "2022-09-06T14:18:24.365Z"
   },
   {
    "duration": 3577,
    "start_time": "2022-09-06T14:19:45.543Z"
   },
   {
    "duration": 2320,
    "start_time": "2022-09-06T14:19:49.122Z"
   },
   {
    "duration": 12,
    "start_time": "2022-09-06T14:19:51.443Z"
   },
   {
    "duration": 433,
    "start_time": "2022-09-06T14:19:51.456Z"
   },
   {
    "duration": 27,
    "start_time": "2022-09-06T14:19:51.891Z"
   },
   {
    "duration": 251,
    "start_time": "2022-09-06T14:19:51.920Z"
   },
   {
    "duration": 15,
    "start_time": "2022-09-06T14:19:52.172Z"
   },
   {
    "duration": 28,
    "start_time": "2022-09-06T14:19:52.189Z"
   },
   {
    "duration": 22,
    "start_time": "2022-09-06T14:19:52.219Z"
   },
   {
    "duration": 61,
    "start_time": "2022-09-06T14:19:52.242Z"
   },
   {
    "duration": 7,
    "start_time": "2022-09-06T14:19:52.306Z"
   },
   {
    "duration": 12,
    "start_time": "2022-09-06T14:19:52.315Z"
   },
   {
    "duration": 73,
    "start_time": "2022-09-06T14:19:52.329Z"
   },
   {
    "duration": 167,
    "start_time": "2022-09-06T14:19:52.405Z"
   },
   {
    "duration": 3344,
    "start_time": "2022-09-06T14:22:40.235Z"
   },
   {
    "duration": 2404,
    "start_time": "2022-09-06T14:22:43.581Z"
   },
   {
    "duration": 12,
    "start_time": "2022-09-06T14:22:45.987Z"
   },
   {
    "duration": 445,
    "start_time": "2022-09-06T14:22:46.001Z"
   },
   {
    "duration": 40,
    "start_time": "2022-09-06T14:22:46.448Z"
   },
   {
    "duration": 255,
    "start_time": "2022-09-06T14:22:46.489Z"
   },
   {
    "duration": 16,
    "start_time": "2022-09-06T14:22:46.745Z"
   },
   {
    "duration": 10,
    "start_time": "2022-09-06T14:22:46.763Z"
   },
   {
    "duration": 25,
    "start_time": "2022-09-06T14:22:46.775Z"
   },
   {
    "duration": 63,
    "start_time": "2022-09-06T14:22:46.803Z"
   },
   {
    "duration": 4,
    "start_time": "2022-09-06T14:22:46.868Z"
   },
   {
    "duration": 19,
    "start_time": "2022-09-06T14:22:46.873Z"
   },
   {
    "duration": 73,
    "start_time": "2022-09-06T14:22:46.894Z"
   },
   {
    "duration": 190,
    "start_time": "2022-09-06T14:22:46.969Z"
   },
   {
    "duration": 4045,
    "start_time": "2022-09-06T14:23:09.972Z"
   },
   {
    "duration": 2661,
    "start_time": "2022-09-06T14:23:14.019Z"
   },
   {
    "duration": 13,
    "start_time": "2022-09-06T14:23:16.682Z"
   },
   {
    "duration": 417,
    "start_time": "2022-09-06T14:23:16.698Z"
   },
   {
    "duration": 28,
    "start_time": "2022-09-06T14:23:17.117Z"
   },
   {
    "duration": 247,
    "start_time": "2022-09-06T14:23:17.147Z"
   },
   {
    "duration": 14,
    "start_time": "2022-09-06T14:23:17.396Z"
   },
   {
    "duration": 16,
    "start_time": "2022-09-06T14:23:17.412Z"
   },
   {
    "duration": 15,
    "start_time": "2022-09-06T14:23:17.430Z"
   },
   {
    "duration": 60,
    "start_time": "2022-09-06T14:23:17.447Z"
   },
   {
    "duration": 4,
    "start_time": "2022-09-06T14:23:17.508Z"
   },
   {
    "duration": 14,
    "start_time": "2022-09-06T14:23:17.514Z"
   },
   {
    "duration": 73,
    "start_time": "2022-09-06T14:23:17.530Z"
   },
   {
    "duration": 192,
    "start_time": "2022-09-06T14:23:17.605Z"
   },
   {
    "duration": 3500,
    "start_time": "2022-09-06T14:23:43.953Z"
   },
   {
    "duration": 2326,
    "start_time": "2022-09-06T14:23:47.454Z"
   },
   {
    "duration": 12,
    "start_time": "2022-09-06T14:23:49.782Z"
   },
   {
    "duration": 401,
    "start_time": "2022-09-06T14:23:49.796Z"
   },
   {
    "duration": 26,
    "start_time": "2022-09-06T14:23:50.199Z"
   },
   {
    "duration": 246,
    "start_time": "2022-09-06T14:23:50.227Z"
   },
   {
    "duration": 16,
    "start_time": "2022-09-06T14:23:50.475Z"
   },
   {
    "duration": 6,
    "start_time": "2022-09-06T14:23:50.493Z"
   },
   {
    "duration": 17,
    "start_time": "2022-09-06T14:23:50.501Z"
   },
   {
    "duration": 74,
    "start_time": "2022-09-06T14:23:50.520Z"
   },
   {
    "duration": 4,
    "start_time": "2022-09-06T14:23:50.595Z"
   },
   {
    "duration": 7,
    "start_time": "2022-09-06T14:23:50.601Z"
   },
   {
    "duration": 61,
    "start_time": "2022-09-06T14:23:50.610Z"
   },
   {
    "duration": 182,
    "start_time": "2022-09-06T14:23:50.672Z"
   },
   {
    "duration": 3626,
    "start_time": "2022-09-06T14:24:13.911Z"
   },
   {
    "duration": 2377,
    "start_time": "2022-09-06T14:24:17.540Z"
   },
   {
    "duration": 14,
    "start_time": "2022-09-06T14:24:19.919Z"
   },
   {
    "duration": 449,
    "start_time": "2022-09-06T14:24:19.935Z"
   },
   {
    "duration": 26,
    "start_time": "2022-09-06T14:24:20.387Z"
   },
   {
    "duration": 241,
    "start_time": "2022-09-06T14:24:20.415Z"
   },
   {
    "duration": 15,
    "start_time": "2022-09-06T14:24:20.658Z"
   },
   {
    "duration": 11,
    "start_time": "2022-09-06T14:24:20.688Z"
   },
   {
    "duration": 36,
    "start_time": "2022-09-06T14:24:20.701Z"
   },
   {
    "duration": 69,
    "start_time": "2022-09-06T14:24:20.739Z"
   },
   {
    "duration": 4,
    "start_time": "2022-09-06T14:24:20.810Z"
   },
   {
    "duration": 11,
    "start_time": "2022-09-06T14:24:20.816Z"
   },
   {
    "duration": 75,
    "start_time": "2022-09-06T14:24:20.828Z"
   },
   {
    "duration": 187,
    "start_time": "2022-09-06T14:24:20.905Z"
   },
   {
    "duration": 3724,
    "start_time": "2022-09-06T14:26:28.342Z"
   },
   {
    "duration": 2325,
    "start_time": "2022-09-06T14:26:32.068Z"
   },
   {
    "duration": 12,
    "start_time": "2022-09-06T14:26:34.394Z"
   },
   {
    "duration": 401,
    "start_time": "2022-09-06T14:26:34.408Z"
   },
   {
    "duration": 26,
    "start_time": "2022-09-06T14:26:34.811Z"
   },
   {
    "duration": 235,
    "start_time": "2022-09-06T14:26:34.839Z"
   },
   {
    "duration": 15,
    "start_time": "2022-09-06T14:26:35.076Z"
   },
   {
    "duration": 9,
    "start_time": "2022-09-06T14:26:35.093Z"
   },
   {
    "duration": 22,
    "start_time": "2022-09-06T14:26:35.103Z"
   },
   {
    "duration": 60,
    "start_time": "2022-09-06T14:26:35.128Z"
   },
   {
    "duration": 4,
    "start_time": "2022-09-06T14:26:35.190Z"
   },
   {
    "duration": 6,
    "start_time": "2022-09-06T14:26:35.195Z"
   },
   {
    "duration": 62,
    "start_time": "2022-09-06T14:26:35.203Z"
   },
   {
    "duration": 200,
    "start_time": "2022-09-06T14:26:35.266Z"
   },
   {
    "duration": 4323,
    "start_time": "2022-09-06T14:29:59.954Z"
   },
   {
    "duration": 2403,
    "start_time": "2022-09-06T14:30:04.279Z"
   },
   {
    "duration": 11,
    "start_time": "2022-09-06T14:30:06.684Z"
   },
   {
    "duration": 420,
    "start_time": "2022-09-06T14:30:06.697Z"
   },
   {
    "duration": 27,
    "start_time": "2022-09-06T14:30:07.119Z"
   },
   {
    "duration": 246,
    "start_time": "2022-09-06T14:30:07.148Z"
   },
   {
    "duration": 15,
    "start_time": "2022-09-06T14:30:07.395Z"
   },
   {
    "duration": 10,
    "start_time": "2022-09-06T14:30:07.412Z"
   },
   {
    "duration": 13,
    "start_time": "2022-09-06T14:30:07.423Z"
   },
   {
    "duration": 71,
    "start_time": "2022-09-06T14:30:07.439Z"
   },
   {
    "duration": 3,
    "start_time": "2022-09-06T14:30:07.512Z"
   },
   {
    "duration": 6,
    "start_time": "2022-09-06T14:30:07.517Z"
   },
   {
    "duration": 77,
    "start_time": "2022-09-06T14:30:07.524Z"
   },
   {
    "duration": 195,
    "start_time": "2022-09-06T14:30:07.603Z"
   },
   {
    "duration": 3622,
    "start_time": "2022-09-06T14:30:57.020Z"
   },
   {
    "duration": 2623,
    "start_time": "2022-09-06T14:31:00.644Z"
   },
   {
    "duration": 11,
    "start_time": "2022-09-06T14:31:03.269Z"
   },
   {
    "duration": 408,
    "start_time": "2022-09-06T14:31:03.281Z"
   },
   {
    "duration": 31,
    "start_time": "2022-09-06T14:31:03.691Z"
   },
   {
    "duration": 284,
    "start_time": "2022-09-06T14:31:03.723Z"
   },
   {
    "duration": 14,
    "start_time": "2022-09-06T14:31:04.008Z"
   },
   {
    "duration": 23,
    "start_time": "2022-09-06T14:31:04.024Z"
   },
   {
    "duration": 19,
    "start_time": "2022-09-06T14:31:04.049Z"
   },
   {
    "duration": 87,
    "start_time": "2022-09-06T14:31:04.070Z"
   },
   {
    "duration": 4,
    "start_time": "2022-09-06T14:31:04.159Z"
   },
   {
    "duration": 23,
    "start_time": "2022-09-06T14:31:04.164Z"
   },
   {
    "duration": 80,
    "start_time": "2022-09-06T14:31:04.190Z"
   },
   {
    "duration": 192,
    "start_time": "2022-09-06T14:31:04.271Z"
   },
   {
    "duration": 3598,
    "start_time": "2022-09-06T14:31:20.479Z"
   },
   {
    "duration": 2351,
    "start_time": "2022-09-06T14:31:24.079Z"
   },
   {
    "duration": 14,
    "start_time": "2022-09-06T14:31:26.432Z"
   },
   {
    "duration": 430,
    "start_time": "2022-09-06T14:31:26.449Z"
   },
   {
    "duration": 26,
    "start_time": "2022-09-06T14:31:26.886Z"
   },
   {
    "duration": 232,
    "start_time": "2022-09-06T14:31:26.913Z"
   },
   {
    "duration": 14,
    "start_time": "2022-09-06T14:31:27.147Z"
   },
   {
    "duration": 11,
    "start_time": "2022-09-06T14:31:27.162Z"
   },
   {
    "duration": 21,
    "start_time": "2022-09-06T14:31:27.174Z"
   },
   {
    "duration": 60,
    "start_time": "2022-09-06T14:31:27.197Z"
   },
   {
    "duration": 4,
    "start_time": "2022-09-06T14:31:27.259Z"
   },
   {
    "duration": 5,
    "start_time": "2022-09-06T14:31:27.264Z"
   },
   {
    "duration": 68,
    "start_time": "2022-09-06T14:31:27.271Z"
   },
   {
    "duration": 177,
    "start_time": "2022-09-06T14:31:27.340Z"
   },
   {
    "duration": 3601,
    "start_time": "2022-09-06T14:32:44.005Z"
   },
   {
    "duration": 2282,
    "start_time": "2022-09-06T14:32:47.609Z"
   },
   {
    "duration": 11,
    "start_time": "2022-09-06T14:32:49.892Z"
   },
   {
    "duration": 414,
    "start_time": "2022-09-06T14:32:49.905Z"
   },
   {
    "duration": 27,
    "start_time": "2022-09-06T14:32:50.321Z"
   },
   {
    "duration": 236,
    "start_time": "2022-09-06T14:32:50.349Z"
   },
   {
    "duration": 13,
    "start_time": "2022-09-06T14:32:50.587Z"
   },
   {
    "duration": 12,
    "start_time": "2022-09-06T14:32:50.602Z"
   },
   {
    "duration": 13,
    "start_time": "2022-09-06T14:32:50.615Z"
   },
   {
    "duration": 75,
    "start_time": "2022-09-06T14:32:50.630Z"
   },
   {
    "duration": 5,
    "start_time": "2022-09-06T14:32:50.707Z"
   },
   {
    "duration": 10,
    "start_time": "2022-09-06T14:32:50.713Z"
   },
   {
    "duration": 63,
    "start_time": "2022-09-06T14:32:50.725Z"
   },
   {
    "duration": 185,
    "start_time": "2022-09-06T14:32:50.792Z"
   },
   {
    "duration": 3478,
    "start_time": "2022-09-06T14:35:23.566Z"
   },
   {
    "duration": 2311,
    "start_time": "2022-09-06T14:35:27.046Z"
   },
   {
    "duration": 11,
    "start_time": "2022-09-06T14:35:29.359Z"
   },
   {
    "duration": 401,
    "start_time": "2022-09-06T14:35:29.372Z"
   },
   {
    "duration": 31,
    "start_time": "2022-09-06T14:35:29.774Z"
   },
   {
    "duration": 234,
    "start_time": "2022-09-06T14:35:29.807Z"
   },
   {
    "duration": 19,
    "start_time": "2022-09-06T14:35:30.043Z"
   },
   {
    "duration": 7,
    "start_time": "2022-09-06T14:35:30.064Z"
   },
   {
    "duration": 13,
    "start_time": "2022-09-06T14:35:30.086Z"
   },
   {
    "duration": 80,
    "start_time": "2022-09-06T14:35:30.102Z"
   },
   {
    "duration": 5,
    "start_time": "2022-09-06T14:35:30.183Z"
   },
   {
    "duration": 19,
    "start_time": "2022-09-06T14:35:30.190Z"
   },
   {
    "duration": 118,
    "start_time": "2022-09-06T14:35:30.211Z"
   },
   {
    "duration": 175,
    "start_time": "2022-09-06T14:35:30.331Z"
   },
   {
    "duration": 3356,
    "start_time": "2022-09-06T14:35:47.441Z"
   },
   {
    "duration": 2292,
    "start_time": "2022-09-06T14:35:50.800Z"
   },
   {
    "duration": 11,
    "start_time": "2022-09-06T14:35:53.094Z"
   },
   {
    "duration": 373,
    "start_time": "2022-09-06T14:35:53.107Z"
   },
   {
    "duration": 26,
    "start_time": "2022-09-06T14:35:53.486Z"
   },
   {
    "duration": 232,
    "start_time": "2022-09-06T14:35:53.513Z"
   },
   {
    "duration": 14,
    "start_time": "2022-09-06T14:35:53.746Z"
   },
   {
    "duration": 14,
    "start_time": "2022-09-06T14:35:53.762Z"
   },
   {
    "duration": 11,
    "start_time": "2022-09-06T14:35:53.787Z"
   },
   {
    "duration": 62,
    "start_time": "2022-09-06T14:35:53.801Z"
   },
   {
    "duration": 4,
    "start_time": "2022-09-06T14:35:53.864Z"
   },
   {
    "duration": 7,
    "start_time": "2022-09-06T14:35:53.870Z"
   },
   {
    "duration": 65,
    "start_time": "2022-09-06T14:35:53.878Z"
   },
   {
    "duration": 196,
    "start_time": "2022-09-06T14:35:53.945Z"
   },
   {
    "duration": 3268,
    "start_time": "2022-09-06T14:36:56.827Z"
   },
   {
    "duration": 2578,
    "start_time": "2022-09-06T14:37:00.097Z"
   },
   {
    "duration": 11,
    "start_time": "2022-09-06T14:37:02.676Z"
   },
   {
    "duration": 399,
    "start_time": "2022-09-06T14:37:02.689Z"
   },
   {
    "duration": 27,
    "start_time": "2022-09-06T14:37:03.090Z"
   },
   {
    "duration": 255,
    "start_time": "2022-09-06T14:37:03.119Z"
   },
   {
    "duration": 16,
    "start_time": "2022-09-06T14:37:03.376Z"
   },
   {
    "duration": 10,
    "start_time": "2022-09-06T14:37:03.394Z"
   },
   {
    "duration": 16,
    "start_time": "2022-09-06T14:37:03.405Z"
   },
   {
    "duration": 68,
    "start_time": "2022-09-06T14:37:03.425Z"
   },
   {
    "duration": 5,
    "start_time": "2022-09-06T14:37:03.494Z"
   },
   {
    "duration": 12,
    "start_time": "2022-09-06T14:37:03.500Z"
   },
   {
    "duration": 72,
    "start_time": "2022-09-06T14:37:03.514Z"
   },
   {
    "duration": 182,
    "start_time": "2022-09-06T14:37:03.588Z"
   },
   {
    "duration": 3323,
    "start_time": "2022-09-06T14:37:42.491Z"
   },
   {
    "duration": 2384,
    "start_time": "2022-09-06T14:37:45.816Z"
   },
   {
    "duration": 12,
    "start_time": "2022-09-06T14:37:48.201Z"
   },
   {
    "duration": 420,
    "start_time": "2022-09-06T14:37:48.215Z"
   },
   {
    "duration": 26,
    "start_time": "2022-09-06T14:37:48.637Z"
   },
   {
    "duration": 239,
    "start_time": "2022-09-06T14:37:48.664Z"
   },
   {
    "duration": 14,
    "start_time": "2022-09-06T14:37:48.905Z"
   },
   {
    "duration": 9,
    "start_time": "2022-09-06T14:37:48.920Z"
   },
   {
    "duration": 14,
    "start_time": "2022-09-06T14:37:48.931Z"
   },
   {
    "duration": 70,
    "start_time": "2022-09-06T14:37:48.947Z"
   },
   {
    "duration": 4,
    "start_time": "2022-09-06T14:37:49.019Z"
   },
   {
    "duration": 5,
    "start_time": "2022-09-06T14:37:49.024Z"
   },
   {
    "duration": 73,
    "start_time": "2022-09-06T14:37:49.031Z"
   },
   {
    "duration": 172,
    "start_time": "2022-09-06T14:37:49.106Z"
   },
   {
    "duration": 3747,
    "start_time": "2022-09-06T14:38:03.262Z"
   },
   {
    "duration": 2362,
    "start_time": "2022-09-06T14:38:07.011Z"
   },
   {
    "duration": 12,
    "start_time": "2022-09-06T14:38:09.375Z"
   },
   {
    "duration": 400,
    "start_time": "2022-09-06T14:38:09.388Z"
   },
   {
    "duration": 28,
    "start_time": "2022-09-06T14:38:09.790Z"
   },
   {
    "duration": 248,
    "start_time": "2022-09-06T14:38:09.820Z"
   },
   {
    "duration": 24,
    "start_time": "2022-09-06T14:38:10.071Z"
   },
   {
    "duration": 27,
    "start_time": "2022-09-06T14:38:10.096Z"
   },
   {
    "duration": 25,
    "start_time": "2022-09-06T14:38:10.125Z"
   },
   {
    "duration": 75,
    "start_time": "2022-09-06T14:38:10.153Z"
   },
   {
    "duration": 4,
    "start_time": "2022-09-06T14:38:10.230Z"
   },
   {
    "duration": 10,
    "start_time": "2022-09-06T14:38:10.236Z"
   },
   {
    "duration": 74,
    "start_time": "2022-09-06T14:38:10.247Z"
   },
   {
    "duration": 203,
    "start_time": "2022-09-06T14:38:10.322Z"
   },
   {
    "duration": 3472,
    "start_time": "2022-09-06T14:39:25.604Z"
   },
   {
    "duration": 2343,
    "start_time": "2022-09-06T14:39:29.078Z"
   },
   {
    "duration": 13,
    "start_time": "2022-09-06T14:39:31.423Z"
   },
   {
    "duration": 433,
    "start_time": "2022-09-06T14:39:31.438Z"
   },
   {
    "duration": 32,
    "start_time": "2022-09-06T14:39:31.873Z"
   },
   {
    "duration": 227,
    "start_time": "2022-09-06T14:39:31.906Z"
   },
   {
    "duration": 13,
    "start_time": "2022-09-06T14:39:32.134Z"
   },
   {
    "duration": 32,
    "start_time": "2022-09-06T14:39:32.148Z"
   },
   {
    "duration": 56,
    "start_time": "2022-09-06T14:39:32.182Z"
   },
   {
    "duration": 80,
    "start_time": "2022-09-06T14:39:32.239Z"
   },
   {
    "duration": 3,
    "start_time": "2022-09-06T14:39:32.321Z"
   },
   {
    "duration": 38,
    "start_time": "2022-09-06T14:39:32.325Z"
   },
   {
    "duration": 69,
    "start_time": "2022-09-06T14:39:32.365Z"
   },
   {
    "duration": 189,
    "start_time": "2022-09-06T14:39:32.436Z"
   },
   {
    "duration": 3522,
    "start_time": "2022-09-06T14:40:28.066Z"
   },
   {
    "duration": 2402,
    "start_time": "2022-09-06T14:40:31.590Z"
   },
   {
    "duration": 12,
    "start_time": "2022-09-06T14:40:33.994Z"
   },
   {
    "duration": 478,
    "start_time": "2022-09-06T14:40:34.009Z"
   },
   {
    "duration": 28,
    "start_time": "2022-09-06T14:40:34.489Z"
   },
   {
    "duration": 245,
    "start_time": "2022-09-06T14:40:34.520Z"
   },
   {
    "duration": 20,
    "start_time": "2022-09-06T14:40:34.768Z"
   },
   {
    "duration": 30,
    "start_time": "2022-09-06T14:40:34.789Z"
   },
   {
    "duration": 43,
    "start_time": "2022-09-06T14:40:34.820Z"
   },
   {
    "duration": 91,
    "start_time": "2022-09-06T14:40:34.866Z"
   },
   {
    "duration": 5,
    "start_time": "2022-09-06T14:40:34.958Z"
   },
   {
    "duration": 45,
    "start_time": "2022-09-06T14:40:34.965Z"
   },
   {
    "duration": 85,
    "start_time": "2022-09-06T14:40:35.012Z"
   },
   {
    "duration": 174,
    "start_time": "2022-09-06T14:40:35.099Z"
   },
   {
    "duration": 3522,
    "start_time": "2022-09-06T14:41:31.143Z"
   },
   {
    "duration": 2388,
    "start_time": "2022-09-06T14:41:34.667Z"
   },
   {
    "duration": 12,
    "start_time": "2022-09-06T14:41:37.056Z"
   },
   {
    "duration": 425,
    "start_time": "2022-09-06T14:41:37.070Z"
   },
   {
    "duration": 27,
    "start_time": "2022-09-06T14:41:37.497Z"
   },
   {
    "duration": 272,
    "start_time": "2022-09-06T14:41:37.525Z"
   },
   {
    "duration": 14,
    "start_time": "2022-09-06T14:41:37.799Z"
   },
   {
    "duration": 20,
    "start_time": "2022-09-06T14:41:37.815Z"
   },
   {
    "duration": 16,
    "start_time": "2022-09-06T14:41:37.836Z"
   },
   {
    "duration": 67,
    "start_time": "2022-09-06T14:41:37.854Z"
   },
   {
    "duration": 4,
    "start_time": "2022-09-06T14:41:37.923Z"
   },
   {
    "duration": 7,
    "start_time": "2022-09-06T14:41:37.929Z"
   },
   {
    "duration": 100,
    "start_time": "2022-09-06T14:41:37.937Z"
   },
   {
    "duration": 309,
    "start_time": "2022-09-06T14:41:38.039Z"
   },
   {
    "duration": 3466,
    "start_time": "2022-09-06T14:41:52.223Z"
   },
   {
    "duration": 2478,
    "start_time": "2022-09-06T14:41:55.691Z"
   },
   {
    "duration": 11,
    "start_time": "2022-09-06T14:41:58.171Z"
   },
   {
    "duration": 395,
    "start_time": "2022-09-06T14:41:58.184Z"
   },
   {
    "duration": 31,
    "start_time": "2022-09-06T14:41:58.580Z"
   },
   {
    "duration": 231,
    "start_time": "2022-09-06T14:41:58.613Z"
   },
   {
    "duration": 13,
    "start_time": "2022-09-06T14:41:58.846Z"
   },
   {
    "duration": 8,
    "start_time": "2022-09-06T14:41:58.861Z"
   },
   {
    "duration": 20,
    "start_time": "2022-09-06T14:41:58.871Z"
   },
   {
    "duration": 58,
    "start_time": "2022-09-06T14:41:58.893Z"
   },
   {
    "duration": 4,
    "start_time": "2022-09-06T14:41:58.953Z"
   },
   {
    "duration": 10,
    "start_time": "2022-09-06T14:41:58.958Z"
   },
   {
    "duration": 69,
    "start_time": "2022-09-06T14:41:58.969Z"
   },
   {
    "duration": 185,
    "start_time": "2022-09-06T14:41:59.040Z"
   },
   {
    "duration": 3455,
    "start_time": "2022-09-06T14:42:40.031Z"
   },
   {
    "duration": 2466,
    "start_time": "2022-09-06T14:42:43.488Z"
   },
   {
    "duration": 13,
    "start_time": "2022-09-06T14:42:45.956Z"
   },
   {
    "duration": 479,
    "start_time": "2022-09-06T14:42:45.970Z"
   },
   {
    "duration": 39,
    "start_time": "2022-09-06T14:42:46.452Z"
   },
   {
    "duration": 250,
    "start_time": "2022-09-06T14:42:46.493Z"
   },
   {
    "duration": 15,
    "start_time": "2022-09-06T14:42:46.745Z"
   },
   {
    "duration": 25,
    "start_time": "2022-09-06T14:42:46.762Z"
   },
   {
    "duration": 14,
    "start_time": "2022-09-06T14:42:46.789Z"
   },
   {
    "duration": 68,
    "start_time": "2022-09-06T14:42:46.804Z"
   },
   {
    "duration": 13,
    "start_time": "2022-09-06T14:42:46.874Z"
   },
   {
    "duration": 25,
    "start_time": "2022-09-06T14:42:46.889Z"
   },
   {
    "duration": 85,
    "start_time": "2022-09-06T14:42:46.917Z"
   },
   {
    "duration": 192,
    "start_time": "2022-09-06T14:42:47.005Z"
   },
   {
    "duration": 3641,
    "start_time": "2022-09-06T14:44:34.871Z"
   },
   {
    "duration": 2335,
    "start_time": "2022-09-06T14:44:38.513Z"
   },
   {
    "duration": 12,
    "start_time": "2022-09-06T14:44:40.849Z"
   },
   {
    "duration": 413,
    "start_time": "2022-09-06T14:44:40.863Z"
   },
   {
    "duration": 33,
    "start_time": "2022-09-06T14:44:41.277Z"
   },
   {
    "duration": 234,
    "start_time": "2022-09-06T14:44:41.311Z"
   },
   {
    "duration": 14,
    "start_time": "2022-09-06T14:44:41.546Z"
   },
   {
    "duration": 11,
    "start_time": "2022-09-06T14:44:41.561Z"
   },
   {
    "duration": 19,
    "start_time": "2022-09-06T14:44:41.573Z"
   },
   {
    "duration": 65,
    "start_time": "2022-09-06T14:44:41.595Z"
   },
   {
    "duration": 4,
    "start_time": "2022-09-06T14:44:41.662Z"
   },
   {
    "duration": 8,
    "start_time": "2022-09-06T14:44:41.668Z"
   },
   {
    "duration": 72,
    "start_time": "2022-09-06T14:44:41.678Z"
   },
   {
    "duration": 185,
    "start_time": "2022-09-06T14:44:41.752Z"
   },
   {
    "duration": 3635,
    "start_time": "2022-09-06T14:46:30.019Z"
   },
   {
    "duration": 2322,
    "start_time": "2022-09-06T14:46:33.656Z"
   },
   {
    "duration": 12,
    "start_time": "2022-09-06T14:46:35.980Z"
   },
   {
    "duration": 462,
    "start_time": "2022-09-06T14:46:35.994Z"
   },
   {
    "duration": 33,
    "start_time": "2022-09-06T14:46:36.458Z"
   },
   {
    "duration": 247,
    "start_time": "2022-09-06T14:46:36.492Z"
   },
   {
    "duration": 14,
    "start_time": "2022-09-06T14:46:36.740Z"
   },
   {
    "duration": 12,
    "start_time": "2022-09-06T14:46:36.756Z"
   },
   {
    "duration": 22,
    "start_time": "2022-09-06T14:46:36.770Z"
   },
   {
    "duration": 74,
    "start_time": "2022-09-06T14:46:36.795Z"
   },
   {
    "duration": 4,
    "start_time": "2022-09-06T14:46:36.870Z"
   },
   {
    "duration": 14,
    "start_time": "2022-09-06T14:46:36.875Z"
   },
   {
    "duration": 76,
    "start_time": "2022-09-06T14:46:36.890Z"
   },
   {
    "duration": 171,
    "start_time": "2022-09-06T14:46:36.968Z"
   },
   {
    "duration": 44,
    "start_time": "2022-09-06T14:47:54.514Z"
   },
   {
    "duration": 3634,
    "start_time": "2022-09-06T14:48:04.589Z"
   },
   {
    "duration": 2436,
    "start_time": "2022-09-06T14:48:08.225Z"
   },
   {
    "duration": 12,
    "start_time": "2022-09-06T14:48:10.663Z"
   },
   {
    "duration": 416,
    "start_time": "2022-09-06T14:48:10.676Z"
   },
   {
    "duration": 28,
    "start_time": "2022-09-06T14:48:11.094Z"
   },
   {
    "duration": 242,
    "start_time": "2022-09-06T14:48:11.123Z"
   },
   {
    "duration": 21,
    "start_time": "2022-09-06T14:48:11.366Z"
   },
   {
    "duration": 13,
    "start_time": "2022-09-06T14:48:11.389Z"
   },
   {
    "duration": 15,
    "start_time": "2022-09-06T14:48:11.403Z"
   },
   {
    "duration": 59,
    "start_time": "2022-09-06T14:48:11.420Z"
   },
   {
    "duration": 5,
    "start_time": "2022-09-06T14:48:11.486Z"
   },
   {
    "duration": 8,
    "start_time": "2022-09-06T14:48:11.493Z"
   },
   {
    "duration": 72,
    "start_time": "2022-09-06T14:48:11.503Z"
   },
   {
    "duration": 195,
    "start_time": "2022-09-06T14:48:11.577Z"
   },
   {
    "duration": 3096,
    "start_time": "2022-09-06T15:01:59.702Z"
   },
   {
    "duration": 2507,
    "start_time": "2022-09-06T15:02:02.800Z"
   },
   {
    "duration": 12,
    "start_time": "2022-09-06T15:02:05.309Z"
   },
   {
    "duration": 402,
    "start_time": "2022-09-06T15:02:05.323Z"
   },
   {
    "duration": 25,
    "start_time": "2022-09-06T15:02:05.727Z"
   },
   {
    "duration": 269,
    "start_time": "2022-09-06T15:02:05.753Z"
   },
   {
    "duration": 14,
    "start_time": "2022-09-06T15:02:06.024Z"
   },
   {
    "duration": 17,
    "start_time": "2022-09-06T15:02:06.040Z"
   },
   {
    "duration": 13,
    "start_time": "2022-09-06T15:02:06.060Z"
   },
   {
    "duration": 62,
    "start_time": "2022-09-06T15:02:06.089Z"
   },
   {
    "duration": 3,
    "start_time": "2022-09-06T15:02:06.153Z"
   },
   {
    "duration": 7,
    "start_time": "2022-09-06T15:02:06.158Z"
   },
   {
    "duration": 84,
    "start_time": "2022-09-06T15:02:06.167Z"
   },
   {
    "duration": 272,
    "start_time": "2022-09-06T15:02:06.254Z"
   },
   {
    "duration": 3643,
    "start_time": "2022-09-06T15:05:15.553Z"
   },
   {
    "duration": 2758,
    "start_time": "2022-09-06T15:05:19.206Z"
   },
   {
    "duration": 12,
    "start_time": "2022-09-06T15:05:21.965Z"
   },
   {
    "duration": 528,
    "start_time": "2022-09-06T15:05:21.979Z"
   },
   {
    "duration": 26,
    "start_time": "2022-09-06T15:05:22.508Z"
   },
   {
    "duration": 265,
    "start_time": "2022-09-06T15:05:22.536Z"
   },
   {
    "duration": 16,
    "start_time": "2022-09-06T15:05:22.802Z"
   },
   {
    "duration": 37,
    "start_time": "2022-09-06T15:05:22.820Z"
   },
   {
    "duration": 39,
    "start_time": "2022-09-06T15:05:22.859Z"
   },
   {
    "duration": 107,
    "start_time": "2022-09-06T15:05:22.902Z"
   },
   {
    "duration": 5,
    "start_time": "2022-09-06T15:05:23.012Z"
   },
   {
    "duration": 42,
    "start_time": "2022-09-06T15:05:23.019Z"
   },
   {
    "duration": 105,
    "start_time": "2022-09-06T15:05:23.062Z"
   },
   {
    "duration": 211,
    "start_time": "2022-09-06T15:05:23.171Z"
   },
   {
    "duration": 1470,
    "start_time": "2022-09-06T15:07:28.868Z"
   },
   {
    "duration": 0,
    "start_time": "2022-09-06T15:07:30.340Z"
   },
   {
    "duration": 0,
    "start_time": "2022-09-06T15:07:30.342Z"
   },
   {
    "duration": 0,
    "start_time": "2022-09-06T15:07:30.343Z"
   },
   {
    "duration": 0,
    "start_time": "2022-09-06T15:07:30.344Z"
   },
   {
    "duration": 0,
    "start_time": "2022-09-06T15:07:30.345Z"
   },
   {
    "duration": 0,
    "start_time": "2022-09-06T15:07:30.346Z"
   },
   {
    "duration": 0,
    "start_time": "2022-09-06T15:07:30.347Z"
   },
   {
    "duration": 0,
    "start_time": "2022-09-06T15:07:30.348Z"
   },
   {
    "duration": 0,
    "start_time": "2022-09-06T15:07:30.349Z"
   },
   {
    "duration": 0,
    "start_time": "2022-09-06T15:07:30.350Z"
   },
   {
    "duration": 0,
    "start_time": "2022-09-06T15:07:30.351Z"
   },
   {
    "duration": 0,
    "start_time": "2022-09-06T15:07:30.352Z"
   },
   {
    "duration": 0,
    "start_time": "2022-09-06T15:07:30.353Z"
   },
   {
    "duration": 0,
    "start_time": "2022-09-06T15:07:30.354Z"
   },
   {
    "duration": 0,
    "start_time": "2022-09-06T15:07:30.355Z"
   },
   {
    "duration": 0,
    "start_time": "2022-09-06T15:07:30.356Z"
   },
   {
    "duration": 0,
    "start_time": "2022-09-06T15:07:30.357Z"
   },
   {
    "duration": 0,
    "start_time": "2022-09-06T15:07:30.359Z"
   },
   {
    "duration": 0,
    "start_time": "2022-09-06T15:07:30.360Z"
   },
   {
    "duration": 0,
    "start_time": "2022-09-06T15:07:30.361Z"
   },
   {
    "duration": 0,
    "start_time": "2022-09-06T15:07:30.362Z"
   },
   {
    "duration": 0,
    "start_time": "2022-09-06T15:07:30.363Z"
   },
   {
    "duration": 0,
    "start_time": "2022-09-06T15:07:30.364Z"
   },
   {
    "duration": 0,
    "start_time": "2022-09-06T15:07:30.365Z"
   },
   {
    "duration": 1,
    "start_time": "2022-09-06T15:07:30.366Z"
   },
   {
    "duration": 0,
    "start_time": "2022-09-06T15:07:30.367Z"
   },
   {
    "duration": 0,
    "start_time": "2022-09-06T15:07:30.368Z"
   },
   {
    "duration": 0,
    "start_time": "2022-09-06T15:07:30.386Z"
   },
   {
    "duration": 0,
    "start_time": "2022-09-06T15:07:30.388Z"
   },
   {
    "duration": 0,
    "start_time": "2022-09-06T15:07:30.389Z"
   },
   {
    "duration": 0,
    "start_time": "2022-09-06T15:07:30.389Z"
   },
   {
    "duration": 0,
    "start_time": "2022-09-06T15:07:30.390Z"
   },
   {
    "duration": 0,
    "start_time": "2022-09-06T15:07:30.391Z"
   },
   {
    "duration": 0,
    "start_time": "2022-09-06T15:07:30.391Z"
   },
   {
    "duration": 3115,
    "start_time": "2022-09-06T15:08:10.203Z"
   },
   {
    "duration": 2669,
    "start_time": "2022-09-06T15:08:13.320Z"
   },
   {
    "duration": 22,
    "start_time": "2022-09-06T15:08:15.995Z"
   },
   {
    "duration": 561,
    "start_time": "2022-09-06T15:08:16.019Z"
   },
   {
    "duration": 40,
    "start_time": "2022-09-06T15:08:16.588Z"
   },
   {
    "duration": 266,
    "start_time": "2022-09-06T15:08:16.630Z"
   },
   {
    "duration": 18,
    "start_time": "2022-09-06T15:08:16.898Z"
   },
   {
    "duration": 9,
    "start_time": "2022-09-06T15:08:16.918Z"
   },
   {
    "duration": 18,
    "start_time": "2022-09-06T15:08:16.929Z"
   },
   {
    "duration": 87,
    "start_time": "2022-09-06T15:08:16.950Z"
   },
   {
    "duration": 5,
    "start_time": "2022-09-06T15:08:17.039Z"
   },
   {
    "duration": 16,
    "start_time": "2022-09-06T15:08:17.047Z"
   },
   {
    "duration": 81,
    "start_time": "2022-09-06T15:08:17.065Z"
   },
   {
    "duration": 206,
    "start_time": "2022-09-06T15:08:17.148Z"
   },
   {
    "duration": 3048,
    "start_time": "2022-09-06T15:08:58.546Z"
   },
   {
    "duration": 2356,
    "start_time": "2022-09-06T15:09:01.596Z"
   },
   {
    "duration": 12,
    "start_time": "2022-09-06T15:09:03.954Z"
   },
   {
    "duration": 418,
    "start_time": "2022-09-06T15:09:03.968Z"
   },
   {
    "duration": 26,
    "start_time": "2022-09-06T15:09:04.388Z"
   },
   {
    "duration": 232,
    "start_time": "2022-09-06T15:09:04.416Z"
   },
   {
    "duration": 13,
    "start_time": "2022-09-06T15:09:04.650Z"
   },
   {
    "duration": 24,
    "start_time": "2022-09-06T15:09:04.665Z"
   },
   {
    "duration": 12,
    "start_time": "2022-09-06T15:09:04.690Z"
   },
   {
    "duration": 63,
    "start_time": "2022-09-06T15:09:04.703Z"
   },
   {
    "duration": 4,
    "start_time": "2022-09-06T15:09:04.767Z"
   },
   {
    "duration": 4,
    "start_time": "2022-09-06T15:09:04.786Z"
   },
   {
    "duration": 58,
    "start_time": "2022-09-06T15:09:04.791Z"
   },
   {
    "duration": 181,
    "start_time": "2022-09-06T15:09:04.852Z"
   },
   {
    "duration": 3309,
    "start_time": "2022-09-06T15:10:23.001Z"
   },
   {
    "duration": 2791,
    "start_time": "2022-09-06T15:10:26.312Z"
   },
   {
    "duration": 12,
    "start_time": "2022-09-06T15:10:29.105Z"
   },
   {
    "duration": 412,
    "start_time": "2022-09-06T15:10:29.120Z"
   },
   {
    "duration": 25,
    "start_time": "2022-09-06T15:10:29.534Z"
   },
   {
    "duration": 253,
    "start_time": "2022-09-06T15:10:29.561Z"
   },
   {
    "duration": 14,
    "start_time": "2022-09-06T15:10:29.816Z"
   },
   {
    "duration": 9,
    "start_time": "2022-09-06T15:10:29.832Z"
   },
   {
    "duration": 13,
    "start_time": "2022-09-06T15:10:29.843Z"
   },
   {
    "duration": 94,
    "start_time": "2022-09-06T15:10:29.859Z"
   },
   {
    "duration": 3,
    "start_time": "2022-09-06T15:10:29.955Z"
   },
   {
    "duration": 6,
    "start_time": "2022-09-06T15:10:29.960Z"
   },
   {
    "duration": 76,
    "start_time": "2022-09-06T15:10:29.967Z"
   },
   {
    "duration": 203,
    "start_time": "2022-09-06T15:10:30.045Z"
   },
   {
    "duration": 3123,
    "start_time": "2022-09-06T15:12:15.804Z"
   },
   {
    "duration": 2412,
    "start_time": "2022-09-06T15:12:18.929Z"
   },
   {
    "duration": 12,
    "start_time": "2022-09-06T15:12:21.343Z"
   },
   {
    "duration": 473,
    "start_time": "2022-09-06T15:12:21.358Z"
   },
   {
    "duration": 28,
    "start_time": "2022-09-06T15:12:21.833Z"
   },
   {
    "duration": 333,
    "start_time": "2022-09-06T15:12:21.862Z"
   },
   {
    "duration": 19,
    "start_time": "2022-09-06T15:12:22.197Z"
   },
   {
    "duration": 24,
    "start_time": "2022-09-06T15:12:22.217Z"
   },
   {
    "duration": 34,
    "start_time": "2022-09-06T15:12:22.243Z"
   },
   {
    "duration": 109,
    "start_time": "2022-09-06T15:12:22.280Z"
   },
   {
    "duration": 5,
    "start_time": "2022-09-06T15:12:22.391Z"
   },
   {
    "duration": 18,
    "start_time": "2022-09-06T15:12:22.398Z"
   },
   {
    "duration": 85,
    "start_time": "2022-09-06T15:12:22.419Z"
   },
   {
    "duration": 189,
    "start_time": "2022-09-06T15:12:22.506Z"
   },
   {
    "duration": 1407,
    "start_time": "2022-09-06T15:16:01.025Z"
   },
   {
    "duration": 0,
    "start_time": "2022-09-06T15:16:02.434Z"
   },
   {
    "duration": 0,
    "start_time": "2022-09-06T15:16:02.436Z"
   },
   {
    "duration": 1,
    "start_time": "2022-09-06T15:16:02.437Z"
   },
   {
    "duration": 0,
    "start_time": "2022-09-06T15:16:02.438Z"
   },
   {
    "duration": 0,
    "start_time": "2022-09-06T15:16:02.439Z"
   },
   {
    "duration": 0,
    "start_time": "2022-09-06T15:16:02.440Z"
   },
   {
    "duration": 0,
    "start_time": "2022-09-06T15:16:02.442Z"
   },
   {
    "duration": 0,
    "start_time": "2022-09-06T15:16:02.443Z"
   },
   {
    "duration": 0,
    "start_time": "2022-09-06T15:16:02.444Z"
   },
   {
    "duration": 0,
    "start_time": "2022-09-06T15:16:02.446Z"
   },
   {
    "duration": 0,
    "start_time": "2022-09-06T15:16:02.447Z"
   },
   {
    "duration": 0,
    "start_time": "2022-09-06T15:16:02.448Z"
   },
   {
    "duration": 0,
    "start_time": "2022-09-06T15:16:02.449Z"
   },
   {
    "duration": 0,
    "start_time": "2022-09-06T15:16:02.451Z"
   },
   {
    "duration": 0,
    "start_time": "2022-09-06T15:16:02.452Z"
   },
   {
    "duration": 0,
    "start_time": "2022-09-06T15:16:02.453Z"
   },
   {
    "duration": 0,
    "start_time": "2022-09-06T15:16:02.454Z"
   },
   {
    "duration": 0,
    "start_time": "2022-09-06T15:16:02.456Z"
   },
   {
    "duration": 0,
    "start_time": "2022-09-06T15:16:02.457Z"
   },
   {
    "duration": 0,
    "start_time": "2022-09-06T15:16:02.458Z"
   },
   {
    "duration": 0,
    "start_time": "2022-09-06T15:16:02.459Z"
   },
   {
    "duration": 0,
    "start_time": "2022-09-06T15:16:02.461Z"
   },
   {
    "duration": 0,
    "start_time": "2022-09-06T15:16:02.489Z"
   },
   {
    "duration": 0,
    "start_time": "2022-09-06T15:16:02.490Z"
   },
   {
    "duration": 0,
    "start_time": "2022-09-06T15:16:02.490Z"
   },
   {
    "duration": 0,
    "start_time": "2022-09-06T15:16:02.491Z"
   },
   {
    "duration": 0,
    "start_time": "2022-09-06T15:16:02.492Z"
   },
   {
    "duration": 0,
    "start_time": "2022-09-06T15:16:02.493Z"
   },
   {
    "duration": 0,
    "start_time": "2022-09-06T15:16:02.494Z"
   },
   {
    "duration": 0,
    "start_time": "2022-09-06T15:16:02.495Z"
   },
   {
    "duration": 0,
    "start_time": "2022-09-06T15:16:02.496Z"
   },
   {
    "duration": 0,
    "start_time": "2022-09-06T15:16:02.497Z"
   },
   {
    "duration": 0,
    "start_time": "2022-09-06T15:16:02.498Z"
   },
   {
    "duration": 1,
    "start_time": "2022-09-06T15:16:02.498Z"
   },
   {
    "duration": 2965,
    "start_time": "2022-09-06T15:17:33.729Z"
   },
   {
    "duration": 2333,
    "start_time": "2022-09-06T15:17:36.696Z"
   },
   {
    "duration": 12,
    "start_time": "2022-09-06T15:17:39.030Z"
   },
   {
    "duration": 425,
    "start_time": "2022-09-06T15:17:39.044Z"
   },
   {
    "duration": 32,
    "start_time": "2022-09-06T15:17:39.471Z"
   },
   {
    "duration": 230,
    "start_time": "2022-09-06T15:17:39.505Z"
   },
   {
    "duration": 13,
    "start_time": "2022-09-06T15:17:39.737Z"
   },
   {
    "duration": 10,
    "start_time": "2022-09-06T15:17:39.752Z"
   },
   {
    "duration": 25,
    "start_time": "2022-09-06T15:17:39.763Z"
   },
   {
    "duration": 61,
    "start_time": "2022-09-06T15:17:39.791Z"
   },
   {
    "duration": 5,
    "start_time": "2022-09-06T15:17:39.854Z"
   },
   {
    "duration": 21,
    "start_time": "2022-09-06T15:17:39.861Z"
   },
   {
    "duration": 69,
    "start_time": "2022-09-06T15:17:39.884Z"
   },
   {
    "duration": 186,
    "start_time": "2022-09-06T15:17:39.955Z"
   },
   {
    "duration": 2973,
    "start_time": "2022-09-06T15:17:54.183Z"
   },
   {
    "duration": 2280,
    "start_time": "2022-09-06T15:17:57.159Z"
   },
   {
    "duration": 11,
    "start_time": "2022-09-06T15:17:59.440Z"
   },
   {
    "duration": 411,
    "start_time": "2022-09-06T15:17:59.453Z"
   },
   {
    "duration": 31,
    "start_time": "2022-09-06T15:17:59.865Z"
   },
   {
    "duration": 235,
    "start_time": "2022-09-06T15:17:59.898Z"
   },
   {
    "duration": 14,
    "start_time": "2022-09-06T15:18:00.135Z"
   },
   {
    "duration": 12,
    "start_time": "2022-09-06T15:18:00.150Z"
   },
   {
    "duration": 23,
    "start_time": "2022-09-06T15:18:00.164Z"
   },
   {
    "duration": 62,
    "start_time": "2022-09-06T15:18:00.191Z"
   },
   {
    "duration": 5,
    "start_time": "2022-09-06T15:18:00.255Z"
   },
   {
    "duration": 8,
    "start_time": "2022-09-06T15:18:00.262Z"
   },
   {
    "duration": 68,
    "start_time": "2022-09-06T15:18:00.272Z"
   },
   {
    "duration": 186,
    "start_time": "2022-09-06T15:18:00.342Z"
   },
   {
    "duration": 3024,
    "start_time": "2022-09-06T15:18:22.150Z"
   },
   {
    "duration": 2586,
    "start_time": "2022-09-06T15:18:25.176Z"
   },
   {
    "duration": 12,
    "start_time": "2022-09-06T15:18:27.764Z"
   },
   {
    "duration": 426,
    "start_time": "2022-09-06T15:18:27.778Z"
   },
   {
    "duration": 26,
    "start_time": "2022-09-06T15:18:28.206Z"
   },
   {
    "duration": 246,
    "start_time": "2022-09-06T15:18:28.234Z"
   },
   {
    "duration": 13,
    "start_time": "2022-09-06T15:18:28.487Z"
   },
   {
    "duration": 12,
    "start_time": "2022-09-06T15:18:28.502Z"
   },
   {
    "duration": 15,
    "start_time": "2022-09-06T15:18:28.516Z"
   },
   {
    "duration": 72,
    "start_time": "2022-09-06T15:18:28.533Z"
   },
   {
    "duration": 4,
    "start_time": "2022-09-06T15:18:28.607Z"
   },
   {
    "duration": 13,
    "start_time": "2022-09-06T15:18:28.613Z"
   },
   {
    "duration": 72,
    "start_time": "2022-09-06T15:18:28.629Z"
   },
   {
    "duration": 191,
    "start_time": "2022-09-06T15:18:28.704Z"
   },
   {
    "duration": 2941,
    "start_time": "2022-09-06T15:18:43.093Z"
   },
   {
    "duration": 2716,
    "start_time": "2022-09-06T15:18:46.036Z"
   },
   {
    "duration": 14,
    "start_time": "2022-09-06T15:18:48.753Z"
   },
   {
    "duration": 438,
    "start_time": "2022-09-06T15:18:48.769Z"
   },
   {
    "duration": 27,
    "start_time": "2022-09-06T15:18:49.209Z"
   },
   {
    "duration": 236,
    "start_time": "2022-09-06T15:18:49.237Z"
   },
   {
    "duration": 24,
    "start_time": "2022-09-06T15:18:49.475Z"
   },
   {
    "duration": 25,
    "start_time": "2022-09-06T15:18:49.501Z"
   },
   {
    "duration": 46,
    "start_time": "2022-09-06T15:18:49.528Z"
   },
   {
    "duration": 82,
    "start_time": "2022-09-06T15:18:49.577Z"
   },
   {
    "duration": 4,
    "start_time": "2022-09-06T15:18:49.661Z"
   },
   {
    "duration": 17,
    "start_time": "2022-09-06T15:18:49.667Z"
   },
   {
    "duration": 79,
    "start_time": "2022-09-06T15:18:49.685Z"
   },
   {
    "duration": 179,
    "start_time": "2022-09-06T15:18:49.765Z"
   },
   {
    "duration": 3209,
    "start_time": "2022-09-06T15:19:06.062Z"
   },
   {
    "duration": 2327,
    "start_time": "2022-09-06T15:19:09.273Z"
   },
   {
    "duration": 12,
    "start_time": "2022-09-06T15:19:11.602Z"
   },
   {
    "duration": 408,
    "start_time": "2022-09-06T15:19:11.616Z"
   },
   {
    "duration": 27,
    "start_time": "2022-09-06T15:19:12.025Z"
   },
   {
    "duration": 240,
    "start_time": "2022-09-06T15:19:12.055Z"
   },
   {
    "duration": 13,
    "start_time": "2022-09-06T15:19:12.297Z"
   },
   {
    "duration": 13,
    "start_time": "2022-09-06T15:19:12.312Z"
   },
   {
    "duration": 11,
    "start_time": "2022-09-06T15:19:12.327Z"
   },
   {
    "duration": 75,
    "start_time": "2022-09-06T15:19:12.341Z"
   },
   {
    "duration": 4,
    "start_time": "2022-09-06T15:19:12.418Z"
   },
   {
    "duration": 11,
    "start_time": "2022-09-06T15:19:12.424Z"
   },
   {
    "duration": 69,
    "start_time": "2022-09-06T15:19:12.437Z"
   },
   {
    "duration": 187,
    "start_time": "2022-09-06T15:19:12.507Z"
   },
   {
    "duration": 3173,
    "start_time": "2022-09-06T15:24:15.955Z"
   },
   {
    "duration": 2387,
    "start_time": "2022-09-06T15:24:19.130Z"
   },
   {
    "duration": 13,
    "start_time": "2022-09-06T15:24:21.518Z"
   },
   {
    "duration": 509,
    "start_time": "2022-09-06T15:24:21.533Z"
   },
   {
    "duration": 59,
    "start_time": "2022-09-06T15:24:22.044Z"
   },
   {
    "duration": 244,
    "start_time": "2022-09-06T15:24:22.105Z"
   },
   {
    "duration": 16,
    "start_time": "2022-09-06T15:24:22.350Z"
   },
   {
    "duration": 21,
    "start_time": "2022-09-06T15:24:22.367Z"
   },
   {
    "duration": 13,
    "start_time": "2022-09-06T15:24:22.390Z"
   },
   {
    "duration": 64,
    "start_time": "2022-09-06T15:24:22.405Z"
   },
   {
    "duration": 16,
    "start_time": "2022-09-06T15:24:22.471Z"
   },
   {
    "duration": 8,
    "start_time": "2022-09-06T15:24:22.489Z"
   },
   {
    "duration": 67,
    "start_time": "2022-09-06T15:24:22.499Z"
   },
   {
    "duration": 236,
    "start_time": "2022-09-06T15:24:22.568Z"
   },
   {
    "duration": 2947,
    "start_time": "2022-09-06T15:24:37.231Z"
   },
   {
    "duration": 2334,
    "start_time": "2022-09-06T15:24:40.180Z"
   },
   {
    "duration": 12,
    "start_time": "2022-09-06T15:24:42.516Z"
   },
   {
    "duration": 466,
    "start_time": "2022-09-06T15:24:42.531Z"
   },
   {
    "duration": 27,
    "start_time": "2022-09-06T15:24:42.998Z"
   },
   {
    "duration": 242,
    "start_time": "2022-09-06T15:24:43.026Z"
   },
   {
    "duration": 14,
    "start_time": "2022-09-06T15:24:43.269Z"
   },
   {
    "duration": 9,
    "start_time": "2022-09-06T15:24:43.287Z"
   },
   {
    "duration": 15,
    "start_time": "2022-09-06T15:24:43.297Z"
   },
   {
    "duration": 62,
    "start_time": "2022-09-06T15:24:43.314Z"
   },
   {
    "duration": 4,
    "start_time": "2022-09-06T15:24:43.386Z"
   },
   {
    "duration": 7,
    "start_time": "2022-09-06T15:24:43.391Z"
   },
   {
    "duration": 67,
    "start_time": "2022-09-06T15:24:43.399Z"
   },
   {
    "duration": 229,
    "start_time": "2022-09-06T15:24:43.468Z"
   },
   {
    "duration": 3616,
    "start_time": "2022-09-06T15:24:59.709Z"
   },
   {
    "duration": 2402,
    "start_time": "2022-09-06T15:25:03.327Z"
   },
   {
    "duration": 16,
    "start_time": "2022-09-06T15:25:05.731Z"
   },
   {
    "duration": 464,
    "start_time": "2022-09-06T15:25:05.750Z"
   },
   {
    "duration": 30,
    "start_time": "2022-09-06T15:25:06.216Z"
   },
   {
    "duration": 275,
    "start_time": "2022-09-06T15:25:06.249Z"
   },
   {
    "duration": 15,
    "start_time": "2022-09-06T15:25:06.526Z"
   },
   {
    "duration": 8,
    "start_time": "2022-09-06T15:25:06.543Z"
   },
   {
    "duration": 35,
    "start_time": "2022-09-06T15:25:06.553Z"
   },
   {
    "duration": 62,
    "start_time": "2022-09-06T15:25:06.590Z"
   },
   {
    "duration": 5,
    "start_time": "2022-09-06T15:25:06.655Z"
   },
   {
    "duration": 10,
    "start_time": "2022-09-06T15:25:06.662Z"
   },
   {
    "duration": 63,
    "start_time": "2022-09-06T15:25:06.687Z"
   },
   {
    "duration": 208,
    "start_time": "2022-09-06T15:25:06.752Z"
   },
   {
    "duration": 3188,
    "start_time": "2022-09-06T15:25:22.017Z"
   },
   {
    "duration": 2472,
    "start_time": "2022-09-06T15:25:25.207Z"
   },
   {
    "duration": 14,
    "start_time": "2022-09-06T15:25:27.680Z"
   },
   {
    "duration": 460,
    "start_time": "2022-09-06T15:25:27.697Z"
   },
   {
    "duration": 35,
    "start_time": "2022-09-06T15:25:28.159Z"
   },
   {
    "duration": 237,
    "start_time": "2022-09-06T15:25:28.195Z"
   },
   {
    "duration": 14,
    "start_time": "2022-09-06T15:25:28.434Z"
   },
   {
    "duration": 14,
    "start_time": "2022-09-06T15:25:28.449Z"
   },
   {
    "duration": 17,
    "start_time": "2022-09-06T15:25:28.465Z"
   },
   {
    "duration": 54,
    "start_time": "2022-09-06T15:25:28.488Z"
   },
   {
    "duration": 4,
    "start_time": "2022-09-06T15:25:28.544Z"
   },
   {
    "duration": 7,
    "start_time": "2022-09-06T15:25:28.549Z"
   },
   {
    "duration": 77,
    "start_time": "2022-09-06T15:25:28.558Z"
   },
   {
    "duration": 225,
    "start_time": "2022-09-06T15:25:28.637Z"
   },
   {
    "duration": 3234,
    "start_time": "2022-09-06T15:25:44.012Z"
   },
   {
    "duration": 2360,
    "start_time": "2022-09-06T15:25:47.248Z"
   },
   {
    "duration": 11,
    "start_time": "2022-09-06T15:25:49.609Z"
   },
   {
    "duration": 403,
    "start_time": "2022-09-06T15:25:49.622Z"
   },
   {
    "duration": 28,
    "start_time": "2022-09-06T15:25:50.027Z"
   },
   {
    "duration": 238,
    "start_time": "2022-09-06T15:25:50.057Z"
   },
   {
    "duration": 14,
    "start_time": "2022-09-06T15:25:50.297Z"
   },
   {
    "duration": 11,
    "start_time": "2022-09-06T15:25:50.313Z"
   },
   {
    "duration": 18,
    "start_time": "2022-09-06T15:25:50.326Z"
   },
   {
    "duration": 76,
    "start_time": "2022-09-06T15:25:50.345Z"
   },
   {
    "duration": 4,
    "start_time": "2022-09-06T15:25:50.422Z"
   },
   {
    "duration": 10,
    "start_time": "2022-09-06T15:25:50.427Z"
   },
   {
    "duration": 74,
    "start_time": "2022-09-06T15:25:50.438Z"
   },
   {
    "duration": 186,
    "start_time": "2022-09-06T15:25:50.516Z"
   },
   {
    "duration": 3225,
    "start_time": "2022-09-06T15:29:20.781Z"
   },
   {
    "duration": 2739,
    "start_time": "2022-09-06T15:29:24.008Z"
   },
   {
    "duration": 11,
    "start_time": "2022-09-06T15:29:26.748Z"
   },
   {
    "duration": 444,
    "start_time": "2022-09-06T15:29:26.761Z"
   },
   {
    "duration": 26,
    "start_time": "2022-09-06T15:29:27.207Z"
   },
   {
    "duration": 232,
    "start_time": "2022-09-06T15:29:27.235Z"
   },
   {
    "duration": 38,
    "start_time": "2022-09-06T15:29:27.469Z"
   },
   {
    "duration": 12,
    "start_time": "2022-09-06T15:29:27.508Z"
   },
   {
    "duration": 15,
    "start_time": "2022-09-06T15:29:27.522Z"
   },
   {
    "duration": 79,
    "start_time": "2022-09-06T15:29:27.541Z"
   },
   {
    "duration": 4,
    "start_time": "2022-09-06T15:29:27.622Z"
   },
   {
    "duration": 10,
    "start_time": "2022-09-06T15:29:27.628Z"
   },
   {
    "duration": 66,
    "start_time": "2022-09-06T15:29:27.640Z"
   },
   {
    "duration": 195,
    "start_time": "2022-09-06T15:29:27.708Z"
   },
   {
    "duration": 3475,
    "start_time": "2022-09-06T15:29:57.117Z"
   },
   {
    "duration": 2927,
    "start_time": "2022-09-06T15:30:00.594Z"
   },
   {
    "duration": 13,
    "start_time": "2022-09-06T15:30:03.523Z"
   },
   {
    "duration": 489,
    "start_time": "2022-09-06T15:30:03.537Z"
   },
   {
    "duration": 27,
    "start_time": "2022-09-06T15:30:04.028Z"
   },
   {
    "duration": 277,
    "start_time": "2022-09-06T15:30:04.058Z"
   },
   {
    "duration": 15,
    "start_time": "2022-09-06T15:30:04.337Z"
   },
   {
    "duration": 19,
    "start_time": "2022-09-06T15:30:04.354Z"
   },
   {
    "duration": 59,
    "start_time": "2022-09-06T15:30:04.374Z"
   },
   {
    "duration": 102,
    "start_time": "2022-09-06T15:30:04.435Z"
   },
   {
    "duration": 4,
    "start_time": "2022-09-06T15:30:04.538Z"
   },
   {
    "duration": 8,
    "start_time": "2022-09-06T15:30:04.544Z"
   },
   {
    "duration": 78,
    "start_time": "2022-09-06T15:30:04.553Z"
   },
   {
    "duration": 210,
    "start_time": "2022-09-06T15:30:04.634Z"
   },
   {
    "duration": 3621,
    "start_time": "2022-09-06T15:30:18.722Z"
   },
   {
    "duration": 3091,
    "start_time": "2022-09-06T15:30:22.345Z"
   },
   {
    "duration": 14,
    "start_time": "2022-09-06T15:30:25.438Z"
   },
   {
    "duration": 422,
    "start_time": "2022-09-06T15:30:25.454Z"
   },
   {
    "duration": 45,
    "start_time": "2022-09-06T15:30:25.878Z"
   },
   {
    "duration": 253,
    "start_time": "2022-09-06T15:30:25.925Z"
   },
   {
    "duration": 25,
    "start_time": "2022-09-06T15:30:26.180Z"
   },
   {
    "duration": 49,
    "start_time": "2022-09-06T15:30:26.207Z"
   },
   {
    "duration": 33,
    "start_time": "2022-09-06T15:30:26.258Z"
   },
   {
    "duration": 94,
    "start_time": "2022-09-06T15:30:26.294Z"
   },
   {
    "duration": 11,
    "start_time": "2022-09-06T15:30:26.390Z"
   },
   {
    "duration": 28,
    "start_time": "2022-09-06T15:30:26.411Z"
   },
   {
    "duration": 82,
    "start_time": "2022-09-06T15:30:26.441Z"
   },
   {
    "duration": 252,
    "start_time": "2022-09-06T15:30:26.525Z"
   },
   {
    "duration": 3437,
    "start_time": "2022-09-06T15:30:39.416Z"
   },
   {
    "duration": 3166,
    "start_time": "2022-09-06T15:30:42.855Z"
   },
   {
    "duration": 21,
    "start_time": "2022-09-06T15:30:46.027Z"
   },
   {
    "duration": 501,
    "start_time": "2022-09-06T15:30:46.050Z"
   },
   {
    "duration": 28,
    "start_time": "2022-09-06T15:30:46.553Z"
   },
   {
    "duration": 306,
    "start_time": "2022-09-06T15:30:46.594Z"
   },
   {
    "duration": 17,
    "start_time": "2022-09-06T15:30:46.905Z"
   },
   {
    "duration": 9,
    "start_time": "2022-09-06T15:30:46.924Z"
   },
   {
    "duration": 32,
    "start_time": "2022-09-06T15:30:46.934Z"
   },
   {
    "duration": 79,
    "start_time": "2022-09-06T15:30:46.969Z"
   },
   {
    "duration": 5,
    "start_time": "2022-09-06T15:30:47.050Z"
   },
   {
    "duration": 13,
    "start_time": "2022-09-06T15:30:47.057Z"
   },
   {
    "duration": 71,
    "start_time": "2022-09-06T15:30:47.071Z"
   },
   {
    "duration": 201,
    "start_time": "2022-09-06T15:30:47.144Z"
   },
   {
    "duration": 1544,
    "start_time": "2022-09-06T15:31:04.099Z"
   },
   {
    "duration": 0,
    "start_time": "2022-09-06T15:31:05.645Z"
   },
   {
    "duration": 0,
    "start_time": "2022-09-06T15:31:05.647Z"
   },
   {
    "duration": 0,
    "start_time": "2022-09-06T15:31:05.648Z"
   },
   {
    "duration": 0,
    "start_time": "2022-09-06T15:31:05.649Z"
   },
   {
    "duration": 0,
    "start_time": "2022-09-06T15:31:05.650Z"
   },
   {
    "duration": 0,
    "start_time": "2022-09-06T15:31:05.652Z"
   },
   {
    "duration": 0,
    "start_time": "2022-09-06T15:31:05.652Z"
   },
   {
    "duration": 0,
    "start_time": "2022-09-06T15:31:05.653Z"
   },
   {
    "duration": 0,
    "start_time": "2022-09-06T15:31:05.654Z"
   },
   {
    "duration": 0,
    "start_time": "2022-09-06T15:31:05.655Z"
   },
   {
    "duration": 0,
    "start_time": "2022-09-06T15:31:05.657Z"
   },
   {
    "duration": 0,
    "start_time": "2022-09-06T15:31:05.658Z"
   },
   {
    "duration": 0,
    "start_time": "2022-09-06T15:31:05.658Z"
   },
   {
    "duration": 0,
    "start_time": "2022-09-06T15:31:05.659Z"
   },
   {
    "duration": 0,
    "start_time": "2022-09-06T15:31:05.660Z"
   },
   {
    "duration": 0,
    "start_time": "2022-09-06T15:31:05.661Z"
   },
   {
    "duration": 0,
    "start_time": "2022-09-06T15:31:05.662Z"
   },
   {
    "duration": 0,
    "start_time": "2022-09-06T15:31:05.663Z"
   },
   {
    "duration": 0,
    "start_time": "2022-09-06T15:31:05.664Z"
   },
   {
    "duration": 0,
    "start_time": "2022-09-06T15:31:05.665Z"
   },
   {
    "duration": 0,
    "start_time": "2022-09-06T15:31:05.666Z"
   },
   {
    "duration": 0,
    "start_time": "2022-09-06T15:31:05.667Z"
   },
   {
    "duration": 0,
    "start_time": "2022-09-06T15:31:05.668Z"
   },
   {
    "duration": 0,
    "start_time": "2022-09-06T15:31:05.669Z"
   },
   {
    "duration": 0,
    "start_time": "2022-09-06T15:31:05.670Z"
   },
   {
    "duration": 0,
    "start_time": "2022-09-06T15:31:05.671Z"
   },
   {
    "duration": 0,
    "start_time": "2022-09-06T15:31:05.672Z"
   },
   {
    "duration": 0,
    "start_time": "2022-09-06T15:31:05.673Z"
   },
   {
    "duration": 0,
    "start_time": "2022-09-06T15:31:05.674Z"
   },
   {
    "duration": 0,
    "start_time": "2022-09-06T15:31:05.675Z"
   },
   {
    "duration": 0,
    "start_time": "2022-09-06T15:31:05.676Z"
   },
   {
    "duration": 0,
    "start_time": "2022-09-06T15:31:05.677Z"
   },
   {
    "duration": 0,
    "start_time": "2022-09-06T15:31:05.686Z"
   },
   {
    "duration": 0,
    "start_time": "2022-09-06T15:31:05.690Z"
   },
   {
    "duration": 1970,
    "start_time": "2022-09-06T15:31:29.950Z"
   },
   {
    "duration": 8,
    "start_time": "2022-09-06T15:33:01.185Z"
   },
   {
    "duration": 2913,
    "start_time": "2022-09-06T15:33:12.914Z"
   },
   {
    "duration": 2665,
    "start_time": "2022-09-06T15:33:15.829Z"
   },
   {
    "duration": 12,
    "start_time": "2022-09-06T15:33:18.496Z"
   },
   {
    "duration": 395,
    "start_time": "2022-09-06T15:33:18.510Z"
   },
   {
    "duration": 25,
    "start_time": "2022-09-06T15:33:18.907Z"
   },
   {
    "duration": 252,
    "start_time": "2022-09-06T15:33:18.933Z"
   },
   {
    "duration": 14,
    "start_time": "2022-09-06T15:33:19.187Z"
   },
   {
    "duration": 9,
    "start_time": "2022-09-06T15:33:19.203Z"
   },
   {
    "duration": 15,
    "start_time": "2022-09-06T15:33:19.214Z"
   },
   {
    "duration": 79,
    "start_time": "2022-09-06T15:33:19.231Z"
   },
   {
    "duration": 4,
    "start_time": "2022-09-06T15:33:19.312Z"
   },
   {
    "duration": 11,
    "start_time": "2022-09-06T15:33:19.318Z"
   },
   {
    "duration": 69,
    "start_time": "2022-09-06T15:33:19.331Z"
   },
   {
    "duration": 205,
    "start_time": "2022-09-06T15:33:19.402Z"
   },
   {
    "duration": 3149,
    "start_time": "2022-09-06T15:37:28.988Z"
   },
   {
    "duration": 2563,
    "start_time": "2022-09-06T15:37:32.138Z"
   },
   {
    "duration": 12,
    "start_time": "2022-09-06T15:37:34.703Z"
   },
   {
    "duration": 396,
    "start_time": "2022-09-06T15:37:34.717Z"
   },
   {
    "duration": 26,
    "start_time": "2022-09-06T15:37:35.115Z"
   },
   {
    "duration": 236,
    "start_time": "2022-09-06T15:37:35.143Z"
   },
   {
    "duration": 23,
    "start_time": "2022-09-06T15:37:35.381Z"
   },
   {
    "duration": 10,
    "start_time": "2022-09-06T15:37:35.406Z"
   },
   {
    "duration": 20,
    "start_time": "2022-09-06T15:37:35.417Z"
   },
   {
    "duration": 67,
    "start_time": "2022-09-06T15:37:35.438Z"
   },
   {
    "duration": 5,
    "start_time": "2022-09-06T15:37:35.507Z"
   },
   {
    "duration": 18,
    "start_time": "2022-09-06T15:37:35.513Z"
   },
   {
    "duration": 65,
    "start_time": "2022-09-06T15:37:35.533Z"
   },
   {
    "duration": 181,
    "start_time": "2022-09-06T15:37:35.601Z"
   },
   {
    "duration": 3151,
    "start_time": "2022-09-06T15:38:09.918Z"
   },
   {
    "duration": 2782,
    "start_time": "2022-09-06T15:38:13.071Z"
   },
   {
    "duration": 16,
    "start_time": "2022-09-06T15:38:15.855Z"
   },
   {
    "duration": 435,
    "start_time": "2022-09-06T15:38:15.873Z"
   },
   {
    "duration": 28,
    "start_time": "2022-09-06T15:38:16.311Z"
   },
   {
    "duration": 291,
    "start_time": "2022-09-06T15:38:16.341Z"
   },
   {
    "duration": 17,
    "start_time": "2022-09-06T15:38:16.635Z"
   },
   {
    "duration": 17,
    "start_time": "2022-09-06T15:38:16.654Z"
   },
   {
    "duration": 47,
    "start_time": "2022-09-06T15:38:16.673Z"
   },
   {
    "duration": 64,
    "start_time": "2022-09-06T15:38:16.722Z"
   },
   {
    "duration": 4,
    "start_time": "2022-09-06T15:38:16.787Z"
   },
   {
    "duration": 4,
    "start_time": "2022-09-06T15:38:16.793Z"
   },
   {
    "duration": 68,
    "start_time": "2022-09-06T15:38:16.798Z"
   },
   {
    "duration": 230,
    "start_time": "2022-09-06T15:38:16.870Z"
   },
   {
    "duration": 3151,
    "start_time": "2022-09-06T15:38:33.549Z"
   },
   {
    "duration": 2598,
    "start_time": "2022-09-06T15:38:36.705Z"
   },
   {
    "duration": 11,
    "start_time": "2022-09-06T15:38:39.305Z"
   },
   {
    "duration": 418,
    "start_time": "2022-09-06T15:38:39.318Z"
   },
   {
    "duration": 25,
    "start_time": "2022-09-06T15:38:39.738Z"
   },
   {
    "duration": 251,
    "start_time": "2022-09-06T15:38:39.765Z"
   },
   {
    "duration": 15,
    "start_time": "2022-09-06T15:38:40.018Z"
   },
   {
    "duration": 29,
    "start_time": "2022-09-06T15:38:40.035Z"
   },
   {
    "duration": 45,
    "start_time": "2022-09-06T15:38:40.066Z"
   },
   {
    "duration": 70,
    "start_time": "2022-09-06T15:38:40.113Z"
   },
   {
    "duration": 11,
    "start_time": "2022-09-06T15:38:40.185Z"
   },
   {
    "duration": 19,
    "start_time": "2022-09-06T15:38:40.197Z"
   },
   {
    "duration": 78,
    "start_time": "2022-09-06T15:38:40.218Z"
   },
   {
    "duration": 212,
    "start_time": "2022-09-06T15:38:40.303Z"
   },
   {
    "duration": 3201,
    "start_time": "2022-09-06T15:38:54.238Z"
   },
   {
    "duration": 2815,
    "start_time": "2022-09-06T15:38:57.440Z"
   },
   {
    "duration": 11,
    "start_time": "2022-09-06T15:39:00.257Z"
   },
   {
    "duration": 439,
    "start_time": "2022-09-06T15:39:00.270Z"
   },
   {
    "duration": 26,
    "start_time": "2022-09-06T15:39:00.712Z"
   },
   {
    "duration": 259,
    "start_time": "2022-09-06T15:39:00.740Z"
   },
   {
    "duration": 17,
    "start_time": "2022-09-06T15:39:01.004Z"
   },
   {
    "duration": 22,
    "start_time": "2022-09-06T15:39:01.023Z"
   },
   {
    "duration": 20,
    "start_time": "2022-09-06T15:39:01.046Z"
   },
   {
    "duration": 104,
    "start_time": "2022-09-06T15:39:01.068Z"
   },
   {
    "duration": 4,
    "start_time": "2022-09-06T15:39:01.174Z"
   },
   {
    "duration": 36,
    "start_time": "2022-09-06T15:39:01.179Z"
   },
   {
    "duration": 80,
    "start_time": "2022-09-06T15:39:01.217Z"
   },
   {
    "duration": 181,
    "start_time": "2022-09-06T15:39:01.300Z"
   },
   {
    "duration": 3671,
    "start_time": "2022-09-06T15:39:15.067Z"
   },
   {
    "duration": 2583,
    "start_time": "2022-09-06T15:39:18.740Z"
   },
   {
    "duration": 12,
    "start_time": "2022-09-06T15:39:21.325Z"
   },
   {
    "duration": 475,
    "start_time": "2022-09-06T15:39:21.338Z"
   },
   {
    "duration": 26,
    "start_time": "2022-09-06T15:39:21.814Z"
   },
   {
    "duration": 261,
    "start_time": "2022-09-06T15:39:21.842Z"
   },
   {
    "duration": 13,
    "start_time": "2022-09-06T15:39:22.105Z"
   },
   {
    "duration": 12,
    "start_time": "2022-09-06T15:39:22.120Z"
   },
   {
    "duration": 13,
    "start_time": "2022-09-06T15:39:22.133Z"
   },
   {
    "duration": 75,
    "start_time": "2022-09-06T15:39:22.149Z"
   },
   {
    "duration": 4,
    "start_time": "2022-09-06T15:39:22.226Z"
   },
   {
    "duration": 5,
    "start_time": "2022-09-06T15:39:22.232Z"
   },
   {
    "duration": 69,
    "start_time": "2022-09-06T15:39:22.239Z"
   },
   {
    "duration": 205,
    "start_time": "2022-09-06T15:39:22.310Z"
   },
   {
    "duration": 3294,
    "start_time": "2022-09-06T15:40:21.821Z"
   },
   {
    "duration": 2648,
    "start_time": "2022-09-06T15:40:25.117Z"
   },
   {
    "duration": 11,
    "start_time": "2022-09-06T15:40:27.767Z"
   },
   {
    "duration": 424,
    "start_time": "2022-09-06T15:40:27.781Z"
   },
   {
    "duration": 26,
    "start_time": "2022-09-06T15:40:28.207Z"
   },
   {
    "duration": 262,
    "start_time": "2022-09-06T15:40:28.235Z"
   },
   {
    "duration": 16,
    "start_time": "2022-09-06T15:40:28.503Z"
   },
   {
    "duration": 27,
    "start_time": "2022-09-06T15:40:28.520Z"
   },
   {
    "duration": 34,
    "start_time": "2022-09-06T15:40:28.549Z"
   },
   {
    "duration": 79,
    "start_time": "2022-09-06T15:40:28.586Z"
   },
   {
    "duration": 5,
    "start_time": "2022-09-06T15:40:28.666Z"
   },
   {
    "duration": 34,
    "start_time": "2022-09-06T15:40:28.672Z"
   },
   {
    "duration": 82,
    "start_time": "2022-09-06T15:40:28.707Z"
   },
   {
    "duration": 184,
    "start_time": "2022-09-06T15:40:28.797Z"
   },
   {
    "duration": 3017,
    "start_time": "2022-09-06T15:40:58.141Z"
   },
   {
    "duration": 3035,
    "start_time": "2022-09-06T15:41:01.160Z"
   },
   {
    "duration": 12,
    "start_time": "2022-09-06T15:41:04.200Z"
   },
   {
    "duration": 427,
    "start_time": "2022-09-06T15:41:04.215Z"
   },
   {
    "duration": 26,
    "start_time": "2022-09-06T15:41:04.643Z"
   },
   {
    "duration": 252,
    "start_time": "2022-09-06T15:41:04.670Z"
   },
   {
    "duration": 13,
    "start_time": "2022-09-06T15:41:04.923Z"
   },
   {
    "duration": 9,
    "start_time": "2022-09-06T15:41:04.938Z"
   },
   {
    "duration": 12,
    "start_time": "2022-09-06T15:41:04.949Z"
   },
   {
    "duration": 83,
    "start_time": "2022-09-06T15:41:04.964Z"
   },
   {
    "duration": 3,
    "start_time": "2022-09-06T15:41:05.049Z"
   },
   {
    "duration": 9,
    "start_time": "2022-09-06T15:41:05.054Z"
   },
   {
    "duration": 65,
    "start_time": "2022-09-06T15:41:05.064Z"
   },
   {
    "duration": 200,
    "start_time": "2022-09-06T15:41:05.131Z"
   },
   {
    "duration": 3132,
    "start_time": "2022-09-06T15:41:25.605Z"
   },
   {
    "duration": 2610,
    "start_time": "2022-09-06T15:41:28.739Z"
   },
   {
    "duration": 12,
    "start_time": "2022-09-06T15:41:31.350Z"
   },
   {
    "duration": 459,
    "start_time": "2022-09-06T15:41:31.364Z"
   },
   {
    "duration": 26,
    "start_time": "2022-09-06T15:41:31.826Z"
   },
   {
    "duration": 253,
    "start_time": "2022-09-06T15:41:31.854Z"
   },
   {
    "duration": 13,
    "start_time": "2022-09-06T15:41:32.109Z"
   },
   {
    "duration": 25,
    "start_time": "2022-09-06T15:41:32.124Z"
   },
   {
    "duration": 25,
    "start_time": "2022-09-06T15:41:32.150Z"
   },
   {
    "duration": 108,
    "start_time": "2022-09-06T15:41:32.176Z"
   },
   {
    "duration": 6,
    "start_time": "2022-09-06T15:41:32.286Z"
   },
   {
    "duration": 4,
    "start_time": "2022-09-06T15:41:32.294Z"
   },
   {
    "duration": 94,
    "start_time": "2022-09-06T15:41:32.300Z"
   },
   {
    "duration": 185,
    "start_time": "2022-09-06T15:41:32.401Z"
   },
   {
    "duration": 3090,
    "start_time": "2022-09-06T15:41:50.814Z"
   },
   {
    "duration": 2629,
    "start_time": "2022-09-06T15:41:53.906Z"
   },
   {
    "duration": 14,
    "start_time": "2022-09-06T15:41:56.537Z"
   },
   {
    "duration": 448,
    "start_time": "2022-09-06T15:41:56.553Z"
   },
   {
    "duration": 26,
    "start_time": "2022-09-06T15:41:57.003Z"
   },
   {
    "duration": 239,
    "start_time": "2022-09-06T15:41:57.031Z"
   },
   {
    "duration": 22,
    "start_time": "2022-09-06T15:41:57.271Z"
   },
   {
    "duration": 43,
    "start_time": "2022-09-06T15:41:57.301Z"
   },
   {
    "duration": 16,
    "start_time": "2022-09-06T15:41:57.345Z"
   },
   {
    "duration": 67,
    "start_time": "2022-09-06T15:41:57.363Z"
   },
   {
    "duration": 4,
    "start_time": "2022-09-06T15:41:57.432Z"
   },
   {
    "duration": 26,
    "start_time": "2022-09-06T15:41:57.438Z"
   },
   {
    "duration": 66,
    "start_time": "2022-09-06T15:41:57.466Z"
   },
   {
    "duration": 205,
    "start_time": "2022-09-06T15:41:57.537Z"
   },
   {
    "duration": 3048,
    "start_time": "2022-09-06T15:43:08.254Z"
   },
   {
    "duration": 2579,
    "start_time": "2022-09-06T15:43:11.305Z"
   },
   {
    "duration": 24,
    "start_time": "2022-09-06T15:43:13.886Z"
   },
   {
    "duration": 403,
    "start_time": "2022-09-06T15:43:13.912Z"
   },
   {
    "duration": 25,
    "start_time": "2022-09-06T15:43:14.317Z"
   },
   {
    "duration": 244,
    "start_time": "2022-09-06T15:43:14.344Z"
   },
   {
    "duration": 14,
    "start_time": "2022-09-06T15:43:14.602Z"
   },
   {
    "duration": 14,
    "start_time": "2022-09-06T15:43:14.618Z"
   },
   {
    "duration": 18,
    "start_time": "2022-09-06T15:43:14.633Z"
   },
   {
    "duration": 72,
    "start_time": "2022-09-06T15:43:14.654Z"
   },
   {
    "duration": 5,
    "start_time": "2022-09-06T15:43:14.728Z"
   },
   {
    "duration": 17,
    "start_time": "2022-09-06T15:43:14.734Z"
   },
   {
    "duration": 71,
    "start_time": "2022-09-06T15:43:14.753Z"
   },
   {
    "duration": 190,
    "start_time": "2022-09-06T15:43:14.826Z"
   },
   {
    "duration": 1400,
    "start_time": "2022-09-06T15:43:40.596Z"
   },
   {
    "duration": 0,
    "start_time": "2022-09-06T15:43:42.003Z"
   },
   {
    "duration": 0,
    "start_time": "2022-09-06T15:43:42.005Z"
   },
   {
    "duration": 0,
    "start_time": "2022-09-06T15:43:42.008Z"
   },
   {
    "duration": 0,
    "start_time": "2022-09-06T15:43:42.010Z"
   },
   {
    "duration": 0,
    "start_time": "2022-09-06T15:43:42.011Z"
   },
   {
    "duration": 0,
    "start_time": "2022-09-06T15:43:42.012Z"
   },
   {
    "duration": 0,
    "start_time": "2022-09-06T15:43:42.014Z"
   },
   {
    "duration": 0,
    "start_time": "2022-09-06T15:43:42.015Z"
   },
   {
    "duration": 0,
    "start_time": "2022-09-06T15:43:42.016Z"
   },
   {
    "duration": 0,
    "start_time": "2022-09-06T15:43:42.018Z"
   },
   {
    "duration": 0,
    "start_time": "2022-09-06T15:43:42.019Z"
   },
   {
    "duration": 0,
    "start_time": "2022-09-06T15:43:42.020Z"
   },
   {
    "duration": 0,
    "start_time": "2022-09-06T15:43:42.021Z"
   },
   {
    "duration": 0,
    "start_time": "2022-09-06T15:43:42.022Z"
   },
   {
    "duration": 0,
    "start_time": "2022-09-06T15:43:42.023Z"
   },
   {
    "duration": 0,
    "start_time": "2022-09-06T15:43:42.024Z"
   },
   {
    "duration": 0,
    "start_time": "2022-09-06T15:43:42.025Z"
   },
   {
    "duration": 0,
    "start_time": "2022-09-06T15:43:42.026Z"
   },
   {
    "duration": 0,
    "start_time": "2022-09-06T15:43:42.027Z"
   },
   {
    "duration": 0,
    "start_time": "2022-09-06T15:43:42.029Z"
   },
   {
    "duration": 0,
    "start_time": "2022-09-06T15:43:42.030Z"
   },
   {
    "duration": 0,
    "start_time": "2022-09-06T15:43:42.031Z"
   },
   {
    "duration": 0,
    "start_time": "2022-09-06T15:43:42.032Z"
   },
   {
    "duration": 0,
    "start_time": "2022-09-06T15:43:42.035Z"
   },
   {
    "duration": 0,
    "start_time": "2022-09-06T15:43:42.036Z"
   },
   {
    "duration": 0,
    "start_time": "2022-09-06T15:43:42.038Z"
   },
   {
    "duration": 0,
    "start_time": "2022-09-06T15:43:42.039Z"
   },
   {
    "duration": 0,
    "start_time": "2022-09-06T15:43:42.089Z"
   },
   {
    "duration": 0,
    "start_time": "2022-09-06T15:43:42.090Z"
   },
   {
    "duration": 0,
    "start_time": "2022-09-06T15:43:42.090Z"
   },
   {
    "duration": 0,
    "start_time": "2022-09-06T15:43:42.091Z"
   },
   {
    "duration": 0,
    "start_time": "2022-09-06T15:43:42.092Z"
   },
   {
    "duration": 0,
    "start_time": "2022-09-06T15:43:42.099Z"
   },
   {
    "duration": 0,
    "start_time": "2022-09-06T15:43:42.102Z"
   },
   {
    "duration": 3159,
    "start_time": "2022-09-06T15:44:09.842Z"
   },
   {
    "duration": 2608,
    "start_time": "2022-09-06T15:44:13.005Z"
   },
   {
    "duration": 11,
    "start_time": "2022-09-06T15:44:15.615Z"
   },
   {
    "duration": 483,
    "start_time": "2022-09-06T15:44:15.628Z"
   },
   {
    "duration": 27,
    "start_time": "2022-09-06T15:44:16.113Z"
   },
   {
    "duration": 287,
    "start_time": "2022-09-06T15:44:16.142Z"
   },
   {
    "duration": 17,
    "start_time": "2022-09-06T15:44:16.430Z"
   },
   {
    "duration": 23,
    "start_time": "2022-09-06T15:44:16.449Z"
   },
   {
    "duration": 28,
    "start_time": "2022-09-06T15:44:16.474Z"
   },
   {
    "duration": 96,
    "start_time": "2022-09-06T15:44:16.511Z"
   },
   {
    "duration": 6,
    "start_time": "2022-09-06T15:44:16.609Z"
   },
   {
    "duration": 22,
    "start_time": "2022-09-06T15:44:16.620Z"
   },
   {
    "duration": 79,
    "start_time": "2022-09-06T15:44:16.644Z"
   },
   {
    "duration": 218,
    "start_time": "2022-09-06T15:44:16.726Z"
   },
   {
    "duration": 3099,
    "start_time": "2022-09-06T15:47:34.731Z"
   },
   {
    "duration": 2591,
    "start_time": "2022-09-06T15:47:37.832Z"
   },
   {
    "duration": 14,
    "start_time": "2022-09-06T15:47:40.425Z"
   },
   {
    "duration": 480,
    "start_time": "2022-09-06T15:47:40.442Z"
   },
   {
    "duration": 26,
    "start_time": "2022-09-06T15:47:40.924Z"
   },
   {
    "duration": 245,
    "start_time": "2022-09-06T15:47:40.952Z"
   },
   {
    "duration": 15,
    "start_time": "2022-09-06T15:47:41.198Z"
   },
   {
    "duration": 17,
    "start_time": "2022-09-06T15:47:41.214Z"
   },
   {
    "duration": 15,
    "start_time": "2022-09-06T15:47:41.233Z"
   },
   {
    "duration": 82,
    "start_time": "2022-09-06T15:47:41.250Z"
   },
   {
    "duration": 4,
    "start_time": "2022-09-06T15:47:41.333Z"
   },
   {
    "duration": 14,
    "start_time": "2022-09-06T15:47:41.338Z"
   },
   {
    "duration": 69,
    "start_time": "2022-09-06T15:47:41.353Z"
   },
   {
    "duration": 183,
    "start_time": "2022-09-06T15:47:41.424Z"
   },
   {
    "duration": 3110,
    "start_time": "2022-09-06T15:47:55.902Z"
   },
   {
    "duration": 2987,
    "start_time": "2022-09-06T15:47:59.014Z"
   },
   {
    "duration": 15,
    "start_time": "2022-09-06T15:48:02.002Z"
   },
   {
    "duration": 453,
    "start_time": "2022-09-06T15:48:02.018Z"
   },
   {
    "duration": 35,
    "start_time": "2022-09-06T15:48:02.473Z"
   },
   {
    "duration": 260,
    "start_time": "2022-09-06T15:48:02.510Z"
   },
   {
    "duration": 27,
    "start_time": "2022-09-06T15:48:02.772Z"
   },
   {
    "duration": 56,
    "start_time": "2022-09-06T15:48:02.801Z"
   },
   {
    "duration": 66,
    "start_time": "2022-09-06T15:48:02.859Z"
   },
   {
    "duration": 106,
    "start_time": "2022-09-06T15:48:02.926Z"
   },
   {
    "duration": 3,
    "start_time": "2022-09-06T15:48:03.035Z"
   },
   {
    "duration": 25,
    "start_time": "2022-09-06T15:48:03.040Z"
   },
   {
    "duration": 62,
    "start_time": "2022-09-06T15:48:03.066Z"
   },
   {
    "duration": 188,
    "start_time": "2022-09-06T15:48:03.130Z"
   },
   {
    "duration": 3278,
    "start_time": "2022-09-06T15:48:17.635Z"
   },
   {
    "duration": 2642,
    "start_time": "2022-09-06T15:48:20.915Z"
   },
   {
    "duration": 13,
    "start_time": "2022-09-06T15:48:23.559Z"
   },
   {
    "duration": 448,
    "start_time": "2022-09-06T15:48:23.574Z"
   },
   {
    "duration": 29,
    "start_time": "2022-09-06T15:48:24.024Z"
   },
   {
    "duration": 255,
    "start_time": "2022-09-06T15:48:24.055Z"
   },
   {
    "duration": 20,
    "start_time": "2022-09-06T15:48:24.312Z"
   },
   {
    "duration": 12,
    "start_time": "2022-09-06T15:48:24.334Z"
   },
   {
    "duration": 13,
    "start_time": "2022-09-06T15:48:24.347Z"
   },
   {
    "duration": 75,
    "start_time": "2022-09-06T15:48:24.363Z"
   },
   {
    "duration": 4,
    "start_time": "2022-09-06T15:48:24.439Z"
   },
   {
    "duration": 6,
    "start_time": "2022-09-06T15:48:24.445Z"
   },
   {
    "duration": 79,
    "start_time": "2022-09-06T15:48:24.452Z"
   },
   {
    "duration": 195,
    "start_time": "2022-09-06T15:48:24.532Z"
   },
   {
    "duration": 3067,
    "start_time": "2022-09-06T15:48:40.018Z"
   },
   {
    "duration": 2603,
    "start_time": "2022-09-06T15:48:43.089Z"
   },
   {
    "duration": 21,
    "start_time": "2022-09-06T15:48:45.694Z"
   },
   {
    "duration": 427,
    "start_time": "2022-09-06T15:48:45.718Z"
   },
   {
    "duration": 25,
    "start_time": "2022-09-06T15:48:46.147Z"
   },
   {
    "duration": 281,
    "start_time": "2022-09-06T15:48:46.174Z"
   },
   {
    "duration": 15,
    "start_time": "2022-09-06T15:48:46.457Z"
   },
   {
    "duration": 18,
    "start_time": "2022-09-06T15:48:46.489Z"
   },
   {
    "duration": 25,
    "start_time": "2022-09-06T15:48:46.511Z"
   },
   {
    "duration": 100,
    "start_time": "2022-09-06T15:48:46.539Z"
   },
   {
    "duration": 4,
    "start_time": "2022-09-06T15:48:46.642Z"
   },
   {
    "duration": 11,
    "start_time": "2022-09-06T15:48:46.648Z"
   },
   {
    "duration": 68,
    "start_time": "2022-09-06T15:48:46.662Z"
   },
   {
    "duration": 192,
    "start_time": "2022-09-06T15:48:46.732Z"
   },
   {
    "duration": 3212,
    "start_time": "2022-09-06T15:49:01.227Z"
   },
   {
    "duration": 2859,
    "start_time": "2022-09-06T15:49:04.442Z"
   },
   {
    "duration": 15,
    "start_time": "2022-09-06T15:49:07.304Z"
   },
   {
    "duration": 456,
    "start_time": "2022-09-06T15:49:07.321Z"
   },
   {
    "duration": 42,
    "start_time": "2022-09-06T15:49:07.779Z"
   },
   {
    "duration": 249,
    "start_time": "2022-09-06T15:49:07.823Z"
   },
   {
    "duration": 21,
    "start_time": "2022-09-06T15:49:08.074Z"
   },
   {
    "duration": 14,
    "start_time": "2022-09-06T15:49:08.098Z"
   },
   {
    "duration": 15,
    "start_time": "2022-09-06T15:49:08.114Z"
   },
   {
    "duration": 70,
    "start_time": "2022-09-06T15:49:08.131Z"
   },
   {
    "duration": 4,
    "start_time": "2022-09-06T15:49:08.205Z"
   },
   {
    "duration": 7,
    "start_time": "2022-09-06T15:49:08.211Z"
   },
   {
    "duration": 61,
    "start_time": "2022-09-06T15:49:08.220Z"
   },
   {
    "duration": 188,
    "start_time": "2022-09-06T15:49:08.282Z"
   },
   {
    "duration": 3364,
    "start_time": "2022-09-06T15:49:24.522Z"
   },
   {
    "duration": 2674,
    "start_time": "2022-09-06T15:49:27.898Z"
   },
   {
    "duration": 18,
    "start_time": "2022-09-06T15:49:30.575Z"
   },
   {
    "duration": 421,
    "start_time": "2022-09-06T15:49:30.595Z"
   },
   {
    "duration": 26,
    "start_time": "2022-09-06T15:49:31.018Z"
   },
   {
    "duration": 254,
    "start_time": "2022-09-06T15:49:31.046Z"
   },
   {
    "duration": 13,
    "start_time": "2022-09-06T15:49:31.302Z"
   },
   {
    "duration": 17,
    "start_time": "2022-09-06T15:49:31.317Z"
   },
   {
    "duration": 40,
    "start_time": "2022-09-06T15:49:31.336Z"
   },
   {
    "duration": 85,
    "start_time": "2022-09-06T15:49:31.378Z"
   },
   {
    "duration": 4,
    "start_time": "2022-09-06T15:49:31.465Z"
   },
   {
    "duration": 45,
    "start_time": "2022-09-06T15:49:31.470Z"
   },
   {
    "duration": 122,
    "start_time": "2022-09-06T15:49:31.516Z"
   },
   {
    "duration": 189,
    "start_time": "2022-09-06T15:49:31.640Z"
   },
   {
    "duration": 4442,
    "start_time": "2022-09-06T15:49:59.785Z"
   },
   {
    "duration": 2782,
    "start_time": "2022-09-06T15:50:04.229Z"
   },
   {
    "duration": 13,
    "start_time": "2022-09-06T15:50:07.013Z"
   },
   {
    "duration": 465,
    "start_time": "2022-09-06T15:50:07.028Z"
   },
   {
    "duration": 27,
    "start_time": "2022-09-06T15:50:07.496Z"
   },
   {
    "duration": 254,
    "start_time": "2022-09-06T15:50:07.525Z"
   },
   {
    "duration": 22,
    "start_time": "2022-09-06T15:50:07.781Z"
   },
   {
    "duration": 7,
    "start_time": "2022-09-06T15:50:07.805Z"
   },
   {
    "duration": 16,
    "start_time": "2022-09-06T15:50:07.813Z"
   },
   {
    "duration": 82,
    "start_time": "2022-09-06T15:50:07.830Z"
   },
   {
    "duration": 5,
    "start_time": "2022-09-06T15:50:07.915Z"
   },
   {
    "duration": 20,
    "start_time": "2022-09-06T15:50:07.922Z"
   },
   {
    "duration": 80,
    "start_time": "2022-09-06T15:50:07.944Z"
   },
   {
    "duration": 207,
    "start_time": "2022-09-06T15:50:08.027Z"
   },
   {
    "duration": 3531,
    "start_time": "2022-09-06T16:30:34.745Z"
   },
   {
    "duration": 2323,
    "start_time": "2022-09-06T16:30:38.278Z"
   },
   {
    "duration": 12,
    "start_time": "2022-09-06T16:30:40.602Z"
   },
   {
    "duration": 426,
    "start_time": "2022-09-06T16:30:40.615Z"
   },
   {
    "duration": 24,
    "start_time": "2022-09-06T16:30:41.043Z"
   },
   {
    "duration": 236,
    "start_time": "2022-09-06T16:30:41.069Z"
   },
   {
    "duration": 13,
    "start_time": "2022-09-06T16:30:41.306Z"
   },
   {
    "duration": 24,
    "start_time": "2022-09-06T16:30:41.320Z"
   },
   {
    "duration": 28,
    "start_time": "2022-09-06T16:30:41.345Z"
   },
   {
    "duration": 74,
    "start_time": "2022-09-06T16:30:41.374Z"
   },
   {
    "duration": 5,
    "start_time": "2022-09-06T16:30:41.449Z"
   },
   {
    "duration": 25,
    "start_time": "2022-09-06T16:30:41.455Z"
   },
   {
    "duration": 73,
    "start_time": "2022-09-06T16:30:41.482Z"
   },
   {
    "duration": 171,
    "start_time": "2022-09-06T16:30:41.559Z"
   },
   {
    "duration": 3738,
    "start_time": "2022-09-06T17:57:45.825Z"
   },
   {
    "duration": 2253,
    "start_time": "2022-09-06T17:57:49.565Z"
   },
   {
    "duration": 11,
    "start_time": "2022-09-06T17:57:51.819Z"
   },
   {
    "duration": 313,
    "start_time": "2022-09-06T17:57:51.831Z"
   },
   {
    "duration": 26,
    "start_time": "2022-09-06T17:57:52.146Z"
   },
   {
    "duration": 233,
    "start_time": "2022-09-06T17:57:52.173Z"
   },
   {
    "duration": 14,
    "start_time": "2022-09-06T17:57:52.409Z"
   },
   {
    "duration": 13,
    "start_time": "2022-09-06T17:57:52.424Z"
   },
   {
    "duration": 19,
    "start_time": "2022-09-06T17:57:52.438Z"
   },
   {
    "duration": 62,
    "start_time": "2022-09-06T17:57:52.459Z"
   },
   {
    "duration": 4,
    "start_time": "2022-09-06T17:57:52.522Z"
   },
   {
    "duration": 10,
    "start_time": "2022-09-06T17:57:52.528Z"
   },
   {
    "duration": 63,
    "start_time": "2022-09-06T17:57:52.540Z"
   },
   {
    "duration": 175,
    "start_time": "2022-09-06T17:57:52.610Z"
   },
   {
    "duration": 3052,
    "start_time": "2022-09-06T17:58:24.958Z"
   },
   {
    "duration": 2214,
    "start_time": "2022-09-06T17:58:28.012Z"
   },
   {
    "duration": 12,
    "start_time": "2022-09-06T17:58:30.228Z"
   },
   {
    "duration": 425,
    "start_time": "2022-09-06T17:58:30.242Z"
   },
   {
    "duration": 27,
    "start_time": "2022-09-06T17:58:30.669Z"
   },
   {
    "duration": 242,
    "start_time": "2022-09-06T17:58:30.698Z"
   },
   {
    "duration": 15,
    "start_time": "2022-09-06T17:58:30.941Z"
   },
   {
    "duration": 12,
    "start_time": "2022-09-06T17:58:30.958Z"
   },
   {
    "duration": 17,
    "start_time": "2022-09-06T17:58:30.971Z"
   },
   {
    "duration": 66,
    "start_time": "2022-09-06T17:58:30.991Z"
   },
   {
    "duration": 4,
    "start_time": "2022-09-06T17:58:31.059Z"
   },
   {
    "duration": 21,
    "start_time": "2022-09-06T17:58:31.065Z"
   },
   {
    "duration": 72,
    "start_time": "2022-09-06T17:58:31.088Z"
   },
   {
    "duration": 180,
    "start_time": "2022-09-06T17:58:31.163Z"
   },
   {
    "duration": 3096,
    "start_time": "2022-09-06T17:58:47.089Z"
   },
   {
    "duration": 2219,
    "start_time": "2022-09-06T17:58:50.187Z"
   },
   {
    "duration": 11,
    "start_time": "2022-09-06T17:58:52.407Z"
   },
   {
    "duration": 391,
    "start_time": "2022-09-06T17:58:52.420Z"
   },
   {
    "duration": 26,
    "start_time": "2022-09-06T17:58:52.813Z"
   },
   {
    "duration": 237,
    "start_time": "2022-09-06T17:58:52.841Z"
   },
   {
    "duration": 14,
    "start_time": "2022-09-06T17:58:53.079Z"
   },
   {
    "duration": 19,
    "start_time": "2022-09-06T17:58:53.095Z"
   },
   {
    "duration": 15,
    "start_time": "2022-09-06T17:58:53.115Z"
   },
   {
    "duration": 59,
    "start_time": "2022-09-06T17:58:53.132Z"
   },
   {
    "duration": 4,
    "start_time": "2022-09-06T17:58:53.193Z"
   },
   {
    "duration": 3,
    "start_time": "2022-09-06T17:58:53.209Z"
   },
   {
    "duration": 63,
    "start_time": "2022-09-06T17:58:53.214Z"
   },
   {
    "duration": 186,
    "start_time": "2022-09-06T17:58:53.279Z"
   },
   {
    "duration": 3093,
    "start_time": "2022-09-06T17:59:24.363Z"
   },
   {
    "duration": 2228,
    "start_time": "2022-09-06T17:59:27.461Z"
   },
   {
    "duration": 12,
    "start_time": "2022-09-06T17:59:29.691Z"
   },
   {
    "duration": 397,
    "start_time": "2022-09-06T17:59:29.705Z"
   },
   {
    "duration": 27,
    "start_time": "2022-09-06T17:59:30.108Z"
   },
   {
    "duration": 231,
    "start_time": "2022-09-06T17:59:30.137Z"
   },
   {
    "duration": 14,
    "start_time": "2022-09-06T17:59:30.370Z"
   },
   {
    "duration": 24,
    "start_time": "2022-09-06T17:59:30.386Z"
   },
   {
    "duration": 14,
    "start_time": "2022-09-06T17:59:30.412Z"
   },
   {
    "duration": 89,
    "start_time": "2022-09-06T17:59:30.428Z"
   },
   {
    "duration": 4,
    "start_time": "2022-09-06T17:59:30.519Z"
   },
   {
    "duration": 25,
    "start_time": "2022-09-06T17:59:30.524Z"
   },
   {
    "duration": 86,
    "start_time": "2022-09-06T17:59:30.551Z"
   },
   {
    "duration": 184,
    "start_time": "2022-09-06T17:59:30.640Z"
   },
   {
    "duration": 3606,
    "start_time": "2022-09-06T18:00:00.928Z"
   },
   {
    "duration": 2259,
    "start_time": "2022-09-06T18:00:04.536Z"
   },
   {
    "duration": 13,
    "start_time": "2022-09-06T18:00:06.796Z"
   },
   {
    "duration": 410,
    "start_time": "2022-09-06T18:00:06.811Z"
   },
   {
    "duration": 29,
    "start_time": "2022-09-06T18:00:07.223Z"
   },
   {
    "duration": 271,
    "start_time": "2022-09-06T18:00:07.254Z"
   },
   {
    "duration": 12,
    "start_time": "2022-09-06T18:00:07.527Z"
   },
   {
    "duration": 27,
    "start_time": "2022-09-06T18:00:07.540Z"
   },
   {
    "duration": 39,
    "start_time": "2022-09-06T18:00:07.568Z"
   },
   {
    "duration": 83,
    "start_time": "2022-09-06T18:00:07.610Z"
   },
   {
    "duration": 5,
    "start_time": "2022-09-06T18:00:07.695Z"
   },
   {
    "duration": 29,
    "start_time": "2022-09-06T18:00:07.701Z"
   },
   {
    "duration": 88,
    "start_time": "2022-09-06T18:00:07.732Z"
   },
   {
    "duration": 187,
    "start_time": "2022-09-06T18:00:07.822Z"
   },
   {
    "duration": 3172,
    "start_time": "2022-09-06T18:00:26.686Z"
   },
   {
    "duration": 2217,
    "start_time": "2022-09-06T18:00:29.860Z"
   },
   {
    "duration": 11,
    "start_time": "2022-09-06T18:00:32.079Z"
   },
   {
    "duration": 418,
    "start_time": "2022-09-06T18:00:32.091Z"
   },
   {
    "duration": 25,
    "start_time": "2022-09-06T18:00:32.511Z"
   },
   {
    "duration": 223,
    "start_time": "2022-09-06T18:00:32.537Z"
   },
   {
    "duration": 13,
    "start_time": "2022-09-06T18:00:32.761Z"
   },
   {
    "duration": 9,
    "start_time": "2022-09-06T18:00:32.776Z"
   },
   {
    "duration": 22,
    "start_time": "2022-09-06T18:00:32.787Z"
   },
   {
    "duration": 51,
    "start_time": "2022-09-06T18:00:32.810Z"
   },
   {
    "duration": 4,
    "start_time": "2022-09-06T18:00:32.863Z"
   },
   {
    "duration": 6,
    "start_time": "2022-09-06T18:00:32.868Z"
   },
   {
    "duration": 67,
    "start_time": "2022-09-06T18:00:32.876Z"
   },
   {
    "duration": 182,
    "start_time": "2022-09-06T18:00:32.945Z"
   },
   {
    "duration": 3148,
    "start_time": "2022-09-06T18:01:17.735Z"
   },
   {
    "duration": 2229,
    "start_time": "2022-09-06T18:01:20.885Z"
   },
   {
    "duration": 14,
    "start_time": "2022-09-06T18:01:23.116Z"
   },
   {
    "duration": 457,
    "start_time": "2022-09-06T18:01:23.132Z"
   },
   {
    "duration": 29,
    "start_time": "2022-09-06T18:01:23.592Z"
   },
   {
    "duration": 232,
    "start_time": "2022-09-06T18:01:23.623Z"
   },
   {
    "duration": 14,
    "start_time": "2022-09-06T18:01:23.857Z"
   },
   {
    "duration": 14,
    "start_time": "2022-09-06T18:01:23.872Z"
   },
   {
    "duration": 24,
    "start_time": "2022-09-06T18:01:23.888Z"
   },
   {
    "duration": 73,
    "start_time": "2022-09-06T18:01:23.914Z"
   },
   {
    "duration": 5,
    "start_time": "2022-09-06T18:01:23.989Z"
   },
   {
    "duration": 27,
    "start_time": "2022-09-06T18:01:23.996Z"
   },
   {
    "duration": 91,
    "start_time": "2022-09-06T18:01:24.025Z"
   },
   {
    "duration": 171,
    "start_time": "2022-09-06T18:01:24.118Z"
   },
   {
    "duration": 3309,
    "start_time": "2022-09-06T18:02:45.885Z"
   },
   {
    "duration": 2287,
    "start_time": "2022-09-06T18:02:49.196Z"
   },
   {
    "duration": 12,
    "start_time": "2022-09-06T18:02:51.485Z"
   },
   {
    "duration": 411,
    "start_time": "2022-09-06T18:02:51.499Z"
   },
   {
    "duration": 28,
    "start_time": "2022-09-06T18:02:51.912Z"
   },
   {
    "duration": 238,
    "start_time": "2022-09-06T18:02:51.941Z"
   },
   {
    "duration": 15,
    "start_time": "2022-09-06T18:02:52.181Z"
   },
   {
    "duration": 23,
    "start_time": "2022-09-06T18:02:52.197Z"
   },
   {
    "duration": 29,
    "start_time": "2022-09-06T18:02:52.221Z"
   },
   {
    "duration": 71,
    "start_time": "2022-09-06T18:02:52.253Z"
   },
   {
    "duration": 3,
    "start_time": "2022-09-06T18:02:52.326Z"
   },
   {
    "duration": 10,
    "start_time": "2022-09-06T18:02:52.331Z"
   },
   {
    "duration": 70,
    "start_time": "2022-09-06T18:02:52.343Z"
   },
   {
    "duration": 177,
    "start_time": "2022-09-06T18:02:52.415Z"
   },
   {
    "duration": 3213,
    "start_time": "2022-09-06T18:03:27.312Z"
   },
   {
    "duration": 2256,
    "start_time": "2022-09-06T18:03:30.527Z"
   },
   {
    "duration": 12,
    "start_time": "2022-09-06T18:03:32.785Z"
   },
   {
    "duration": 406,
    "start_time": "2022-09-06T18:03:32.799Z"
   },
   {
    "duration": 26,
    "start_time": "2022-09-06T18:03:33.208Z"
   },
   {
    "duration": 230,
    "start_time": "2022-09-06T18:03:33.236Z"
   },
   {
    "duration": 14,
    "start_time": "2022-09-06T18:03:33.468Z"
   },
   {
    "duration": 27,
    "start_time": "2022-09-06T18:03:33.483Z"
   },
   {
    "duration": 18,
    "start_time": "2022-09-06T18:03:33.512Z"
   },
   {
    "duration": 57,
    "start_time": "2022-09-06T18:03:33.532Z"
   },
   {
    "duration": 4,
    "start_time": "2022-09-06T18:03:33.591Z"
   },
   {
    "duration": 13,
    "start_time": "2022-09-06T18:03:33.597Z"
   },
   {
    "duration": 66,
    "start_time": "2022-09-06T18:03:33.612Z"
   },
   {
    "duration": 182,
    "start_time": "2022-09-06T18:03:33.681Z"
   },
   {
    "duration": 3373,
    "start_time": "2022-09-06T18:03:49.781Z"
   },
   {
    "duration": 2255,
    "start_time": "2022-09-06T18:03:53.156Z"
   },
   {
    "duration": 13,
    "start_time": "2022-09-06T18:03:55.413Z"
   },
   {
    "duration": 407,
    "start_time": "2022-09-06T18:03:55.428Z"
   },
   {
    "duration": 26,
    "start_time": "2022-09-06T18:03:55.838Z"
   },
   {
    "duration": 244,
    "start_time": "2022-09-06T18:03:55.866Z"
   },
   {
    "duration": 15,
    "start_time": "2022-09-06T18:03:56.111Z"
   },
   {
    "duration": 16,
    "start_time": "2022-09-06T18:03:56.128Z"
   },
   {
    "duration": 15,
    "start_time": "2022-09-06T18:03:56.145Z"
   },
   {
    "duration": 73,
    "start_time": "2022-09-06T18:03:56.162Z"
   },
   {
    "duration": 4,
    "start_time": "2022-09-06T18:03:56.237Z"
   },
   {
    "duration": 8,
    "start_time": "2022-09-06T18:03:56.242Z"
   },
   {
    "duration": 67,
    "start_time": "2022-09-06T18:03:56.252Z"
   },
   {
    "duration": 191,
    "start_time": "2022-09-06T18:03:56.321Z"
   },
   {
    "duration": 45,
    "start_time": "2022-09-06T18:05:09.542Z"
   },
   {
    "duration": 7,
    "start_time": "2022-09-06T18:05:24.064Z"
   },
   {
    "duration": 6,
    "start_time": "2022-09-06T18:05:28.326Z"
   },
   {
    "duration": 3010,
    "start_time": "2022-09-06T18:05:37.238Z"
   },
   {
    "duration": 2213,
    "start_time": "2022-09-06T18:05:42.776Z"
   },
   {
    "duration": 12,
    "start_time": "2022-09-06T18:05:52.681Z"
   },
   {
    "duration": 418,
    "start_time": "2022-09-06T18:05:56.182Z"
   },
   {
    "duration": 26,
    "start_time": "2022-09-06T18:06:03.398Z"
   },
   {
    "duration": 212,
    "start_time": "2022-09-06T18:06:04.604Z"
   },
   {
    "duration": 14,
    "start_time": "2022-09-06T18:06:08.383Z"
   },
   {
    "duration": 7,
    "start_time": "2022-09-06T18:06:09.753Z"
   },
   {
    "duration": 10,
    "start_time": "2022-09-06T18:06:14.635Z"
   },
   {
    "duration": 51,
    "start_time": "2022-09-06T18:07:12.238Z"
   },
   {
    "duration": 3,
    "start_time": "2022-09-06T18:07:13.438Z"
   },
   {
    "duration": 4,
    "start_time": "2022-09-06T18:07:14.531Z"
   },
   {
    "duration": 60,
    "start_time": "2022-09-06T18:07:16.248Z"
   },
   {
    "duration": 176,
    "start_time": "2022-09-06T18:07:17.948Z"
   },
   {
    "duration": 44,
    "start_time": "2022-09-06T18:07:31.814Z"
   },
   {
    "duration": 3242,
    "start_time": "2022-09-06T18:08:04.733Z"
   },
   {
    "duration": 2205,
    "start_time": "2022-09-06T18:08:07.977Z"
   },
   {
    "duration": 11,
    "start_time": "2022-09-06T18:08:10.184Z"
   },
   {
    "duration": 419,
    "start_time": "2022-09-06T18:08:10.197Z"
   },
   {
    "duration": 26,
    "start_time": "2022-09-06T18:08:10.618Z"
   },
   {
    "duration": 229,
    "start_time": "2022-09-06T18:08:10.646Z"
   },
   {
    "duration": 14,
    "start_time": "2022-09-06T18:08:10.876Z"
   },
   {
    "duration": 18,
    "start_time": "2022-09-06T18:08:10.892Z"
   },
   {
    "duration": 10,
    "start_time": "2022-09-06T18:08:10.911Z"
   },
   {
    "duration": 56,
    "start_time": "2022-09-06T18:08:10.922Z"
   },
   {
    "duration": 3,
    "start_time": "2022-09-06T18:08:10.980Z"
   },
   {
    "duration": 7,
    "start_time": "2022-09-06T18:08:10.985Z"
   },
   {
    "duration": 71,
    "start_time": "2022-09-06T18:08:10.993Z"
   },
   {
    "duration": 181,
    "start_time": "2022-09-06T18:08:11.068Z"
   },
   {
    "duration": 3099,
    "start_time": "2022-09-06T18:08:46.634Z"
   },
   {
    "duration": 2232,
    "start_time": "2022-09-06T18:08:49.735Z"
   },
   {
    "duration": 10,
    "start_time": "2022-09-06T18:08:51.969Z"
   },
   {
    "duration": 400,
    "start_time": "2022-09-06T18:08:51.981Z"
   },
   {
    "duration": 29,
    "start_time": "2022-09-06T18:08:52.383Z"
   },
   {
    "duration": 220,
    "start_time": "2022-09-06T18:08:52.413Z"
   },
   {
    "duration": 13,
    "start_time": "2022-09-06T18:08:52.635Z"
   },
   {
    "duration": 8,
    "start_time": "2022-09-06T18:08:52.650Z"
   },
   {
    "duration": 15,
    "start_time": "2022-09-06T18:08:52.660Z"
   },
   {
    "duration": 71,
    "start_time": "2022-09-06T18:08:52.676Z"
   },
   {
    "duration": 4,
    "start_time": "2022-09-06T18:08:52.748Z"
   },
   {
    "duration": 5,
    "start_time": "2022-09-06T18:08:52.754Z"
   },
   {
    "duration": 68,
    "start_time": "2022-09-06T18:08:52.761Z"
   },
   {
    "duration": 168,
    "start_time": "2022-09-06T18:08:52.832Z"
   },
   {
    "duration": 3042,
    "start_time": "2022-09-06T18:09:20.642Z"
   },
   {
    "duration": 2191,
    "start_time": "2022-09-06T18:09:23.686Z"
   },
   {
    "duration": 13,
    "start_time": "2022-09-06T18:09:25.879Z"
   },
   {
    "duration": 410,
    "start_time": "2022-09-06T18:09:25.894Z"
   },
   {
    "duration": 26,
    "start_time": "2022-09-06T18:09:26.308Z"
   },
   {
    "duration": 236,
    "start_time": "2022-09-06T18:09:26.336Z"
   },
   {
    "duration": 13,
    "start_time": "2022-09-06T18:09:26.574Z"
   },
   {
    "duration": 47,
    "start_time": "2022-09-06T18:09:26.589Z"
   },
   {
    "duration": 14,
    "start_time": "2022-09-06T18:09:26.638Z"
   },
   {
    "duration": 100,
    "start_time": "2022-09-06T18:09:26.654Z"
   },
   {
    "duration": 4,
    "start_time": "2022-09-06T18:09:26.755Z"
   },
   {
    "duration": 35,
    "start_time": "2022-09-06T18:09:26.760Z"
   },
   {
    "duration": 75,
    "start_time": "2022-09-06T18:09:26.797Z"
   },
   {
    "duration": 192,
    "start_time": "2022-09-06T18:09:26.874Z"
   },
   {
    "duration": 3346,
    "start_time": "2022-09-06T18:10:00.898Z"
   },
   {
    "duration": 2210,
    "start_time": "2022-09-06T18:10:04.246Z"
   },
   {
    "duration": 12,
    "start_time": "2022-09-06T18:10:06.458Z"
   },
   {
    "duration": 404,
    "start_time": "2022-09-06T18:10:06.473Z"
   },
   {
    "duration": 30,
    "start_time": "2022-09-06T18:10:06.879Z"
   },
   {
    "duration": 239,
    "start_time": "2022-09-06T18:10:06.911Z"
   },
   {
    "duration": 14,
    "start_time": "2022-09-06T18:10:07.152Z"
   },
   {
    "duration": 9,
    "start_time": "2022-09-06T18:10:07.168Z"
   },
   {
    "duration": 33,
    "start_time": "2022-09-06T18:10:07.179Z"
   },
   {
    "duration": 72,
    "start_time": "2022-09-06T18:10:07.216Z"
   },
   {
    "duration": 5,
    "start_time": "2022-09-06T18:10:07.290Z"
   },
   {
    "duration": 14,
    "start_time": "2022-09-06T18:10:07.297Z"
   },
   {
    "duration": 72,
    "start_time": "2022-09-06T18:10:07.313Z"
   },
   {
    "duration": 174,
    "start_time": "2022-09-06T18:10:07.387Z"
   },
   {
    "duration": 3139,
    "start_time": "2022-09-06T18:25:51.235Z"
   },
   {
    "duration": 2283,
    "start_time": "2022-09-06T18:25:54.376Z"
   },
   {
    "duration": 12,
    "start_time": "2022-09-06T18:25:56.660Z"
   },
   {
    "duration": 440,
    "start_time": "2022-09-06T18:25:56.674Z"
   },
   {
    "duration": 28,
    "start_time": "2022-09-06T18:25:57.117Z"
   },
   {
    "duration": 282,
    "start_time": "2022-09-06T18:25:57.146Z"
   },
   {
    "duration": 23,
    "start_time": "2022-09-06T18:25:57.430Z"
   },
   {
    "duration": 16,
    "start_time": "2022-09-06T18:25:57.455Z"
   },
   {
    "duration": 19,
    "start_time": "2022-09-06T18:25:57.473Z"
   },
   {
    "duration": 82,
    "start_time": "2022-09-06T18:25:57.494Z"
   },
   {
    "duration": 3,
    "start_time": "2022-09-06T18:25:57.578Z"
   },
   {
    "duration": 6,
    "start_time": "2022-09-06T18:25:57.583Z"
   },
   {
    "duration": 86,
    "start_time": "2022-09-06T18:25:57.590Z"
   },
   {
    "duration": 194,
    "start_time": "2022-09-06T18:25:57.679Z"
   },
   {
    "duration": 3313,
    "start_time": "2022-09-06T18:31:35.747Z"
   },
   {
    "duration": 2225,
    "start_time": "2022-09-06T18:31:39.062Z"
   },
   {
    "duration": 11,
    "start_time": "2022-09-06T18:31:41.289Z"
   },
   {
    "duration": 401,
    "start_time": "2022-09-06T18:31:41.302Z"
   },
   {
    "duration": 25,
    "start_time": "2022-09-06T18:31:41.710Z"
   },
   {
    "duration": 223,
    "start_time": "2022-09-06T18:31:41.737Z"
   },
   {
    "duration": 13,
    "start_time": "2022-09-06T18:31:41.962Z"
   },
   {
    "duration": 23,
    "start_time": "2022-09-06T18:31:41.976Z"
   },
   {
    "duration": 25,
    "start_time": "2022-09-06T18:31:42.001Z"
   },
   {
    "duration": 71,
    "start_time": "2022-09-06T18:31:42.028Z"
   },
   {
    "duration": 4,
    "start_time": "2022-09-06T18:31:42.100Z"
   },
   {
    "duration": 21,
    "start_time": "2022-09-06T18:31:42.105Z"
   },
   {
    "duration": 78,
    "start_time": "2022-09-06T18:31:42.128Z"
   },
   {
    "duration": 162,
    "start_time": "2022-09-06T18:31:42.209Z"
   },
   {
    "duration": 3152,
    "start_time": "2022-09-06T18:49:57.896Z"
   },
   {
    "duration": 2250,
    "start_time": "2022-09-06T18:50:01.050Z"
   },
   {
    "duration": 12,
    "start_time": "2022-09-06T18:50:03.301Z"
   },
   {
    "duration": 407,
    "start_time": "2022-09-06T18:50:03.314Z"
   },
   {
    "duration": 26,
    "start_time": "2022-09-06T18:50:03.723Z"
   },
   {
    "duration": 240,
    "start_time": "2022-09-06T18:50:03.751Z"
   },
   {
    "duration": 22,
    "start_time": "2022-09-06T18:50:03.992Z"
   },
   {
    "duration": 7,
    "start_time": "2022-09-06T18:50:04.016Z"
   },
   {
    "duration": 12,
    "start_time": "2022-09-06T18:50:04.025Z"
   },
   {
    "duration": 56,
    "start_time": "2022-09-06T18:50:04.040Z"
   },
   {
    "duration": 4,
    "start_time": "2022-09-06T18:50:04.110Z"
   },
   {
    "duration": 15,
    "start_time": "2022-09-06T18:50:04.116Z"
   },
   {
    "duration": 59,
    "start_time": "2022-09-06T18:50:04.133Z"
   },
   {
    "duration": 169,
    "start_time": "2022-09-06T18:50:04.193Z"
   },
   {
    "duration": 3071,
    "start_time": "2022-09-06T18:52:33.201Z"
   },
   {
    "duration": 2207,
    "start_time": "2022-09-06T18:52:36.274Z"
   },
   {
    "duration": 11,
    "start_time": "2022-09-06T18:52:38.483Z"
   },
   {
    "duration": 431,
    "start_time": "2022-09-06T18:52:38.495Z"
   },
   {
    "duration": 25,
    "start_time": "2022-09-06T18:52:38.928Z"
   },
   {
    "duration": 245,
    "start_time": "2022-09-06T18:52:38.954Z"
   },
   {
    "duration": 20,
    "start_time": "2022-09-06T18:52:39.200Z"
   },
   {
    "duration": 27,
    "start_time": "2022-09-06T18:52:39.222Z"
   },
   {
    "duration": 26,
    "start_time": "2022-09-06T18:52:39.250Z"
   },
   {
    "duration": 84,
    "start_time": "2022-09-06T18:52:39.279Z"
   },
   {
    "duration": 3,
    "start_time": "2022-09-06T18:52:39.365Z"
   },
   {
    "duration": 27,
    "start_time": "2022-09-06T18:52:39.370Z"
   },
   {
    "duration": 75,
    "start_time": "2022-09-06T18:52:39.398Z"
   },
   {
    "duration": 155,
    "start_time": "2022-09-06T18:52:39.475Z"
   }
  ],
  "kernelspec": {
   "display_name": "Python 3 (ipykernel)",
   "language": "python",
   "name": "python3"
  },
  "language_info": {
   "codemirror_mode": {
    "name": "ipython",
    "version": 3
   },
   "file_extension": ".py",
   "mimetype": "text/x-python",
   "name": "python",
   "nbconvert_exporter": "python",
   "pygments_lexer": "ipython3",
   "version": "3.9.7"
  },
  "toc": {
   "base_numbering": 1,
   "nav_menu": {},
   "number_sections": true,
   "sideBar": true,
   "skip_h1_title": true,
   "title_cell": "Содержание",
   "title_sidebar": "Contents",
   "toc_cell": true,
   "toc_position": {
    "height": "calc(100% - 180px)",
    "left": "10px",
    "top": "150px",
    "width": "302.391px"
   },
   "toc_section_display": true,
   "toc_window_display": false
  }
 },
 "nbformat": 4,
 "nbformat_minor": 2
}
